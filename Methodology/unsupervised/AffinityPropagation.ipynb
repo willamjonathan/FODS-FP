{
  "nbformat": 4,
  "nbformat_minor": 0,
  "metadata": {
    "colab": {
      "provenance": []
    },
    "kernelspec": {
      "name": "python3",
      "display_name": "Python 3"
    },
    "language_info": {
      "name": "python"
    }
  },
  "cells": [
    {
      "cell_type": "code",
      "execution_count": null,
      "metadata": {
        "id": "rM87_qZO3bHn"
      },
      "outputs": [],
      "source": [
        "#import modules - AFFINITY PROPAGATION\n",
        "#WILLIAM JONATHAN M , NIM: 2502045683\n",
        "from sklearn.cluster import AffinityPropagation\n",
        "from sklearn import metrics\n",
        "import matplotlib.pyplot as plt\n",
        "from itertools import cycle\n",
        "import pandas as pd\n",
        "import numpy as np"
      ]
    },
    {
      "cell_type": "code",
      "source": [
        "#reading the data from the csv file\n",
        "df = pd.read_csv('10YearPeriodHIV.csv')\n",
        "df.info()"
      ],
      "metadata": {
        "colab": {
          "base_uri": "https://localhost:8080/"
        },
        "id": "qGHIy3gv3dXL",
        "outputId": "df3e008e-2d21-4e5f-a50e-7c61c921ae4e"
      },
      "execution_count": null,
      "outputs": [
        {
          "output_type": "stream",
          "name": "stdout",
          "text": [
            "<class 'pandas.core.frame.DataFrame'>\n",
            "RangeIndex: 75 entries, 0 to 74\n",
            "Data columns (total 56 columns):\n",
            " #   Column                 Non-Null Count  Dtype  \n",
            "---  ------                 --------------  -----  \n",
            " 0   Location               75 non-null     object \n",
            " 1   Period2011             75 non-null     int64  \n",
            " 2   ART coverage 2011      75 non-null     float64\n",
            " 3   Death by HIV 2011      75 non-null     float64\n",
            " 4   People with HIV 2011   75 non-null     float64\n",
            " 5   Total Population 2011  75 non-null     float64\n",
            " 6   Period2012             75 non-null     int64  \n",
            " 7   ART coverage 2012      75 non-null     float64\n",
            " 8   Death by HIV 2012      75 non-null     float64\n",
            " 9   People with HIV 2012   75 non-null     float64\n",
            " 10  Total Population 2012  75 non-null     float64\n",
            " 11  Period2013             75 non-null     int64  \n",
            " 12  ART coverage 2013      75 non-null     float64\n",
            " 13  Death by HIV 2013      75 non-null     float64\n",
            " 14  People with HIV 2013   75 non-null     float64\n",
            " 15  Total Population 2013  75 non-null     float64\n",
            " 16  Period2014             75 non-null     int64  \n",
            " 17  ART coverage 2014      75 non-null     float64\n",
            " 18  Death by HIV 2014      75 non-null     float64\n",
            " 19  People with HIV 2014   75 non-null     float64\n",
            " 20  Total Population 2014  75 non-null     float64\n",
            " 21  Period2015             75 non-null     int64  \n",
            " 22  ART coverage 2015      75 non-null     float64\n",
            " 23  Death by HIV 2015      75 non-null     float64\n",
            " 24  People with HIV 2015   75 non-null     float64\n",
            " 25  Total Population 2015  75 non-null     float64\n",
            " 26  Period2016             75 non-null     int64  \n",
            " 27  ART coverage 2016      75 non-null     float64\n",
            " 28  Death by HIV 2016      75 non-null     float64\n",
            " 29  People with HIV 2016   75 non-null     float64\n",
            " 30  Total Population 2016  75 non-null     float64\n",
            " 31  Period2017             75 non-null     int64  \n",
            " 32  ART coverage 2017      75 non-null     float64\n",
            " 33  Death by HIV 2017      75 non-null     float64\n",
            " 34  People with HIV 2017   75 non-null     float64\n",
            " 35  Total Population 2017  75 non-null     float64\n",
            " 36  Period2018             75 non-null     int64  \n",
            " 37  ART coverage 2018      75 non-null     float64\n",
            " 38  Death by HIV 2018      75 non-null     float64\n",
            " 39  People with HIV 2018   75 non-null     float64\n",
            " 40  Total Population 2018  75 non-null     float64\n",
            " 41  Period2019             75 non-null     int64  \n",
            " 42  ART coverage 2019      75 non-null     float64\n",
            " 43  Death by HIV 2019      75 non-null     float64\n",
            " 44  People with HIV 2019   75 non-null     float64\n",
            " 45  Total Population 2019  75 non-null     float64\n",
            " 46  Period2020             75 non-null     int64  \n",
            " 47  ART coverage 2020      75 non-null     float64\n",
            " 48  Death by HIV 2020      75 non-null     float64\n",
            " 49  People with HIV 2020   75 non-null     float64\n",
            " 50  Total Population 2020  75 non-null     float64\n",
            " 51  Period2021             75 non-null     int64  \n",
            " 52  ART coverage 2021      75 non-null     float64\n",
            " 53  Death by HIV 2021      75 non-null     float64\n",
            " 54  People with HIV 2021   75 non-null     float64\n",
            " 55  Total Population 2021  75 non-null     float64\n",
            "dtypes: float64(44), int64(11), object(1)\n",
            "memory usage: 32.9+ KB\n"
          ]
        }
      ]
    },
    {
      "cell_type": "code",
      "source": [
        "X = df.iloc[:50,[55,54]]\n",
        "print(X)\n",
        "# X = df.iloc[30:81,[1,7]]\n",
        "#plotting\n",
        "x_= df.iloc[:50,55]\n",
        "y_= df.iloc[:50,54]\n",
        "plt.scatter(\n",
        "   x_, y_, \n",
        "   c='white', marker='o',\n",
        "   edgecolor='black', s=50\n",
        ")\n",
        "plt.xlabel(\"Population 2021\")\n",
        "plt.ylabel(\"People with HIV 2021\")\n",
        "plt.show()"
      ],
      "metadata": {
        "colab": {
          "base_uri": "https://localhost:8080/",
          "height": 1000
        },
        "id": "vLUunuu-3laL",
        "outputId": "1ba064cb-dc3b-49ce-e56b-6e58d34c4a99"
      },
      "execution_count": null,
      "outputs": [
        {
          "output_type": "stream",
          "name": "stdout",
          "text": [
            "    Total Population 2021  People with HIV 2021\n",
            "0               1449891.0               66000.0\n",
            "1               9749625.0               13000.0\n",
            "2              33933611.0              320000.0\n",
            "3               8141343.0               76000.0\n",
            "4               1883162.0                7800.0\n",
            "5              18275704.0                 810.0\n",
            "6               2015490.0               40000.0\n",
            "7               5180208.0               34000.0\n",
            "8              19002586.0               35000.0\n",
            "9                888456.0                 200.0\n",
            "10             11935764.0                5400.0\n",
            "11              4775110.0                9400.0\n",
            "12               902899.0                1400.0\n",
            "13             51265841.0              170000.0\n",
            "14             39835428.0               11000.0\n",
            "15             32776195.0               82000.0\n",
            "16             27224262.0              500000.0\n",
            "17              9340314.0               28000.0\n",
            "18              2811666.0                1400.0\n",
            "19              6702379.0               11000.0\n",
            "20              6899125.0                3200.0\n",
            "21              1748295.0                 500.0\n",
            "22             10953714.0               78000.0\n",
            "23             13497237.0              120000.0\n",
            "24              2930524.0                 500.0\n",
            "25               620173.0                 500.0\n",
            "26              8478242.0              110000.0\n",
            "27             47123533.0             1400000.0\n",
            "28             11541683.0              150000.0\n",
            "29              2278829.0               47000.0\n",
            "30             20855724.0              110000.0\n",
            "31              7219641.0               16000.0\n",
            "32             17196308.0               40000.0\n",
            "33             12255429.0               80000.0\n",
            "34               404915.0                3500.0\n",
            "35             28427333.0               60000.0\n",
            "36             16914985.0              110000.0\n",
            "37            130262220.0              360000.0\n",
            "38              3708610.0                8100.0\n",
            "39             11317498.0               36000.0\n",
            "40             21497097.0               88000.0\n",
            "41              6769151.0                3000.0\n",
            "42             19647681.0              990000.0\n",
            "43               561901.0                2600.0\n",
            "44              1172369.0              220000.0\n",
            "45              6958538.0                8300.0\n",
            "46             12451031.0               69000.0\n",
            "47             54985702.0             1400000.0\n",
            "48             15092171.0             1300000.0\n",
            "49              5139053.0               17000.0\n"
          ]
        },
        {
          "output_type": "display_data",
          "data": {
            "text/plain": [
              "<Figure size 432x288 with 1 Axes>"
            ],
            "image/png": "[encoded data removed]"
          },
          "metadata": {
            "needs_background": "light"
          }
        }
      ]
    },
    {
      "cell_type": "code",
      "source": [
        "#clustering\n",
        "clustering = AffinityPropagation(damping=0.5).fit(X)\n",
        "clustering\n",
        "labels_true= clustering.predict(X)\n",
        "print(labels_true)\n",
        "z = X.to_numpy()\n",
        "print(z)"
      ],
      "metadata": {
        "colab": {
          "base_uri": "https://localhost:8080/"
        },
        "id": "2phOOW5G38aT",
        "outputId": "0c9f82b1-c2a1-45bb-ca65-7babef445a76"
      },
      "execution_count": null,
      "outputs": [
        {
          "output_type": "stream",
          "name": "stdout",
          "text": [
            "[4 5 2 3 4 0 4 3 0 4 5 3 4 1 2 2 2 5 4 3 3 4 5 5 4 4 3 1 5 4 0 3 0 5 4 2 0\n",
            " 6 4 5 0 3 0 4 4 3 5 1 0 3]\n",
            "[[1.4498910e+06 6.6000000e+04]\n",
            " [9.7496250e+06 1.3000000e+04]\n",
            " [3.3933611e+07 3.2000000e+05]\n",
            " [8.1413430e+06 7.6000000e+04]\n",
            " [1.8831620e+06 7.8000000e+03]\n",
            " [1.8275704e+07 8.1000000e+02]\n",
            " [2.0154900e+06 4.0000000e+04]\n",
            " [5.1802080e+06 3.4000000e+04]\n",
            " [1.9002586e+07 3.5000000e+04]\n",
            " [8.8845600e+05 2.0000000e+02]\n",
            " [1.1935764e+07 5.4000000e+03]\n",
            " [4.7751100e+06 9.4000000e+03]\n",
            " [9.0289900e+05 1.4000000e+03]\n",
            " [5.1265841e+07 1.7000000e+05]\n",
            " [3.9835428e+07 1.1000000e+04]\n",
            " [3.2776195e+07 8.2000000e+04]\n",
            " [2.7224262e+07 5.0000000e+05]\n",
            " [9.3403140e+06 2.8000000e+04]\n",
            " [2.8116660e+06 1.4000000e+03]\n",
            " [6.7023790e+06 1.1000000e+04]\n",
            " [6.8991250e+06 3.2000000e+03]\n",
            " [1.7482950e+06 5.0000000e+02]\n",
            " [1.0953714e+07 7.8000000e+04]\n",
            " [1.3497237e+07 1.2000000e+05]\n",
            " [2.9305240e+06 5.0000000e+02]\n",
            " [6.2017300e+05 5.0000000e+02]\n",
            " [8.4782420e+06 1.1000000e+05]\n",
            " [4.7123533e+07 1.4000000e+06]\n",
            " [1.1541683e+07 1.5000000e+05]\n",
            " [2.2788290e+06 4.7000000e+04]\n",
            " [2.0855724e+07 1.1000000e+05]\n",
            " [7.2196410e+06 1.6000000e+04]\n",
            " [1.7196308e+07 4.0000000e+04]\n",
            " [1.2255429e+07 8.0000000e+04]\n",
            " [4.0491500e+05 3.5000000e+03]\n",
            " [2.8427333e+07 6.0000000e+04]\n",
            " [1.6914985e+07 1.1000000e+05]\n",
            " [1.3026222e+08 3.6000000e+05]\n",
            " [3.7086100e+06 8.1000000e+03]\n",
            " [1.1317498e+07 3.6000000e+04]\n",
            " [2.1497097e+07 8.8000000e+04]\n",
            " [6.7691510e+06 3.0000000e+03]\n",
            " [1.9647681e+07 9.9000000e+05]\n",
            " [5.6190100e+05 2.6000000e+03]\n",
            " [1.1723690e+06 2.2000000e+05]\n",
            " [6.9585380e+06 8.3000000e+03]\n",
            " [1.2451031e+07 6.9000000e+04]\n",
            " [5.4985702e+07 1.4000000e+06]\n",
            " [1.5092171e+07 1.3000000e+06]\n",
            " [5.1390530e+06 1.7000000e+04]]\n"
          ]
        }
      ]
    },
    {
      "cell_type": "code",
      "source": [
        "#CLUSTERING\n",
        "cluster_centers_indices = clustering.cluster_centers_indices_\n",
        "labels = clustering.labels_\n",
        "\n",
        "\n",
        "n_clusters_ = len(cluster_centers_indices)\n",
        "# n_clusters_ = 3\n",
        "\n",
        "print(\"Estimated number of clusters: %d\" % n_clusters_)\n",
        "print(\"Homogeneity: %0.3f\" % metrics.homogeneity_score(labels_true, labels))\n",
        "print(\"Completeness: %0.3f\" % metrics.completeness_score(labels_true, labels))\n",
        "print(\"V-measure: %0.3f\" % metrics.v_measure_score(labels_true, labels))\n",
        "print(\"Adjusted Rand Index: %0.3f\" % metrics.adjusted_rand_score(labels_true, labels))\n",
        "print(\n",
        "    \"Adjusted Mutual Information: %0.3f\"\n",
        "    % metrics.adjusted_mutual_info_score(labels_true, labels)\n",
        ")\n",
        "print(\n",
        "    \"Silhouette Coefficient: %0.3f\"\n",
        "    % metrics.silhouette_score(X, labels, metric=\"sqeuclidean\")\n",
        ")"
      ],
      "metadata": {
        "colab": {
          "base_uri": "https://localhost:8080/"
        },
        "id": "hPzGwWlM4Dwq",
        "outputId": "65c60bd5-a60c-4fa4-9999-db029ad753b4"
      },
      "execution_count": null,
      "outputs": [
        {
          "output_type": "stream",
          "name": "stdout",
          "text": [
            "Estimated number of clusters: 7\n",
            "Homogeneity: 1.000\n",
            "Completeness: 1.000\n",
            "V-measure: 1.000\n",
            "Adjusted Rand Index: 1.000\n",
            "Adjusted Mutual Information: 1.000\n",
            "Silhouette Coefficient: 0.775\n"
          ]
        }
      ]
    },
    {
      "cell_type": "code",
      "source": [
        "#PLOTTING\n",
        "plt.close(\"all\")\n",
        "plt.figure(1)\n",
        "plt.clf()\n",
        "\n",
        "colors = cycle(\"bgrcmykbgrcmykbgrcmykbgrcmyk\")\n",
        "for k, col in zip(range(n_clusters_), colors):\n",
        "    class_members = labels == k\n",
        "    cluster_center = z[cluster_centers_indices[k]]\n",
        "    plt.plot(z[class_members, 1], z[class_members, 0], col + \".\")\n",
        "    plt.plot(\n",
        "        cluster_center[1],\n",
        "        cluster_center[0],\n",
        "        \"o\",\n",
        "        markerfacecolor=col,\n",
        "        markeredgecolor=\"k\",\n",
        "        markersize=6,\n",
        "    )\n",
        "    for x in z[class_members]:\n",
        "        plt.plot([cluster_center[1], x[1]], [cluster_center[0], x[0]], col)\n",
        "\n",
        "plt.title(\"Estimated number of clusters: %d\" % n_clusters_)\n",
        "plt.xlabel(\"Population\")\n",
        "plt.ylabel(\"People with HIV\")\n",
        "plt.show()\n",
        "plt.show()\n",
        "\n",
        "#REFERENCE THAT I USED:\n",
        "#https://scikit-learn.org/stable/auto_examples/cluster/plot_affinity_propagation.html"
      ],
      "metadata": {
        "colab": {
          "base_uri": "https://localhost:8080/",
          "height": 295
        },
        "id": "rQPD4LDe5zoB",
        "outputId": "dcc3ed31-d97a-444e-ef35-fa51e3244a3f"
      },
      "execution_count": null,
      "outputs": [
        {
          "output_type": "display_data",
          "data": {
            "text/plain": [
              "<Figure size 432x288 with 1 Axes>"
            ],
            "image/png": "[encoded data removed]"
          },
          "metadata": {
            "needs_background": "light"
          }
        }
      ]
    },
    {
      "cell_type": "code",
      "source": [
        "from sklearn.metrics import davies_bouldin_score\n",
        "from sklearn.metrics import calinski_harabasz_score\n",
        "from sklearn.metrics import silhouette_score\n",
        "print(\"David_bouldin_score: \",davies_bouldin_score(X, labels))\n",
        "print(\"Silhoutte_score: \", silhouette_score(X, labels))\n",
        "print(\"Calinski_harabasz_score: \",calinski_harabasz_score(X, labels))"
      ],
      "metadata": {
        "id": "ND_amOvW57qK",
        "colab": {
          "base_uri": "https://localhost:8080/"
        },
        "outputId": "e8af57dd-a597-40cd-ace7-fb36b2b4cbab"
      },
      "execution_count": null,
      "outputs": [
        {
          "output_type": "stream",
          "name": "stdout",
          "text": [
            "David_bouldin_score:  0.33496897677501813\n",
            "Silhoutte_score:  0.616597418120061\n",
            "Calinski_harabasz_score:  765.0686225928522\n"
          ]
        }
      ]
    }
  ]
}