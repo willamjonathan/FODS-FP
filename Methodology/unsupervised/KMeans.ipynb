{
  "nbformat": 4,
  "nbformat_minor": 0,
  "metadata": {
    "colab": {
      "provenance": []
    },
    "kernelspec": {
      "name": "python3",
      "display_name": "Python 3"
    },
    "language_info": {
      "name": "python"
    }
  },
  "cells": [
    {
      "cell_type": "code",
      "execution_count": null,
      "metadata": {
        "colab": {
          "base_uri": "https://localhost:8080/"
        },
        "id": "0kNqucTT6lRz",
        "outputId": "93e91cdb-c56d-4c3d-cc7a-9599eef1f7e2"
      },
      "outputs": [
        {
          "output_type": "stream",
          "name": "stdout",
          "text": [
            "Looking in indexes: https://pypi.org/simple, https://us-python.pkg.dev/colab-wheels/public/simple/\n",
            "Requirement already satisfied: kneed in /usr/local/lib/python3.8/dist-packages (0.8.1)\n",
            "Requirement already satisfied: scipy>=1.0.0 in /usr/local/lib/python3.8/dist-packages (from kneed) (1.7.3)\n",
            "Requirement already satisfied: numpy>=1.14.2 in /usr/local/lib/python3.8/dist-packages (from kneed) (1.21.6)\n"
          ]
        }
      ],
      "source": [
        "#using cleaned-HIV\n",
        "#import modules\n",
        "!pip install kneed\n",
        "import matplotlib.pyplot as plt\n",
        "from sklearn.datasets import make_blobs\n",
        "from sklearn.cluster import KMeans\n",
        "import pandas as pd\n",
        "from kneed import KneeLocator"
      ]
    },
    {
      "cell_type": "code",
      "source": [
        "df = pd.read_csv('10YearPeriodHIV.csv')\n",
        "df.info()\n",
        "df.head()"
      ],
      "metadata": {
        "colab": {
          "base_uri": "https://localhost:8080/",
          "height": 1000
        },
        "id": "0nAp5ODw6y3E",
        "outputId": "e3cda395-2e22-4b62-9be4-70a4420e2a29"
      },
      "execution_count": null,
      "outputs": [
        {
          "output_type": "stream",
          "name": "stdout",
          "text": [
            "<class 'pandas.core.frame.DataFrame'>\n",
            "RangeIndex: 75 entries, 0 to 74\n",
            "Data columns (total 56 columns):\n",
            " #   Column                 Non-Null Count  Dtype  \n",
            "---  ------                 --------------  -----  \n",
            " 0   Location               75 non-null     object \n",
            " 1   Period2011             75 non-null     int64  \n",
            " 2   ART coverage 2011      75 non-null     float64\n",
            " 3   Death by HIV 2011      75 non-null     float64\n",
            " 4   People with HIV 2011   75 non-null     float64\n",
            " 5   Total Population 2011  75 non-null     float64\n",
            " 6   Period2012             75 non-null     int64  \n",
            " 7   ART coverage 2012      75 non-null     float64\n",
            " 8   Death by HIV 2012      75 non-null     float64\n",
            " 9   People with HIV 2012   75 non-null     float64\n",
            " 10  Total Population 2012  75 non-null     float64\n",
            " 11  Period2013             75 non-null     int64  \n",
            " 12  ART coverage 2013      75 non-null     float64\n",
            " 13  Death by HIV 2013      75 non-null     float64\n",
            " 14  People with HIV 2013   75 non-null     float64\n",
            " 15  Total Population 2013  75 non-null     float64\n",
            " 16  Period2014             75 non-null     int64  \n",
            " 17  ART coverage 2014      75 non-null     float64\n",
            " 18  Death by HIV 2014      75 non-null     float64\n",
            " 19  People with HIV 2014   75 non-null     float64\n",
            " 20  Total Population 2014  75 non-null     float64\n",
            " 21  Period2015             75 non-null     int64  \n",
            " 22  ART coverage 2015      75 non-null     float64\n",
            " 23  Death by HIV 2015      75 non-null     float64\n",
            " 24  People with HIV 2015   75 non-null     float64\n",
            " 25  Total Population 2015  75 non-null     float64\n",
            " 26  Period2016             75 non-null     int64  \n",
            " 27  ART coverage 2016      75 non-null     float64\n",
            " 28  Death by HIV 2016      75 non-null     float64\n",
            " 29  People with HIV 2016   75 non-null     float64\n",
            " 30  Total Population 2016  75 non-null     float64\n",
            " 31  Period2017             75 non-null     int64  \n",
            " 32  ART coverage 2017      75 non-null     float64\n",
            " 33  Death by HIV 2017      75 non-null     float64\n",
            " 34  People with HIV 2017   75 non-null     float64\n",
            " 35  Total Population 2017  75 non-null     float64\n",
            " 36  Period2018             75 non-null     int64  \n",
            " 37  ART coverage 2018      75 non-null     float64\n",
            " 38  Death by HIV 2018      75 non-null     float64\n",
            " 39  People with HIV 2018   75 non-null     float64\n",
            " 40  Total Population 2018  75 non-null     float64\n",
            " 41  Period2019             75 non-null     int64  \n",
            " 42  ART coverage 2019      75 non-null     float64\n",
            " 43  Death by HIV 2019      75 non-null     float64\n",
            " 44  People with HIV 2019   75 non-null     float64\n",
            " 45  Total Population 2019  75 non-null     float64\n",
            " 46  Period2020             75 non-null     int64  \n",
            " 47  ART coverage 2020      75 non-null     float64\n",
            " 48  Death by HIV 2020      75 non-null     float64\n",
            " 49  People with HIV 2020   75 non-null     float64\n",
            " 50  Total Population 2020  75 non-null     float64\n",
            " 51  Period2021             75 non-null     int64  \n",
            " 52  ART coverage 2021      75 non-null     float64\n",
            " 53  Death by HIV 2021      75 non-null     float64\n",
            " 54  People with HIV 2021   75 non-null     float64\n",
            " 55  Total Population 2021  75 non-null     float64\n",
            "dtypes: float64(44), int64(11), object(1)\n",
            "memory usage: 32.9+ KB\n"
          ]
        },
        {
          "output_type": "execute_result",
          "data": {
            "text/plain": [
              "            Location  Period2011  ART coverage 2011  Death by HIV 2011  \\\n",
              "0  Equatorial Guinea        2011               10.0             1900.0   \n",
              "1         Tajikistan        2011               10.0              200.0   \n",
              "2             Angola        2011               10.0            16000.0   \n",
              "3       Sierra Leone        2011               11.0             4600.0   \n",
              "4             Latvia        2011               12.0              500.0   \n",
              "\n",
              "   People with HIV 2011  Total Population 2011  Period2012  ART coverage 2012  \\\n",
              "0               37000.0               986861.0        2012               15.0   \n",
              "1                6300.0              7697507.0        2012               12.0   \n",
              "2              260000.0             24220660.0        2012               12.0   \n",
              "3               71000.0              6563238.0        2012               11.0   \n",
              "4                4600.0              2059709.0        2012               14.0   \n",
              "\n",
              "   Death by HIV 2012  People with HIV 2012  ...  Period2020  \\\n",
              "0             2100.0               40000.0  ...        2020   \n",
              "1              200.0                7200.0  ...        2020   \n",
              "2            16000.0              270000.0  ...        2020   \n",
              "3             4400.0               72000.0  ...        2020   \n",
              "4              500.0                4800.0  ...        2020   \n",
              "\n",
              "   ART coverage 2020  Death by HIV 2020  People with HIV 2020  \\\n",
              "0               40.0             2300.0               64000.0   \n",
              "1               63.0              200.0               13000.0   \n",
              "2               35.0            16000.0              310000.0   \n",
              "3               50.0             3200.0               76000.0   \n",
              "4               41.0              100.0                7400.0   \n",
              "\n",
              "   Total Population 2020  Period2021  ART coverage 2021  Death by HIV 2021  \\\n",
              "0              1402985.0        2021               41.0             2300.0   \n",
              "1              9537642.0        2021               65.0              200.0   \n",
              "2             32866268.0        2021               41.0            15000.0   \n",
              "3              7976985.0        2021               61.0             3000.0   \n",
              "4              1900449.0        2021               39.0              100.0   \n",
              "\n",
              "   People with HIV 2021  Total Population 2021  \n",
              "0               66000.0              1449891.0  \n",
              "1               13000.0              9749625.0  \n",
              "2              320000.0             33933611.0  \n",
              "3               76000.0              8141343.0  \n",
              "4                7800.0              1883162.0  \n",
              "\n",
              "[5 rows x 56 columns]"
            ],
            "text/html": [
              "\n",
              "  <div id=\"df-b7a5d578-8526-43ca-8ca4-8a51d24c2c12\">\n",
              "    <div class=\"colab-df-container\">\n",
              "      <div>\n",
              "<style scoped>\n",
              "    .dataframe tbody tr th:only-of-type {\n",
              "        vertical-align: middle;\n",
              "    }\n",
              "\n",
              "    .dataframe tbody tr th {\n",
              "        vertical-align: top;\n",
              "    }\n",
              "\n",
              "    .dataframe thead th {\n",
              "        text-align: right;\n",
              "    }\n",
              "</style>\n",
              "<table border=\"1\" class=\"dataframe\">\n",
              "  <thead>\n",
              "    <tr style=\"text-align: right;\">\n",
              "      <th></th>\n",
              "      <th>Location</th>\n",
              "      <th>Period2011</th>\n",
              "      <th>ART coverage 2011</th>\n",
              "      <th>Death by HIV 2011</th>\n",
              "      <th>People with HIV 2011</th>\n",
              "      <th>Total Population 2011</th>\n",
              "      <th>Period2012</th>\n",
              "      <th>ART coverage 2012</th>\n",
              "      <th>Death by HIV 2012</th>\n",
              "      <th>People with HIV 2012</th>\n",
              "      <th>...</th>\n",
              "      <th>Period2020</th>\n",
              "      <th>ART coverage 2020</th>\n",
              "      <th>Death by HIV 2020</th>\n",
              "      <th>People with HIV 2020</th>\n",
              "      <th>Total Population 2020</th>\n",
              "      <th>Period2021</th>\n",
              "      <th>ART coverage 2021</th>\n",
              "      <th>Death by HIV 2021</th>\n",
              "      <th>People with HIV 2021</th>\n",
              "      <th>Total Population 2021</th>\n",
              "    </tr>\n",
              "  </thead>\n",
              "  <tbody>\n",
              "    <tr>\n",
              "      <th>0</th>\n",
              "      <td>Equatorial Guinea</td>\n",
              "      <td>2011</td>\n",
              "      <td>10.0</td>\n",
              "      <td>1900.0</td>\n",
              "      <td>37000.0</td>\n",
              "      <td>986861.0</td>\n",
              "      <td>2012</td>\n",
              "      <td>15.0</td>\n",
              "      <td>2100.0</td>\n",
              "      <td>40000.0</td>\n",
              "      <td>...</td>\n",
              "      <td>2020</td>\n",
              "      <td>40.0</td>\n",
              "      <td>2300.0</td>\n",
              "      <td>64000.0</td>\n",
              "      <td>1402985.0</td>\n",
              "      <td>2021</td>\n",
              "      <td>41.0</td>\n",
              "      <td>2300.0</td>\n",
              "      <td>66000.0</td>\n",
              "      <td>1449891.0</td>\n",
              "    </tr>\n",
              "    <tr>\n",
              "      <th>1</th>\n",
              "      <td>Tajikistan</td>\n",
              "      <td>2011</td>\n",
              "      <td>10.0</td>\n",
              "      <td>200.0</td>\n",
              "      <td>6300.0</td>\n",
              "      <td>7697507.0</td>\n",
              "      <td>2012</td>\n",
              "      <td>12.0</td>\n",
              "      <td>200.0</td>\n",
              "      <td>7200.0</td>\n",
              "      <td>...</td>\n",
              "      <td>2020</td>\n",
              "      <td>63.0</td>\n",
              "      <td>200.0</td>\n",
              "      <td>13000.0</td>\n",
              "      <td>9537642.0</td>\n",
              "      <td>2021</td>\n",
              "      <td>65.0</td>\n",
              "      <td>200.0</td>\n",
              "      <td>13000.0</td>\n",
              "      <td>9749625.0</td>\n",
              "    </tr>\n",
              "    <tr>\n",
              "      <th>2</th>\n",
              "      <td>Angola</td>\n",
              "      <td>2011</td>\n",
              "      <td>10.0</td>\n",
              "      <td>16000.0</td>\n",
              "      <td>260000.0</td>\n",
              "      <td>24220660.0</td>\n",
              "      <td>2012</td>\n",
              "      <td>12.0</td>\n",
              "      <td>16000.0</td>\n",
              "      <td>270000.0</td>\n",
              "      <td>...</td>\n",
              "      <td>2020</td>\n",
              "      <td>35.0</td>\n",
              "      <td>16000.0</td>\n",
              "      <td>310000.0</td>\n",
              "      <td>32866268.0</td>\n",
              "      <td>2021</td>\n",
              "      <td>41.0</td>\n",
              "      <td>15000.0</td>\n",
              "      <td>320000.0</td>\n",
              "      <td>33933611.0</td>\n",
              "    </tr>\n",
              "    <tr>\n",
              "      <th>3</th>\n",
              "      <td>Sierra Leone</td>\n",
              "      <td>2011</td>\n",
              "      <td>11.0</td>\n",
              "      <td>4600.0</td>\n",
              "      <td>71000.0</td>\n",
              "      <td>6563238.0</td>\n",
              "      <td>2012</td>\n",
              "      <td>11.0</td>\n",
              "      <td>4400.0</td>\n",
              "      <td>72000.0</td>\n",
              "      <td>...</td>\n",
              "      <td>2020</td>\n",
              "      <td>50.0</td>\n",
              "      <td>3200.0</td>\n",
              "      <td>76000.0</td>\n",
              "      <td>7976985.0</td>\n",
              "      <td>2021</td>\n",
              "      <td>61.0</td>\n",
              "      <td>3000.0</td>\n",
              "      <td>76000.0</td>\n",
              "      <td>8141343.0</td>\n",
              "    </tr>\n",
              "    <tr>\n",
              "      <th>4</th>\n",
              "      <td>Latvia</td>\n",
              "      <td>2011</td>\n",
              "      <td>12.0</td>\n",
              "      <td>500.0</td>\n",
              "      <td>4600.0</td>\n",
              "      <td>2059709.0</td>\n",
              "      <td>2012</td>\n",
              "      <td>14.0</td>\n",
              "      <td>500.0</td>\n",
              "      <td>4800.0</td>\n",
              "      <td>...</td>\n",
              "      <td>2020</td>\n",
              "      <td>41.0</td>\n",
              "      <td>100.0</td>\n",
              "      <td>7400.0</td>\n",
              "      <td>1900449.0</td>\n",
              "      <td>2021</td>\n",
              "      <td>39.0</td>\n",
              "      <td>100.0</td>\n",
              "      <td>7800.0</td>\n",
              "      <td>1883162.0</td>\n",
              "    </tr>\n",
              "  </tbody>\n",
              "</table>\n",
              "<p>5 rows × 56 columns</p>\n",
              "</div>\n",
              "      <button class=\"colab-df-convert\" onclick=\"convertToInteractive('df-b7a5d578-8526-43ca-8ca4-8a51d24c2c12')\"\n",
              "              title=\"Convert this dataframe to an interactive table.\"\n",
              "              style=\"display:none;\">\n",
              "        \n",
              "  <svg xmlns=\"http://www.w3.org/2000/svg\" height=\"24px\"viewBox=\"0 0 24 24\"\n",
              "       width=\"24px\">\n",
              "    <path d=\"M0 0h24v24H0V0z\" fill=\"none\"/>\n",
              "    <path d=\"M18.56 5.44l.94 2.06.94-2.06 2.06-.94-2.06-.94-.94-2.06-.94 2.06-2.06.94zm-11 1L8.5 8.5l.94-2.06 2.06-.94-2.06-.94L8.5 2.5l-.94 2.06-2.06.94zm10 10l.94 2.06.94-2.06 2.06-.94-2.06-.94-.94-2.06-.94 2.06-2.06.94z\"/><path d=\"M17.41 7.96l-1.37-1.37c-.4-.4-.92-.59-1.43-.59-.52 0-1.04.2-1.43.59L10.3 9.45l-7.72 7.72c-.78.78-.78 2.05 0 2.83L4 21.41c.39.39.9.59 1.41.59.51 0 1.02-.2 1.41-.59l7.78-7.78 2.81-2.81c.8-.78.8-2.07 0-2.86zM5.41 20L4 18.59l7.72-7.72 1.47 1.35L5.41 20z\"/>\n",
              "  </svg>\n",
              "      </button>\n",
              "      \n",
              "  <style>\n",
              "    .colab-df-container {\n",
              "      display:flex;\n",
              "      flex-wrap:wrap;\n",
              "      gap: 12px;\n",
              "    }\n",
              "\n",
              "    .colab-df-convert {\n",
              "      background-color: #E8F0FE;\n",
              "      border: none;\n",
              "      border-radius: 50%;\n",
              "      cursor: pointer;\n",
              "      display: none;\n",
              "      fill: #1967D2;\n",
              "      height: 32px;\n",
              "      padding: 0 0 0 0;\n",
              "      width: 32px;\n",
              "    }\n",
              "\n",
              "    .colab-df-convert:hover {\n",
              "      background-color: #E2EBFA;\n",
              "      box-shadow: 0px 1px 2px rgba(60, 64, 67, 0.3), 0px 1px 3px 1px rgba(60, 64, 67, 0.15);\n",
              "      fill: #174EA6;\n",
              "    }\n",
              "\n",
              "    [theme=dark] .colab-df-convert {\n",
              "      background-color: #3B4455;\n",
              "      fill: #D2E3FC;\n",
              "    }\n",
              "\n",
              "    [theme=dark] .colab-df-convert:hover {\n",
              "      background-color: #434B5C;\n",
              "      box-shadow: 0px 1px 3px 1px rgba(0, 0, 0, 0.15);\n",
              "      filter: drop-shadow(0px 1px 2px rgba(0, 0, 0, 0.3));\n",
              "      fill: #FFFFFF;\n",
              "    }\n",
              "  </style>\n",
              "\n",
              "      <script>\n",
              "        const buttonEl =\n",
              "          document.querySelector('#df-b7a5d578-8526-43ca-8ca4-8a51d24c2c12 button.colab-df-convert');\n",
              "        buttonEl.style.display =\n",
              "          google.colab.kernel.accessAllowed ? 'block' : 'none';\n",
              "\n",
              "        async function convertToInteractive(key) {\n",
              "          const element = document.querySelector('#df-b7a5d578-8526-43ca-8ca4-8a51d24c2c12');\n",
              "          const dataTable =\n",
              "            await google.colab.kernel.invokeFunction('convertToInteractive',\n",
              "                                                     [key], {});\n",
              "          if (!dataTable) return;\n",
              "\n",
              "          const docLinkHtml = 'Like what you see? Visit the ' +\n",
              "            '<a target=\"_blank\" href=https://colab.research.google.com/notebooks/data_table.ipynb>data table notebook</a>'\n",
              "            + ' to learn more about interactive tables.';\n",
              "          element.innerHTML = '';\n",
              "          dataTable['output_type'] = 'display_data';\n",
              "          await google.colab.output.renderOutput(dataTable, element);\n",
              "          const docLink = document.createElement('div');\n",
              "          docLink.innerHTML = docLinkHtml;\n",
              "          element.appendChild(docLink);\n",
              "        }\n",
              "      </script>\n",
              "    </div>\n",
              "  </div>\n",
              "  "
            ]
          },
          "metadata": {},
          "execution_count": 35
        }
      ]
    },
    {
      "cell_type": "code",
      "source": [
        "X = df.iloc[:50,[55,54]]\n",
        "print(X)"
      ],
      "metadata": {
        "colab": {
          "base_uri": "https://localhost:8080/"
        },
        "id": "vSPTyppG65yM",
        "outputId": "f2f5ca08-c2bd-4d38-ec4f-ddefb4d6a892"
      },
      "execution_count": null,
      "outputs": [
        {
          "output_type": "stream",
          "name": "stdout",
          "text": [
            "    Total Population 2021  People with HIV 2021\n",
            "0               1449891.0               66000.0\n",
            "1               9749625.0               13000.0\n",
            "2              33933611.0              320000.0\n",
            "3               8141343.0               76000.0\n",
            "4               1883162.0                7800.0\n",
            "5              18275704.0                 810.0\n",
            "6               2015490.0               40000.0\n",
            "7               5180208.0               34000.0\n",
            "8              19002586.0               35000.0\n",
            "9                888456.0                 200.0\n",
            "10             11935764.0                5400.0\n",
            "11              4775110.0                9400.0\n",
            "12               902899.0                1400.0\n",
            "13             51265841.0              170000.0\n",
            "14             39835428.0               11000.0\n",
            "15             32776195.0               82000.0\n",
            "16             27224262.0              500000.0\n",
            "17              9340314.0               28000.0\n",
            "18              2811666.0                1400.0\n",
            "19              6702379.0               11000.0\n",
            "20              6899125.0                3200.0\n",
            "21              1748295.0                 500.0\n",
            "22             10953714.0               78000.0\n",
            "23             13497237.0              120000.0\n",
            "24              2930524.0                 500.0\n",
            "25               620173.0                 500.0\n",
            "26              8478242.0              110000.0\n",
            "27             47123533.0             1400000.0\n",
            "28             11541683.0              150000.0\n",
            "29              2278829.0               47000.0\n",
            "30             20855724.0              110000.0\n",
            "31              7219641.0               16000.0\n",
            "32             17196308.0               40000.0\n",
            "33             12255429.0               80000.0\n",
            "34               404915.0                3500.0\n",
            "35             28427333.0               60000.0\n",
            "36             16914985.0              110000.0\n",
            "37            130262220.0              360000.0\n",
            "38              3708610.0                8100.0\n",
            "39             11317498.0               36000.0\n",
            "40             21497097.0               88000.0\n",
            "41              6769151.0                3000.0\n",
            "42             19647681.0              990000.0\n",
            "43               561901.0                2600.0\n",
            "44              1172369.0              220000.0\n",
            "45              6958538.0                8300.0\n",
            "46             12451031.0               69000.0\n",
            "47             54985702.0             1400000.0\n",
            "48             15092171.0             1300000.0\n",
            "49              5139053.0               17000.0\n"
          ]
        }
      ]
    },
    {
      "cell_type": "code",
      "source": [
        "#plotting\n",
        "\n",
        "x_= df.iloc[:50,55]\n",
        "y_= df.iloc[:50,54]\n",
        "plt.scatter(\n",
        "   x_, y_,\n",
        "   c='white', marker='o',\n",
        "   edgecolor='black', s=50\n",
        ")\n",
        "plt.xlabel(\"Population 2021\")\n",
        "plt.ylabel(\"People with HIV 2021\")\n",
        "plt.show()"
      ],
      "metadata": {
        "colab": {
          "base_uri": "https://localhost:8080/",
          "height": 290
        },
        "id": "Ct9Wt4617L3p",
        "outputId": "06e34734-78f6-49eb-b675-3f685958ae73"
      },
      "execution_count": null,
      "outputs": [
        {
          "output_type": "display_data",
          "data": {
            "text/plain": [
              "<Figure size 432x288 with 1 Axes>"
            ],
            "image/png": "[encoded data removed]"
          },
          "metadata": {
            "needs_background": "light"
          }
        }
      ]
    },
    {
      "cell_type": "code",
      "source": [
        "# train K-Means clustering\n",
        "km = KMeans(\n",
        "    n_clusters=4, init='random',\n",
        "    n_init=50, max_iter=300, \n",
        "    tol=1e-04, random_state=0\n",
        ")\n",
        "label = km.fit(X)\n",
        "labels = label.labels_\n",
        "y_km = km.fit_predict(X)\n",
        "print(y_km)"
      ],
      "metadata": {
        "colab": {
          "base_uri": "https://localhost:8080/"
        },
        "id": "IAMZ4gn67nxp",
        "outputId": "28f9c9e1-9485-40a8-b4aa-095442d568eb"
      },
      "execution_count": null,
      "outputs": [
        {
          "output_type": "stream",
          "name": "stdout",
          "text": [
            "[2 2 3 2 2 1 2 2 1 2 1 2 2 3 3 3 1 2 2 2 2 2 1 1 2 2 2 3 1 2 1 2 1 1 2 1 1\n",
            " 0 2 1 1 2 1 2 2 2 1 3 1 2]\n"
          ]
        }
      ]
    },
    {
      "cell_type": "code",
      "source": [
        "# plot the 4 clusters\n",
        "plt.scatter(\n",
        "    X.iloc[y_km == 0, 0], X.iloc[y_km == 0, 1],\n",
        "    s=50, c='lightgreen',\n",
        "    marker='s', edgecolor='black',\n",
        "    label='C1'\n",
        ")\n",
        "\n",
        "plt.scatter(\n",
        "    X.iloc[y_km == 1, 0], X.iloc[y_km == 1, 1],\n",
        "    s=50, c='orange',\n",
        "    marker='o', edgecolor='black',\n",
        "    label='C2'\n",
        ")\n",
        "\n",
        "plt.scatter(\n",
        "    X.iloc[y_km == 2, 0], X.iloc[y_km == 2, 1],\n",
        "    s=50, c='lightblue',\n",
        "    marker='v', edgecolor='black',\n",
        "    label='C3'\n",
        ")\n",
        "plt.scatter(\n",
        "    X.iloc[y_km == 3, 0], X.iloc[y_km == 3, 1],\n",
        "    s=50, c='black',\n",
        "    marker='+', edgecolor='black',\n",
        "    label='C4'\n",
        ")\n",
        "\n",
        "\n",
        "plt.legend(scatterpoints=1)\n",
        "plt.grid()\n",
        "plt.xlabel(\"Population 2021\")\n",
        "plt.ylabel(\"People with HIV 2021\")\n",
        "plt.show()"
      ],
      "metadata": {
        "colab": {
          "base_uri": "https://localhost:8080/",
          "height": 290
        },
        "id": "PpUx7Xw17rxN",
        "outputId": "720a2d7d-0360-4a60-99c1-a284a60491b2"
      },
      "execution_count": null,
      "outputs": [
        {
          "output_type": "display_data",
          "data": {
            "text/plain": [
              "<Figure size 432x288 with 1 Axes>"
            ],
            "image/png": "[encoded data removed]"
          },
          "metadata": {
            "needs_background": "light"
          }
        }
      ]
    },
    {
      "cell_type": "code",
      "source": [
        "# plot the centroids\n",
        "plt.scatter(\n",
        "    km.cluster_centers_[:, 0], km.cluster_centers_[:, 1],\n",
        "    s=250, marker='*',\n",
        "    c='red', edgecolor='black',\n",
        "    label='centroids'\n",
        ")"
      ],
      "metadata": {
        "colab": {
          "base_uri": "https://localhost:8080/",
          "height": 295
        },
        "id": "Q88azgcT8Sco",
        "outputId": "1565c755-3ecb-42ee-dd20-5e7c773b1a9b"
      },
      "execution_count": null,
      "outputs": [
        {
          "output_type": "execute_result",
          "data": {
            "text/plain": [
              "<matplotlib.collections.PathCollection at 0x7f72eec65130>"
            ]
          },
          "metadata": {},
          "execution_count": 40
        },
        {
          "output_type": "display_data",
          "data": {
            "text/plain": [
              "<Figure size 432x288 with 1 Axes>"
            ],
            "image/png": "[encoded data removed]"
          },
          "metadata": {
            "needs_background": "light"
          }
        }
      ]
    },
    {
      "cell_type": "code",
      "source": [],
      "metadata": {
        "id": "SCQ8CF9qDdvM"
      },
      "execution_count": null,
      "outputs": []
    },
    {
      "cell_type": "code",
      "source": [
        "# calculate distortion for a range of number of cluster\n",
        "distortions = []\n",
        "for i in range(1, 50):\n",
        "    km = KMeans(\n",
        "        n_clusters=i, init='random',\n",
        "        n_init=10, max_iter=300,\n",
        "        tol=1e-04, random_state=0\n",
        "    )\n",
        "    km.fit(X)\n",
        "    distortions.append(km.inertia_)\n",
        "    print(i, distortions)"
      ],
      "metadata": {
        "colab": {
          "base_uri": "https://localhost:8080/"
        },
        "outputId": "5077e616-69bb-487a-8a54-ac1b92535062",
        "id": "tFyafLeVDfbU"
      },
      "execution_count": null,
      "outputs": [
        {
          "output_type": "stream",
          "name": "stdout",
          "text": [
            "1 [2.2307377567659244e+16]\n",
            "2 [2.2307377567659244e+16, 9282755418781188.0]\n",
            "3 [2.2307377567659244e+16, 9282755418781188.0, 2438313697850307.0]\n",
            "4 [2.2307377567659244e+16, 9282755418781188.0, 2438313697850307.0, 1128492488417569.0]\n",
            "5 [2.2307377567659244e+16, 9282755418781188.0, 2438313697850307.0, 1128492488417569.0, 592461462964657.0]\n",
            "6 [2.2307377567659244e+16, 9282755418781188.0, 2438313697850307.0, 1128492488417569.0, 592461462964657.0, 351527478205124.1]\n",
            "7 [2.2307377567659244e+16, 9282755418781188.0, 2438313697850307.0, 1128492488417569.0, 592461462964657.0, 351527478205124.1, 234682110193992.9]\n",
            "8 [2.2307377567659244e+16, 9282755418781188.0, 2438313697850307.0, 1128492488417569.0, 592461462964657.0, 351527478205124.1, 234682110193992.9, 214130133949812.5]\n",
            "9 [2.2307377567659244e+16, 9282755418781188.0, 2438313697850307.0, 1128492488417569.0, 592461462964657.0, 351527478205124.1, 234682110193992.9, 214130133949812.5, 203571499099537.1]\n",
            "10 [2.2307377567659244e+16, 9282755418781188.0, 2438313697850307.0, 1128492488417569.0, 592461462964657.0, 351527478205124.1, 234682110193992.9, 214130133949812.5, 203571499099537.1, 104706366608218.2]\n",
            "11 [2.2307377567659244e+16, 9282755418781188.0, 2438313697850307.0, 1128492488417569.0, 592461462964657.0, 351527478205124.1, 234682110193992.9, 214130133949812.5, 203571499099537.1, 104706366608218.2, 80413815513286.06]\n",
            "12 [2.2307377567659244e+16, 9282755418781188.0, 2438313697850307.0, 1128492488417569.0, 592461462964657.0, 351527478205124.1, 234682110193992.9, 214130133949812.5, 203571499099537.1, 104706366608218.2, 80413815513286.06, 76165079131495.11]\n",
            "13 [2.2307377567659244e+16, 9282755418781188.0, 2438313697850307.0, 1128492488417569.0, 592461462964657.0, 351527478205124.1, 234682110193992.9, 214130133949812.5, 203571499099537.1, 104706366608218.2, 80413815513286.06, 76165079131495.11, 73374113552214.58]\n",
            "14 [2.2307377567659244e+16, 9282755418781188.0, 2438313697850307.0, 1128492488417569.0, 592461462964657.0, 351527478205124.1, 234682110193992.9, 214130133949812.5, 203571499099537.1, 104706366608218.2, 80413815513286.06, 76165079131495.11, 73374113552214.58, 67085693757380.21]\n",
            "15 [2.2307377567659244e+16, 9282755418781188.0, 2438313697850307.0, 1128492488417569.0, 592461462964657.0, 351527478205124.1, 234682110193992.9, 214130133949812.5, 203571499099537.1, 104706366608218.2, 80413815513286.06, 76165079131495.11, 73374113552214.58, 67085693757380.21, 66965592120098.164]\n",
            "16 [2.2307377567659244e+16, 9282755418781188.0, 2438313697850307.0, 1128492488417569.0, 592461462964657.0, 351527478205124.1, 234682110193992.9, 214130133949812.5, 203571499099537.1, 104706366608218.2, 80413815513286.06, 76165079131495.11, 73374113552214.58, 67085693757380.21, 66965592120098.164, 66267464221570.164]\n",
            "17 [2.2307377567659244e+16, 9282755418781188.0, 2438313697850307.0, 1128492488417569.0, 592461462964657.0, 351527478205124.1, 234682110193992.9, 214130133949812.5, 203571499099537.1, 104706366608218.2, 80413815513286.06, 76165079131495.11, 73374113552214.58, 67085693757380.21, 66965592120098.164, 66267464221570.164, 56909926364439.875]\n",
            "18 [2.2307377567659244e+16, 9282755418781188.0, 2438313697850307.0, 1128492488417569.0, 592461462964657.0, 351527478205124.1, 234682110193992.9, 214130133949812.5, 203571499099537.1, 104706366608218.2, 80413815513286.06, 76165079131495.11, 73374113552214.58, 67085693757380.21, 66965592120098.164, 66267464221570.164, 56909926364439.875, 46787511118280.04]\n",
            "19 [2.2307377567659244e+16, 9282755418781188.0, 2438313697850307.0, 1128492488417569.0, 592461462964657.0, 351527478205124.1, 234682110193992.9, 214130133949812.5, 203571499099537.1, 104706366608218.2, 80413815513286.06, 76165079131495.11, 73374113552214.58, 67085693757380.21, 66965592120098.164, 66267464221570.164, 56909926364439.875, 46787511118280.04, 42132599192664.29]\n",
            "20 [2.2307377567659244e+16, 9282755418781188.0, 2438313697850307.0, 1128492488417569.0, 592461462964657.0, 351527478205124.1, 234682110193992.9, 214130133949812.5, 203571499099537.1, 104706366608218.2, 80413815513286.06, 76165079131495.11, 73374113552214.58, 67085693757380.21, 66965592120098.164, 66267464221570.164, 56909926364439.875, 46787511118280.04, 42132599192664.29, 41710177749725.72]\n",
            "21 [2.2307377567659244e+16, 9282755418781188.0, 2438313697850307.0, 1128492488417569.0, 592461462964657.0, 351527478205124.1, 234682110193992.9, 214130133949812.5, 203571499099537.1, 104706366608218.2, 80413815513286.06, 76165079131495.11, 73374113552214.58, 67085693757380.21, 66965592120098.164, 66267464221570.164, 56909926364439.875, 46787511118280.04, 42132599192664.29, 41710177749725.72, 41548829304140.086]\n",
            "22 [2.2307377567659244e+16, 9282755418781188.0, 2438313697850307.0, 1128492488417569.0, 592461462964657.0, 351527478205124.1, 234682110193992.9, 214130133949812.5, 203571499099537.1, 104706366608218.2, 80413815513286.06, 76165079131495.11, 73374113552214.58, 67085693757380.21, 66965592120098.164, 66267464221570.164, 56909926364439.875, 46787511118280.04, 42132599192664.29, 41710177749725.72, 41548829304140.086, 41143947474838.3]\n",
            "23 [2.2307377567659244e+16, 9282755418781188.0, 2438313697850307.0, 1128492488417569.0, 592461462964657.0, 351527478205124.1, 234682110193992.9, 214130133949812.5, 203571499099537.1, 104706366608218.2, 80413815513286.06, 76165079131495.11, 73374113552214.58, 67085693757380.21, 66965592120098.164, 66267464221570.164, 56909926364439.875, 46787511118280.04, 42132599192664.29, 41710177749725.72, 41548829304140.086, 41143947474838.3, 39508695767912.38]\n",
            "24 [2.2307377567659244e+16, 9282755418781188.0, 2438313697850307.0, 1128492488417569.0, 592461462964657.0, 351527478205124.1, 234682110193992.9, 214130133949812.5, 203571499099537.1, 104706366608218.2, 80413815513286.06, 76165079131495.11, 73374113552214.58, 67085693757380.21, 66965592120098.164, 66267464221570.164, 56909926364439.875, 46787511118280.04, 42132599192664.29, 41710177749725.72, 41548829304140.086, 41143947474838.3, 39508695767912.38, 18433633266677.5]\n",
            "25 [2.2307377567659244e+16, 9282755418781188.0, 2438313697850307.0, 1128492488417569.0, 592461462964657.0, 351527478205124.1, 234682110193992.9, 214130133949812.5, 203571499099537.1, 104706366608218.2, 80413815513286.06, 76165079131495.11, 73374113552214.58, 67085693757380.21, 66965592120098.164, 66267464221570.164, 56909926364439.875, 46787511118280.04, 42132599192664.29, 41710177749725.72, 41548829304140.086, 41143947474838.3, 39508695767912.38, 18433633266677.5, 18356730285942.168]\n",
            "26 [2.2307377567659244e+16, 9282755418781188.0, 2438313697850307.0, 1128492488417569.0, 592461462964657.0, 351527478205124.1, 234682110193992.9, 214130133949812.5, 203571499099537.1, 104706366608218.2, 80413815513286.06, 76165079131495.11, 73374113552214.58, 67085693757380.21, 66965592120098.164, 66267464221570.164, 56909926364439.875, 46787511118280.04, 42132599192664.29, 41710177749725.72, 41548829304140.086, 41143947474838.3, 39508695767912.38, 18433633266677.5, 18356730285942.168, 15667427564552.166]\n",
            "27 [2.2307377567659244e+16, 9282755418781188.0, 2438313697850307.0, 1128492488417569.0, 592461462964657.0, 351527478205124.1, 234682110193992.9, 214130133949812.5, 203571499099537.1, 104706366608218.2, 80413815513286.06, 76165079131495.11, 73374113552214.58, 67085693757380.21, 66965592120098.164, 66267464221570.164, 56909926364439.875, 46787511118280.04, 42132599192664.29, 41710177749725.72, 41548829304140.086, 41143947474838.3, 39508695767912.38, 18433633266677.5, 18356730285942.168, 15667427564552.166, 12348604580135.832]\n",
            "28 [2.2307377567659244e+16, 9282755418781188.0, 2438313697850307.0, 1128492488417569.0, 592461462964657.0, 351527478205124.1, 234682110193992.9, 214130133949812.5, 203571499099537.1, 104706366608218.2, 80413815513286.06, 76165079131495.11, 73374113552214.58, 67085693757380.21, 66965592120098.164, 66267464221570.164, 56909926364439.875, 46787511118280.04, 42132599192664.29, 41710177749725.72, 41548829304140.086, 41143947474838.3, 39508695767912.38, 18433633266677.5, 18356730285942.168, 15667427564552.166, 12348604580135.832, 11650476681607.832]\n",
            "29 [2.2307377567659244e+16, 9282755418781188.0, 2438313697850307.0, 1128492488417569.0, 592461462964657.0, 351527478205124.1, 234682110193992.9, 214130133949812.5, 203571499099537.1, 104706366608218.2, 80413815513286.06, 76165079131495.11, 73374113552214.58, 67085693757380.21, 66965592120098.164, 66267464221570.164, 56909926364439.875, 46787511118280.04, 42132599192664.29, 41710177749725.72, 41548829304140.086, 41143947474838.3, 39508695767912.38, 18433633266677.5, 18356730285942.168, 15667427564552.166, 12348604580135.832, 11650476681607.832, 10255123961503.164]\n",
            "30 [2.2307377567659244e+16, 9282755418781188.0, 2438313697850307.0, 1128492488417569.0, 592461462964657.0, 351527478205124.1, 234682110193992.9, 214130133949812.5, 203571499099537.1, 104706366608218.2, 80413815513286.06, 76165079131495.11, 73374113552214.58, 67085693757380.21, 66965592120098.164, 66267464221570.164, 56909926364439.875, 46787511118280.04, 42132599192664.29, 41710177749725.72, 41548829304140.086, 41143947474838.3, 39508695767912.38, 18433633266677.5, 18356730285942.168, 15667427564552.166, 12348604580135.832, 11650476681607.832, 10255123961503.164, 9412506400960.666]\n",
            "31 [2.2307377567659244e+16, 9282755418781188.0, 2438313697850307.0, 1128492488417569.0, 592461462964657.0, 351527478205124.1, 234682110193992.9, 214130133949812.5, 203571499099537.1, 104706366608218.2, 80413815513286.06, 76165079131495.11, 73374113552214.58, 67085693757380.21, 66965592120098.164, 66267464221570.164, 56909926364439.875, 46787511118280.04, 42132599192664.29, 41710177749725.72, 41548829304140.086, 41143947474838.3, 39508695767912.38, 18433633266677.5, 18356730285942.168, 15667427564552.166, 12348604580135.832, 11650476681607.832, 10255123961503.164, 9412506400960.666, 1737373471300.1665]\n",
            "32 [2.2307377567659244e+16, 9282755418781188.0, 2438313697850307.0, 1128492488417569.0, 592461462964657.0, 351527478205124.1, 234682110193992.9, 214130133949812.5, 203571499099537.1, 104706366608218.2, 80413815513286.06, 76165079131495.11, 73374113552214.58, 67085693757380.21, 66965592120098.164, 66267464221570.164, 56909926364439.875, 46787511118280.04, 42132599192664.29, 41710177749725.72, 41548829304140.086, 41143947474838.3, 39508695767912.38, 18433633266677.5, 18356730285942.168, 15667427564552.166, 12348604580135.832, 11650476681607.832, 10255123961503.164, 9412506400960.666, 1737373471300.1665, 1618005023862.833]\n",
            "33 [2.2307377567659244e+16, 9282755418781188.0, 2438313697850307.0, 1128492488417569.0, 592461462964657.0, 351527478205124.1, 234682110193992.9, 214130133949812.5, 203571499099537.1, 104706366608218.2, 80413815513286.06, 76165079131495.11, 73374113552214.58, 67085693757380.21, 66965592120098.164, 66267464221570.164, 56909926364439.875, 46787511118280.04, 42132599192664.29, 41710177749725.72, 41548829304140.086, 41143947474838.3, 39508695767912.38, 18433633266677.5, 18356730285942.168, 15667427564552.166, 12348604580135.832, 11650476681607.832, 10255123961503.164, 9412506400960.666, 1737373471300.1665, 1618005023862.833, 1615743773870.833]\n",
            "34 [2.2307377567659244e+16, 9282755418781188.0, 2438313697850307.0, 1128492488417569.0, 592461462964657.0, 351527478205124.1, 234682110193992.9, 214130133949812.5, 203571499099537.1, 104706366608218.2, 80413815513286.06, 76165079131495.11, 73374113552214.58, 67085693757380.21, 66965592120098.164, 66267464221570.164, 56909926364439.875, 46787511118280.04, 42132599192664.29, 41710177749725.72, 41548829304140.086, 41143947474838.3, 39508695767912.38, 18433633266677.5, 18356730285942.168, 15667427564552.166, 12348604580135.832, 11650476681607.832, 10255123961503.164, 9412506400960.666, 1737373471300.1665, 1618005023862.833, 1615743773870.833, 1517000290590.6665]\n",
            "35 [2.2307377567659244e+16, 9282755418781188.0, 2438313697850307.0, 1128492488417569.0, 592461462964657.0, 351527478205124.1, 234682110193992.9, 214130133949812.5, 203571499099537.1, 104706366608218.2, 80413815513286.06, 76165079131495.11, 73374113552214.58, 67085693757380.21, 66965592120098.164, 66267464221570.164, 56909926364439.875, 46787511118280.04, 42132599192664.29, 41710177749725.72, 41548829304140.086, 41143947474838.3, 39508695767912.38, 18433633266677.5, 18356730285942.168, 15667427564552.166, 12348604580135.832, 11650476681607.832, 10255123961503.164, 9412506400960.666, 1737373471300.1665, 1618005023862.833, 1615743773870.833, 1517000290590.6665, 1474978975426.1665]\n",
            "36 [2.2307377567659244e+16, 9282755418781188.0, 2438313697850307.0, 1128492488417569.0, 592461462964657.0, 351527478205124.1, 234682110193992.9, 214130133949812.5, 203571499099537.1, 104706366608218.2, 80413815513286.06, 76165079131495.11, 73374113552214.58, 67085693757380.21, 66965592120098.164, 66267464221570.164, 56909926364439.875, 46787511118280.04, 42132599192664.29, 41710177749725.72, 41548829304140.086, 41143947474838.3, 39508695767912.38, 18433633266677.5, 18356730285942.168, 15667427564552.166, 12348604580135.832, 11650476681607.832, 10255123961503.164, 9412506400960.666, 1737373471300.1665, 1618005023862.833, 1615743773870.833, 1517000290590.6665, 1474978975426.1665, 1455788404224.1665]\n",
            "37 [2.2307377567659244e+16, 9282755418781188.0, 2438313697850307.0, 1128492488417569.0, 592461462964657.0, 351527478205124.1, 234682110193992.9, 214130133949812.5, 203571499099537.1, 104706366608218.2, 80413815513286.06, 76165079131495.11, 73374113552214.58, 67085693757380.21, 66965592120098.164, 66267464221570.164, 56909926364439.875, 46787511118280.04, 42132599192664.29, 41710177749725.72, 41548829304140.086, 41143947474838.3, 39508695767912.38, 18433633266677.5, 18356730285942.168, 15667427564552.166, 12348604580135.832, 11650476681607.832, 10255123961503.164, 9412506400960.666, 1737373471300.1665, 1618005023862.833, 1615743773870.833, 1517000290590.6665, 1474978975426.1665, 1455788404224.1665, 1191025205212.1665]\n",
            "38 [2.2307377567659244e+16, 9282755418781188.0, 2438313697850307.0, 1128492488417569.0, 592461462964657.0, 351527478205124.1, 234682110193992.9, 214130133949812.5, 203571499099537.1, 104706366608218.2, 80413815513286.06, 76165079131495.11, 73374113552214.58, 67085693757380.21, 66965592120098.164, 66267464221570.164, 56909926364439.875, 46787511118280.04, 42132599192664.29, 41710177749725.72, 41548829304140.086, 41143947474838.3, 39508695767912.38, 18433633266677.5, 18356730285942.168, 15667427564552.166, 12348604580135.832, 11650476681607.832, 10255123961503.164, 9412506400960.666, 1737373471300.1665, 1618005023862.833, 1615743773870.833, 1517000290590.6665, 1474978975426.1665, 1455788404224.1665, 1191025205212.1665, 780468461111.3334]\n",
            "39 [2.2307377567659244e+16, 9282755418781188.0, 2438313697850307.0, 1128492488417569.0, 592461462964657.0, 351527478205124.1, 234682110193992.9, 214130133949812.5, 203571499099537.1, 104706366608218.2, 80413815513286.06, 76165079131495.11, 73374113552214.58, 67085693757380.21, 66965592120098.164, 66267464221570.164, 56909926364439.875, 46787511118280.04, 42132599192664.29, 41710177749725.72, 41548829304140.086, 41143947474838.3, 39508695767912.38, 18433633266677.5, 18356730285942.168, 15667427564552.166, 12348604580135.832, 11650476681607.832, 10255123961503.164, 9412506400960.666, 1737373471300.1665, 1618005023862.833, 1615743773870.833, 1517000290590.6665, 1474978975426.1665, 1455788404224.1665, 1191025205212.1665, 780468461111.3334, 303483890363.6666]\n",
            "40 [2.2307377567659244e+16, 9282755418781188.0, 2438313697850307.0, 1128492488417569.0, 592461462964657.0, 351527478205124.1, 234682110193992.9, 214130133949812.5, 203571499099537.1, 104706366608218.2, 80413815513286.06, 76165079131495.11, 73374113552214.58, 67085693757380.21, 66965592120098.164, 66267464221570.164, 56909926364439.875, 46787511118280.04, 42132599192664.29, 41710177749725.72, 41548829304140.086, 41143947474838.3, 39508695767912.38, 18433633266677.5, 18356730285942.168, 15667427564552.166, 12348604580135.832, 11650476681607.832, 10255123961503.164, 9412506400960.666, 1737373471300.1665, 1618005023862.833, 1615743773870.833, 1517000290590.6665, 1474978975426.1665, 1455788404224.1665, 1191025205212.1665, 780468461111.3334, 303483890363.6666, 302492523351.1666]\n",
            "41 [2.2307377567659244e+16, 9282755418781188.0, 2438313697850307.0, 1128492488417569.0, 592461462964657.0, 351527478205124.1, 234682110193992.9, 214130133949812.5, 203571499099537.1, 104706366608218.2, 80413815513286.06, 76165079131495.11, 73374113552214.58, 67085693757380.21, 66965592120098.164, 66267464221570.164, 56909926364439.875, 46787511118280.04, 42132599192664.29, 41710177749725.72, 41548829304140.086, 41143947474838.3, 39508695767912.38, 18433633266677.5, 18356730285942.168, 15667427564552.166, 12348604580135.832, 11650476681607.832, 10255123961503.164, 9412506400960.666, 1737373471300.1665, 1618005023862.833, 1615743773870.833, 1517000290590.6665, 1474978975426.1665, 1455788404224.1665, 1191025205212.1665, 780468461111.3334, 303483890363.6666, 302492523351.1666, 302387503226.6666]\n",
            "42 [2.2307377567659244e+16, 9282755418781188.0, 2438313697850307.0, 1128492488417569.0, 592461462964657.0, 351527478205124.1, 234682110193992.9, 214130133949812.5, 203571499099537.1, 104706366608218.2, 80413815513286.06, 76165079131495.11, 73374113552214.58, 67085693757380.21, 66965592120098.164, 66267464221570.164, 56909926364439.875, 46787511118280.04, 42132599192664.29, 41710177749725.72, 41548829304140.086, 41143947474838.3, 39508695767912.38, 18433633266677.5, 18356730285942.168, 15667427564552.166, 12348604580135.832, 11650476681607.832, 10255123961503.164, 9412506400960.666, 1737373471300.1665, 1618005023862.833, 1615743773870.833, 1517000290590.6665, 1474978975426.1665, 1455788404224.1665, 1191025205212.1665, 780468461111.3334, 303483890363.6666, 302492523351.1666, 302387503226.6666, 300687485234.6666]\n",
            "43 [2.2307377567659244e+16, 9282755418781188.0, 2438313697850307.0, 1128492488417569.0, 592461462964657.0, 351527478205124.1, 234682110193992.9, 214130133949812.5, 203571499099537.1, 104706366608218.2, 80413815513286.06, 76165079131495.11, 73374113552214.58, 67085693757380.21, 66965592120098.164, 66267464221570.164, 56909926364439.875, 46787511118280.04, 42132599192664.29, 41710177749725.72, 41548829304140.086, 41143947474838.3, 39508695767912.38, 18433633266677.5, 18356730285942.168, 15667427564552.166, 12348604580135.832, 11650476681607.832, 10255123961503.164, 9412506400960.666, 1737373471300.1665, 1618005023862.833, 1615743773870.833, 1517000290590.6665, 1474978975426.1665, 1455788404224.1665, 1191025205212.1665, 780468461111.3334, 303483890363.6666, 302492523351.1666, 302387503226.6666, 300687485234.6666, 291566286390.1666]\n",
            "44 [2.2307377567659244e+16, 9282755418781188.0, 2438313697850307.0, 1128492488417569.0, 592461462964657.0, 351527478205124.1, 234682110193992.9, 214130133949812.5, 203571499099537.1, 104706366608218.2, 80413815513286.06, 76165079131495.11, 73374113552214.58, 67085693757380.21, 66965592120098.164, 66267464221570.164, 56909926364439.875, 46787511118280.04, 42132599192664.29, 41710177749725.72, 41548829304140.086, 41143947474838.3, 39508695767912.38, 18433633266677.5, 18356730285942.168, 15667427564552.166, 12348604580135.832, 11650476681607.832, 10255123961503.164, 9412506400960.666, 1737373471300.1665, 1618005023862.833, 1615743773870.833, 1517000290590.6665, 1474978975426.1665, 1455788404224.1665, 1191025205212.1665, 780468461111.3334, 303483890363.6666, 302492523351.1666, 302387503226.6666, 300687485234.6666, 291566286390.1666, 234237818289.66666]\n",
            "45 [2.2307377567659244e+16, 9282755418781188.0, 2438313697850307.0, 1128492488417569.0, 592461462964657.0, 351527478205124.1, 234682110193992.9, 214130133949812.5, 203571499099537.1, 104706366608218.2, 80413815513286.06, 76165079131495.11, 73374113552214.58, 67085693757380.21, 66965592120098.164, 66267464221570.164, 56909926364439.875, 46787511118280.04, 42132599192664.29, 41710177749725.72, 41548829304140.086, 41143947474838.3, 39508695767912.38, 18433633266677.5, 18356730285942.168, 15667427564552.166, 12348604580135.832, 11650476681607.832, 10255123961503.164, 9412506400960.666, 1737373471300.1665, 1618005023862.833, 1615743773870.833, 1517000290590.6665, 1474978975426.1665, 1455788404224.1665, 1191025205212.1665, 780468461111.3334, 303483890363.6666, 302492523351.1666, 302387503226.6666, 300687485234.6666, 291566286390.1666, 234237818289.66666, 144869214562.0]\n",
            "46 [2.2307377567659244e+16, 9282755418781188.0, 2438313697850307.0, 1128492488417569.0, 592461462964657.0, 351527478205124.1, 234682110193992.9, 214130133949812.5, 203571499099537.1, 104706366608218.2, 80413815513286.06, 76165079131495.11, 73374113552214.58, 67085693757380.21, 66965592120098.164, 66267464221570.164, 56909926364439.875, 46787511118280.04, 42132599192664.29, 41710177749725.72, 41548829304140.086, 41143947474838.3, 39508695767912.38, 18433633266677.5, 18356730285942.168, 15667427564552.166, 12348604580135.832, 11650476681607.832, 10255123961503.164, 9412506400960.666, 1737373471300.1665, 1618005023862.833, 1615743773870.833, 1517000290590.6665, 1474978975426.1665, 1455788404224.1665, 1191025205212.1665, 780468461111.3334, 303483890363.6666, 302492523351.1666, 302387503226.6666, 300687485234.6666, 291566286390.1666, 234237818289.66666, 144869214562.0, 87540746461.5]\n",
            "47 [2.2307377567659244e+16, 9282755418781188.0, 2438313697850307.0, 1128492488417569.0, 592461462964657.0, 351527478205124.1, 234682110193992.9, 214130133949812.5, 203571499099537.1, 104706366608218.2, 80413815513286.06, 76165079131495.11, 73374113552214.58, 67085693757380.21, 66965592120098.164, 66267464221570.164, 56909926364439.875, 46787511118280.04, 42132599192664.29, 41710177749725.72, 41548829304140.086, 41143947474838.3, 39508695767912.38, 18433633266677.5, 18356730285942.168, 15667427564552.166, 12348604580135.832, 11650476681607.832, 10255123961503.164, 9412506400960.666, 1737373471300.1665, 1618005023862.833, 1615743773870.833, 1517000290590.6665, 1474978975426.1665, 1455788404224.1665, 1191025205212.1665, 780468461111.3334, 303483890363.6666, 302492523351.1666, 302387503226.6666, 300687485234.6666, 291566286390.1666, 234237818289.66666, 144869214562.0, 87540746461.5, 22668546478.5]\n",
            "48 [2.2307377567659244e+16, 9282755418781188.0, 2438313697850307.0, 1128492488417569.0, 592461462964657.0, 351527478205124.1, 234682110193992.9, 214130133949812.5, 203571499099537.1, 104706366608218.2, 80413815513286.06, 76165079131495.11, 73374113552214.58, 67085693757380.21, 66965592120098.164, 66267464221570.164, 56909926364439.875, 46787511118280.04, 42132599192664.29, 41710177749725.72, 41548829304140.086, 41143947474838.3, 39508695767912.38, 18433633266677.5, 18356730285942.168, 15667427564552.166, 12348604580135.832, 11650476681607.832, 10255123961503.164, 9412506400960.666, 1737373471300.1665, 1618005023862.833, 1615743773870.833, 1517000290590.6665, 1474978975426.1665, 1455788404224.1665, 1191025205212.1665, 780468461111.3334, 303483890363.6666, 302492523351.1666, 302387503226.6666, 300687485234.6666, 291566286390.1666, 234237818289.66666, 144869214562.0, 87540746461.5, 22668546478.5, 3477975276.5]\n",
            "49 [2.2307377567659244e+16, 9282755418781188.0, 2438313697850307.0, 1128492488417569.0, 592461462964657.0, 351527478205124.1, 234682110193992.9, 214130133949812.5, 203571499099537.1, 104706366608218.2, 80413815513286.06, 76165079131495.11, 73374113552214.58, 67085693757380.21, 66965592120098.164, 66267464221570.164, 56909926364439.875, 46787511118280.04, 42132599192664.29, 41710177749725.72, 41548829304140.086, 41143947474838.3, 39508695767912.38, 18433633266677.5, 18356730285942.168, 15667427564552.166, 12348604580135.832, 11650476681607.832, 10255123961503.164, 9412506400960.666, 1737373471300.1665, 1618005023862.833, 1615743773870.833, 1517000290590.6665, 1474978975426.1665, 1455788404224.1665, 1191025205212.1665, 780468461111.3334, 303483890363.6666, 302492523351.1666, 302387503226.6666, 300687485234.6666, 291566286390.1666, 234237818289.66666, 144869214562.0, 87540746461.5, 22668546478.5, 3477975276.5, 1700017992.0]\n"
          ]
        }
      ]
    },
    {
      "cell_type": "code",
      "source": [
        "kl = KneeLocator(range(1, 50), distortions, curve=\"convex\", direction=\"decreasing\")\n",
        "kl.elbow"
      ],
      "metadata": {
        "colab": {
          "base_uri": "https://localhost:8080/"
        },
        "outputId": "52b7358c-4333-41fb-aefa-fd35203c1103",
        "id": "Ouxpq0-XDkLi"
      },
      "execution_count": null,
      "outputs": [
        {
          "output_type": "execute_result",
          "data": {
            "text/plain": [
              "5"
            ]
          },
          "metadata": {},
          "execution_count": 42
        }
      ]
    },
    {
      "cell_type": "code",
      "source": [
        "# plot\n",
        "plt.plot(range(1, 50), distortions, marker='o')\n",
        "plt.xlabel('Number of clusters')\n",
        "plt.ylabel('Distortion (SSE)')\n",
        "plt.show()"
      ],
      "metadata": {
        "colab": {
          "base_uri": "https://localhost:8080/",
          "height": 290
        },
        "id": "YvDOipi8DpNV",
        "outputId": "6bed25dd-4d46-408a-8a1d-0e9e6df4a1c3"
      },
      "execution_count": null,
      "outputs": [
        {
          "output_type": "display_data",
          "data": {
            "text/plain": [
              "<Figure size 432x288 with 1 Axes>"
            ],
            "image/png": "[encoded data removed]"
          },
          "metadata": {
            "needs_background": "light"
          }
        }
      ]
    },
    {
      "cell_type": "code",
      "source": [
        "# calculate distortion for a range of number of cluster\n",
        "# Kalo udah ada label pake rand\n",
        "from sklearn import metrics\n",
        "\n",
        "rand = []\n",
        "for i in range(1, 50):\n",
        "    km = KMeans(\n",
        "        n_clusters=i, init='random',\n",
        "        n_init=10, max_iter=300,\n",
        "        tol=1e-04, random_state=0\n",
        "    )\n",
        "    km.fit(X)\n",
        "    rand_ = metrics.adjusted_rand_score(y_km, km.labels_)\n",
        "    rand.append(rand_)\n",
        "    print(i, rand_)"
      ],
      "metadata": {
        "colab": {
          "base_uri": "https://localhost:8080/"
        },
        "id": "TSk7-F45Dsv5",
        "outputId": "68d3d782-6d21-4a26-d5dd-95d66306778c"
      },
      "execution_count": null,
      "outputs": [
        {
          "output_type": "stream",
          "name": "stdout",
          "text": [
            "1 0.0\n",
            "2 0.343031440638198\n",
            "3 0.35035919293300793\n",
            "4 1.0\n",
            "5 0.9268933139708369\n",
            "6 0.6033066444837267\n",
            "7 0.49293043724537594\n",
            "8 0.3908886637000485\n",
            "9 0.38887841867787104\n",
            "10 0.39338725446626965\n",
            "11 0.30583023494976663\n",
            "12 0.295435214062943\n",
            "13 0.23503631211206846\n",
            "14 0.21853420495350337\n",
            "15 0.20905778720656737\n",
            "16 0.20668335390400608\n",
            "17 0.19810229113631103\n",
            "18 0.15963448179402304\n",
            "19 0.14749827688928868\n",
            "20 0.12796491927446682\n",
            "21 0.11322085709246958\n",
            "22 0.11568383199755565\n",
            "23 0.10581836162848195\n",
            "24 0.0959165860677974\n",
            "25 0.08846630839189748\n",
            "26 0.0809954108908549\n",
            "27 0.06849786018280322\n",
            "28 0.06599141305121332\n",
            "29 0.06097155610427846\n",
            "30 0.05845813983871159\n",
            "31 0.0559423940683001\n",
            "32 0.05090390104662226\n",
            "33 0.04838114729715258\n",
            "34 0.04332860903016805\n",
            "35 0.040798817978170726\n",
            "36 0.03826667461405495\n",
            "37 0.035732175655368174\n",
            "38 0.033195317813547794\n",
            "39 0.030656097793906982\n",
            "40 0.028114512295620394\n",
            "41 0.025570558011709883\n",
            "42 0.023024231629030136\n",
            "43 0.02047552982825432\n",
            "44 0.01792444928385962\n",
            "45 0.012815138631055751\n",
            "46 0.010256901840490797\n",
            "47 0.007696272941966266\n",
            "48 0.005133248578761783\n",
            "49 0.0025678253878736244\n"
          ]
        }
      ]
    },
    {
      "cell_type": "code",
      "source": [
        "# plot\n",
        "plt.plot(range(1, 50), rand, marker='o')\n",
        "plt.xlabel('Number of clusters')\n",
        "plt.ylabel('Rand_ score')\n",
        "plt.show()"
      ],
      "metadata": {
        "colab": {
          "base_uri": "https://localhost:8080/",
          "height": 279
        },
        "id": "4nHLnLBAFNrv",
        "outputId": "a085e26a-7d4f-4bbf-e383-43125df479c8"
      },
      "execution_count": null,
      "outputs": [
        {
          "output_type": "display_data",
          "data": {
            "text/plain": [
              "<Figure size 432x288 with 1 Axes>"
            ],
            "image/png": "[encoded data removed]"
          },
          "metadata": {
            "needs_background": "light"
          }
        }
      ]
    },
    {
      "cell_type": "code",
      "source": [
        "from sklearn.metrics import davies_bouldin_score\n",
        "from sklearn.metrics import calinski_harabasz_score\n",
        "from sklearn.metrics import silhouette_score\n",
        "print(\"David_bouldin_score: \",davies_bouldin_score(X, labels))\n",
        "print(\"Silhoutte_score: \", silhouette_score(X, labels))\n",
        "print(\"Calinski_harabasz_score: \",calinski_harabasz_score(X, labels))"
      ],
      "metadata": {
        "colab": {
          "base_uri": "https://localhost:8080/"
        },
        "id": "wwlqJHmTHtGS",
        "outputId": "26921425-722c-42b9-ed06-4c03d2c042c9"
      },
      "execution_count": null,
      "outputs": [
        {
          "output_type": "stream",
          "name": "stdout",
          "text": [
            "David_bouldin_score:  0.413696360675584\n",
            "Silhoutte_score:  0.5702435264144388\n",
            "Calinski_harabasz_score:  287.76700587856266\n"
          ]
        }
      ]
    }
  ]
}