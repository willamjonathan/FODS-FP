{
  "nbformat": 4,
  "nbformat_minor": 0,
  "metadata": {
    "colab": {
      "provenance": []
    },
    "kernelspec": {
      "name": "python3",
      "display_name": "Python 3"
    },
    "language_info": {
      "name": "python"
    }
  },
  "cells": [
    {
      "cell_type": "code",
      "execution_count": null,
      "metadata": {
        "id": "o3gVYRld8PRT"
      },
      "outputs": [],
      "source": [
        "from numpy import unique\n",
        "from numpy import where\n",
        "from matplotlib import pyplot\n",
        "from sklearn.datasets import make_classification\n",
        "from sklearn.cluster import Birch\n",
        "import pandas as pd\n",
        "import matplotlib.pyplot as plt\n"
      ]
    },
    {
      "cell_type": "code",
      "source": [
        "#reading the data from the csv file\n",
        "df = pd.read_csv('10YearPeriodHIV.csv')\n",
        "df.info()"
      ],
      "metadata": {
        "colab": {
          "base_uri": "https://localhost:8080/"
        },
        "id": "-ulHya5F8wHV",
        "outputId": "61627801-7b32-4733-ae01-200e965a188a"
      },
      "execution_count": null,
      "outputs": [
        {
          "output_type": "stream",
          "name": "stdout",
          "text": [
            "<class 'pandas.core.frame.DataFrame'>\n",
            "RangeIndex: 75 entries, 0 to 74\n",
            "Data columns (total 56 columns):\n",
            " #   Column                 Non-Null Count  Dtype  \n",
            "---  ------                 --------------  -----  \n",
            " 0   Location               75 non-null     object \n",
            " 1   Period2011             75 non-null     int64  \n",
            " 2   ART coverage 2011      75 non-null     float64\n",
            " 3   Death by HIV 2011      75 non-null     float64\n",
            " 4   People with HIV 2011   75 non-null     float64\n",
            " 5   Total Population 2011  75 non-null     float64\n",
            " 6   Period2012             75 non-null     int64  \n",
            " 7   ART coverage 2012      75 non-null     float64\n",
            " 8   Death by HIV 2012      75 non-null     float64\n",
            " 9   People with HIV 2012   75 non-null     float64\n",
            " 10  Total Population 2012  75 non-null     float64\n",
            " 11  Period2013             75 non-null     int64  \n",
            " 12  ART coverage 2013      75 non-null     float64\n",
            " 13  Death by HIV 2013      75 non-null     float64\n",
            " 14  People with HIV 2013   75 non-null     float64\n",
            " 15  Total Population 2013  75 non-null     float64\n",
            " 16  Period2014             75 non-null     int64  \n",
            " 17  ART coverage 2014      75 non-null     float64\n",
            " 18  Death by HIV 2014      75 non-null     float64\n",
            " 19  People with HIV 2014   75 non-null     float64\n",
            " 20  Total Population 2014  75 non-null     float64\n",
            " 21  Period2015             75 non-null     int64  \n",
            " 22  ART coverage 2015      75 non-null     float64\n",
            " 23  Death by HIV 2015      75 non-null     float64\n",
            " 24  People with HIV 2015   75 non-null     float64\n",
            " 25  Total Population 2015  75 non-null     float64\n",
            " 26  Period2016             75 non-null     int64  \n",
            " 27  ART coverage 2016      75 non-null     float64\n",
            " 28  Death by HIV 2016      75 non-null     float64\n",
            " 29  People with HIV 2016   75 non-null     float64\n",
            " 30  Total Population 2016  75 non-null     float64\n",
            " 31  Period2017             75 non-null     int64  \n",
            " 32  ART coverage 2017      75 non-null     float64\n",
            " 33  Death by HIV 2017      75 non-null     float64\n",
            " 34  People with HIV 2017   75 non-null     float64\n",
            " 35  Total Population 2017  75 non-null     float64\n",
            " 36  Period2018             75 non-null     int64  \n",
            " 37  ART coverage 2018      75 non-null     float64\n",
            " 38  Death by HIV 2018      75 non-null     float64\n",
            " 39  People with HIV 2018   75 non-null     float64\n",
            " 40  Total Population 2018  75 non-null     float64\n",
            " 41  Period2019             75 non-null     int64  \n",
            " 42  ART coverage 2019      75 non-null     float64\n",
            " 43  Death by HIV 2019      75 non-null     float64\n",
            " 44  People with HIV 2019   75 non-null     float64\n",
            " 45  Total Population 2019  75 non-null     float64\n",
            " 46  Period2020             75 non-null     int64  \n",
            " 47  ART coverage 2020      75 non-null     float64\n",
            " 48  Death by HIV 2020      75 non-null     float64\n",
            " 49  People with HIV 2020   75 non-null     float64\n",
            " 50  Total Population 2020  75 non-null     float64\n",
            " 51  Period2021             75 non-null     int64  \n",
            " 52  ART coverage 2021      75 non-null     float64\n",
            " 53  Death by HIV 2021      75 non-null     float64\n",
            " 54  People with HIV 2021   75 non-null     float64\n",
            " 55  Total Population 2021  75 non-null     float64\n",
            "dtypes: float64(44), int64(11), object(1)\n",
            "memory usage: 32.9+ KB\n"
          ]
        }
      ]
    },
    {
      "cell_type": "code",
      "source": [
        "\n",
        "X = df.iloc[:50,[55,54]]\n",
        "print(X)\n",
        "# X = df.iloc[30:81,[1,7]]\n",
        "#plotting\n",
        "x_= df.iloc[:50,55]\n",
        "y_= df.iloc[:50,54]\n",
        "plt.scatter(\n",
        "   x_, y_, \n",
        "   c='white', marker='o',\n",
        "   edgecolor='black', s=50\n",
        ")\n",
        "plt.xlabel(\"Population 2021\")\n",
        "plt.ylabel(\"People with HIV 2021\")\n",
        "plt.show()"
      ],
      "metadata": {
        "colab": {
          "base_uri": "https://localhost:8080/",
          "height": 1000
        },
        "id": "lyiJ2ePT-QXW",
        "outputId": "7a3b79d5-d6d9-4143-80a0-702d306f998e"
      },
      "execution_count": null,
      "outputs": [
        {
          "output_type": "stream",
          "name": "stdout",
          "text": [
            "    Total Population 2021  People with HIV 2021\n",
            "0               1449891.0               66000.0\n",
            "1               9749625.0               13000.0\n",
            "2              33933611.0              320000.0\n",
            "3               8141343.0               76000.0\n",
            "4               1883162.0                7800.0\n",
            "5              18275704.0                 810.0\n",
            "6               2015490.0               40000.0\n",
            "7               5180208.0               34000.0\n",
            "8              19002586.0               35000.0\n",
            "9                888456.0                 200.0\n",
            "10             11935764.0                5400.0\n",
            "11              4775110.0                9400.0\n",
            "12               902899.0                1400.0\n",
            "13             51265841.0              170000.0\n",
            "14             39835428.0               11000.0\n",
            "15             32776195.0               82000.0\n",
            "16             27224262.0              500000.0\n",
            "17              9340314.0               28000.0\n",
            "18              2811666.0                1400.0\n",
            "19              6702379.0               11000.0\n",
            "20              6899125.0                3200.0\n",
            "21              1748295.0                 500.0\n",
            "22             10953714.0               78000.0\n",
            "23             13497237.0              120000.0\n",
            "24              2930524.0                 500.0\n",
            "25               620173.0                 500.0\n",
            "26              8478242.0              110000.0\n",
            "27             47123533.0             1400000.0\n",
            "28             11541683.0              150000.0\n",
            "29              2278829.0               47000.0\n",
            "30             20855724.0              110000.0\n",
            "31              7219641.0               16000.0\n",
            "32             17196308.0               40000.0\n",
            "33             12255429.0               80000.0\n",
            "34               404915.0                3500.0\n",
            "35             28427333.0               60000.0\n",
            "36             16914985.0              110000.0\n",
            "37            130262220.0              360000.0\n",
            "38              3708610.0                8100.0\n",
            "39             11317498.0               36000.0\n",
            "40             21497097.0               88000.0\n",
            "41              6769151.0                3000.0\n",
            "42             19647681.0              990000.0\n",
            "43               561901.0                2600.0\n",
            "44              1172369.0              220000.0\n",
            "45              6958538.0                8300.0\n",
            "46             12451031.0               69000.0\n",
            "47             54985702.0             1400000.0\n",
            "48             15092171.0             1300000.0\n",
            "49              5139053.0               17000.0\n"
          ]
        },
        {
          "output_type": "display_data",
          "data": {
            "text/plain": [
              "<Figure size 432x288 with 1 Axes>"
            ],
            "image/png": "[encoded data removed]"
          },
          "metadata": {
            "needs_background": "light"
          }
        }
      ]
    },
    {
      "cell_type": "code",
      "source": [
        "cluster_number=3\n",
        "#clustering\n",
        "clustering = Birch(branching_factor = 50, n_clusters = 3, threshold = 1.5).fit(X)\n",
        "\n",
        "pred = clustering.predict(X)\n",
        "print(pred)\n"
      ],
      "metadata": {
        "colab": {
          "base_uri": "https://localhost:8080/"
        },
        "id": "VddfzxZC-bl8",
        "outputId": "1cdc6aaf-9506-446e-a55c-dccebc32c539"
      },
      "execution_count": null,
      "outputs": [
        {
          "output_type": "stream",
          "name": "stdout",
          "text": [
            "[2 2 0 2 2 0 2 2 0 2 2 2 2 0 0 0 0 2 2 2 2 2 2 2 2 2 2 0 2 2 0 2 0 2 2 0 0\n",
            " 1 2 2 0 2 0 2 2 2 2 0 0 2]\n"
          ]
        }
      ]
    },
    {
      "cell_type": "code",
      "source": [
        "labels = clustering.labels_\n",
        "print(labels)\n",
        "# get all of the unique clusters\n",
        "birch_clusters = unique(pred)\n",
        "print(birch_clusters)\n",
        "z = X.to_numpy()"
      ],
      "metadata": {
        "colab": {
          "base_uri": "https://localhost:8080/"
        },
        "id": "os_9r1_J_If7",
        "outputId": "28779dc8-1d2e-4c15-ec77-8c6c0ad9e71b"
      },
      "execution_count": null,
      "outputs": [
        {
          "output_type": "stream",
          "name": "stdout",
          "text": [
            "[2 2 0 2 2 0 2 2 0 2 2 2 2 0 0 0 0 2 2 2 2 2 2 2 2 2 2 0 2 2 0 2 0 2 2 0 0\n",
            " 1 2 2 0 2 0 2 2 2 2 0 0 2]\n",
            "[0 1 2]\n"
          ]
        }
      ]
    },
    {
      "cell_type": "code",
      "source": [
        "plt.scatter(z[:, 0], z[:, 1], c = pred)"
      ],
      "metadata": {
        "colab": {
          "base_uri": "https://localhost:8080/",
          "height": 306
        },
        "id": "MSdLOykx-Uyv",
        "outputId": "bab4b2ba-b29b-48c0-fe01-87cf22a4d317"
      },
      "execution_count": null,
      "outputs": [
        {
          "output_type": "execute_result",
          "data": {
            "text/plain": [
              "<matplotlib.collections.PathCollection at 0x7fc255a35a90>"
            ]
          },
          "metadata": {},
          "execution_count": 36
        },
        {
          "output_type": "display_data",
          "data": {
            "text/plain": [
              "<Figure size 432x288 with 1 Axes>"
            ],
            "image/png": "[encoded data removed]"
          },
          "metadata": {
            "needs_background": "light"
          }
        }
      ]
    },
    {
      "cell_type": "code",
      "source": [
        "from sklearn.metrics import davies_bouldin_score\n",
        "from sklearn.metrics import calinski_harabasz_score\n",
        "from sklearn.metrics import silhouette_score\n",
        "print(\"David_bouldin_score: \",davies_bouldin_score(X, labels))\n",
        "print(\"Silhoutte_score: \", silhouette_score(X, labels))\n",
        "print(\"Calinski_harabasz_score: \",calinski_harabasz_score(X, labels))"
      ],
      "metadata": {
        "colab": {
          "base_uri": "https://localhost:8080/"
        },
        "id": "j8KQOoJ--7Vv",
        "outputId": "7d90362e-4dcd-4c64-83b6-9db4da9b0678"
      },
      "execution_count": null,
      "outputs": [
        {
          "output_type": "stream",
          "name": "stdout",
          "text": [
            "David_bouldin_score:  0.4508646800726868\n",
            "Silhoutte_score:  0.5942568995031735\n",
            "Calinski_harabasz_score:  143.41142658640513\n"
          ]
        }
      ]
    }
  ]
}