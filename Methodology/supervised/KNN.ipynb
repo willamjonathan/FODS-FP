{
  "nbformat": 4,
  "nbformat_minor": 0,
  "metadata": {
    "colab": {
      "provenance": []
    },
    "kernelspec": {
      "name": "python3",
      "display_name": "Python 3"
    },
    "language_info": {
      "name": "python"
    }
  },
  "cells": [
    {
      "cell_type": "code",
      "source": [
        "import pandas as pd\n",
        "import numpy as np\n",
        "from sklearn.model_selection import train_test_split\n",
        "from sklearn.neighbors import KNeighborsClassifier\n",
        "from sklearn.model_selection import GridSearchCV\n",
        "from sklearn.metrics import accuracy_score, confusion_matrix"
      ],
      "metadata": {
        "id": "ULjI4NEbsrft"
      },
      "execution_count": null,
      "outputs": []
    },
    {
      "cell_type": "code",
      "source": [
        "#reading the data from the csv file\n",
        "df = pd.read_csv('10YearHIV-5columns.csv')\n",
        "df.info()"
      ],
      "metadata": {
        "colab": {
          "base_uri": "https://localhost:8080/"
        },
        "id": "mNsL29Aasshi",
        "outputId": "ebcbb6b1-4a5d-4e24-9e08-08045382c336"
      },
      "execution_count": null,
      "outputs": [
        {
          "output_type": "stream",
          "name": "stdout",
          "text": [
            "<class 'pandas.core.frame.DataFrame'>\n",
            "RangeIndex: 825 entries, 0 to 824\n",
            "Data columns (total 6 columns):\n",
            " #   Column             Non-Null Count  Dtype \n",
            "---  ------             --------------  ----- \n",
            " 0   Location           825 non-null    object\n",
            " 1   Period             825 non-null    int64 \n",
            " 2   ART coverage       825 non-null    int64 \n",
            " 3   Death by HIV       825 non-null    int64 \n",
            " 4   People with HIV    825 non-null    int64 \n",
            " 5   Total Population   825 non-null    int64 \n",
            "dtypes: int64(5), object(1)\n",
            "memory usage: 38.8+ KB\n"
          ]
        }
      ]
    },
    {
      "cell_type": "code",
      "source": [
        "\n",
        "df['Index'] = 'Major'\n",
        "df.loc[df['Death by HIV ']<= 2300\t,'Index'] =\"Minor\" \n",
        "X = df.iloc[:,[2,4,5]]#features\n",
        "y = df['Index']#target\n",
        "print(y)"
      ],
      "metadata": {
        "colab": {
          "base_uri": "https://localhost:8080/"
        },
        "id": "1R999t7tsxG7",
        "outputId": "d2510e18-7ade-436f-9d48-fd903744b37f"
      },
      "execution_count": null,
      "outputs": [
        {
          "output_type": "stream",
          "name": "stdout",
          "text": [
            "0      Minor\n",
            "1      Minor\n",
            "2      Major\n",
            "3      Major\n",
            "4      Minor\n",
            "       ...  \n",
            "820    Minor\n",
            "821    Minor\n",
            "822    Minor\n",
            "823    Minor\n",
            "824    Minor\n",
            "Name: Index, Length: 825, dtype: object\n"
          ]
        }
      ]
    },
    {
      "cell_type": "code",
      "source": [
        "X_train, X_test, y_train, y_test = train_test_split(X, y, test_size=0.33, random_state=42)"
      ],
      "metadata": {
        "id": "wxKJkZHts55Y"
      },
      "execution_count": null,
      "outputs": []
    },
    {
      "cell_type": "code",
      "source": [
        "knn_model = KNeighborsClassifier()\n",
        "knn_class = KNeighborsClassifier()\n",
        "knn_class.fit(X_train, y_train)\n",
        "predictions = knn_class.predict(X_test)\n",
        "predictions\n"
      ],
      "metadata": {
        "colab": {
          "base_uri": "https://localhost:8080/"
        },
        "id": "6KSghB4xs8vL",
        "outputId": "2148caf0-0228-4600-d7e5-3c914d5c33ed"
      },
      "execution_count": null,
      "outputs": [
        {
          "output_type": "execute_result",
          "data": {
            "text/plain": [
              "array(['Minor', 'Minor', 'Minor', 'Minor', 'Minor', 'Major', 'Major',\n",
              "       'Minor', 'Minor', 'Minor', 'Major', 'Minor', 'Major', 'Minor',\n",
              "       'Minor', 'Minor', 'Minor', 'Minor', 'Major', 'Minor', 'Minor',\n",
              "       'Minor', 'Minor', 'Minor', 'Minor', 'Minor', 'Minor', 'Minor',\n",
              "       'Minor', 'Minor', 'Major', 'Minor', 'Minor', 'Minor', 'Minor',\n",
              "       'Minor', 'Major', 'Minor', 'Major', 'Minor', 'Major', 'Minor',\n",
              "       'Minor', 'Minor', 'Minor', 'Major', 'Major', 'Minor', 'Major',\n",
              "       'Minor', 'Minor', 'Minor', 'Minor', 'Minor', 'Major', 'Major',\n",
              "       'Minor', 'Major', 'Minor', 'Major', 'Major', 'Major', 'Minor',\n",
              "       'Minor', 'Minor', 'Minor', 'Minor', 'Minor', 'Minor', 'Minor',\n",
              "       'Minor', 'Minor', 'Minor', 'Major', 'Minor', 'Minor', 'Minor',\n",
              "       'Minor', 'Minor', 'Minor', 'Minor', 'Minor', 'Major', 'Minor',\n",
              "       'Minor', 'Minor', 'Minor', 'Minor', 'Minor', 'Minor', 'Minor',\n",
              "       'Minor', 'Major', 'Minor', 'Major', 'Minor', 'Minor', 'Minor',\n",
              "       'Minor', 'Minor', 'Minor', 'Minor', 'Minor', 'Minor', 'Minor',\n",
              "       'Minor', 'Minor', 'Minor', 'Major', 'Major', 'Minor', 'Minor',\n",
              "       'Major', 'Minor', 'Minor', 'Minor', 'Minor', 'Major', 'Minor',\n",
              "       'Minor', 'Minor', 'Minor', 'Minor', 'Minor', 'Major', 'Minor',\n",
              "       'Minor', 'Major', 'Minor', 'Minor', 'Minor', 'Minor', 'Minor',\n",
              "       'Minor', 'Major', 'Minor', 'Minor', 'Minor', 'Minor', 'Major',\n",
              "       'Minor', 'Minor', 'Minor', 'Major', 'Major', 'Minor', 'Minor',\n",
              "       'Minor', 'Minor', 'Minor', 'Major', 'Minor', 'Minor', 'Major',\n",
              "       'Major', 'Minor', 'Minor', 'Major', 'Major', 'Minor', 'Major',\n",
              "       'Major', 'Minor', 'Minor', 'Minor', 'Minor', 'Minor', 'Major',\n",
              "       'Major', 'Minor', 'Minor', 'Minor', 'Minor', 'Minor', 'Major',\n",
              "       'Minor', 'Minor', 'Major', 'Minor', 'Minor', 'Major', 'Minor',\n",
              "       'Major', 'Minor', 'Major', 'Minor', 'Major', 'Minor', 'Minor',\n",
              "       'Major', 'Minor', 'Minor', 'Minor', 'Minor', 'Minor', 'Minor',\n",
              "       'Minor', 'Major', 'Minor', 'Major', 'Minor', 'Major', 'Minor',\n",
              "       'Major', 'Minor', 'Major', 'Minor', 'Minor', 'Major', 'Major',\n",
              "       'Minor', 'Minor', 'Minor', 'Minor', 'Minor', 'Major', 'Minor',\n",
              "       'Minor', 'Minor', 'Minor', 'Minor', 'Minor', 'Minor', 'Major',\n",
              "       'Minor', 'Major', 'Minor', 'Minor', 'Minor', 'Minor', 'Minor',\n",
              "       'Minor', 'Minor', 'Minor', 'Major', 'Major', 'Minor', 'Minor',\n",
              "       'Major', 'Minor', 'Minor', 'Minor', 'Minor', 'Minor', 'Minor',\n",
              "       'Minor', 'Minor', 'Minor', 'Major', 'Minor', 'Minor', 'Minor',\n",
              "       'Major', 'Minor', 'Minor', 'Major', 'Major', 'Minor', 'Minor',\n",
              "       'Minor', 'Minor', 'Minor', 'Minor', 'Major', 'Minor', 'Minor',\n",
              "       'Major', 'Major', 'Minor', 'Minor', 'Major', 'Minor', 'Minor'],\n",
              "      dtype=object)"
            ]
          },
          "metadata": {},
          "execution_count": 75
        }
      ]
    },
    {
      "cell_type": "code",
      "source": [
        "# Function to calculate accuracy\n",
        "def Report(y_test, y_pred):\n",
        "    print(\"Report : \",\n",
        "    classification_report(y_test, y_pred))"
      ],
      "metadata": {
        "id": "gbPEjb4W3PqQ"
      },
      "execution_count": null,
      "outputs": []
    },
    {
      "cell_type": "code",
      "source": [
        "print(\"Trained acc: \", accuracy_score(y_train, knn_class.predict(X_train)))\n",
        "print(\"Test accuracy:\", accuracy_score(y_test, predictions))\n",
        "print(\"Confusion matrix train: \", \"\\n\", confusion_matrix(y_train, knn_class.predict(X_train)))\n",
        "print(\"Confusion matrix test: \", \"\\n\",confusion_matrix(y_test, predictions))"
      ],
      "metadata": {
        "colab": {
          "base_uri": "https://localhost:8080/"
        },
        "id": "be_cWDR9xSK9",
        "outputId": "1ff0caa5-692f-420c-fdc1-cf36d2a38f55"
      },
      "execution_count": null,
      "outputs": [
        {
          "output_type": "stream",
          "name": "stdout",
          "text": [
            "Trained acc:  0.8840579710144928\n",
            "Test accuracy: 0.8534798534798534\n",
            "Confusion matrix train:  \n",
            " [[135  47]\n",
            " [ 17 353]]\n",
            "Confusion matrix test:  \n",
            " [[ 58  29]\n",
            " [ 11 175]]\n"
          ]
        }
      ]
    },
    {
      "cell_type": "code",
      "source": [
        "from sklearn.metrics import classification_report\n",
        "print(Report(y_train, knn_class.predict(X_train)))\n",
        "print(\"---------------------------------------------------------\")\n",
        "print(Report(y_test, predictions))"
      ],
      "metadata": {
        "colab": {
          "base_uri": "https://localhost:8080/"
        },
        "id": "3SAXUVaVtZ0v",
        "outputId": "58f65c51-d07a-43e0-b607-f1fa13a5d3c4"
      },
      "execution_count": null,
      "outputs": [
        {
          "output_type": "stream",
          "name": "stdout",
          "text": [
            "Report :                precision    recall  f1-score   support\n",
            "\n",
            "       Major       0.89      0.74      0.81       182\n",
            "       Minor       0.88      0.95      0.92       370\n",
            "\n",
            "    accuracy                           0.88       552\n",
            "   macro avg       0.89      0.85      0.86       552\n",
            "weighted avg       0.88      0.88      0.88       552\n",
            "\n",
            "None\n",
            "---------------------------------------------------------\n",
            "Report :                precision    recall  f1-score   support\n",
            "\n",
            "       Major       0.84      0.67      0.74        87\n",
            "       Minor       0.86      0.94      0.90       186\n",
            "\n",
            "    accuracy                           0.85       273\n",
            "   macro avg       0.85      0.80      0.82       273\n",
            "weighted avg       0.85      0.85      0.85       273\n",
            "\n",
            "None\n"
          ]
        }
      ]
    },
    {
      "cell_type": "code",
      "source": [],
      "metadata": {
        "id": "FPrRTE9U3Thm"
      },
      "execution_count": null,
      "outputs": []
    }
  ]
}