{
  "nbformat": 4,
  "nbformat_minor": 0,
  "metadata": {
    "colab": {
      "provenance": []
    },
    "kernelspec": {
      "name": "python3",
      "display_name": "Python 3"
    },
    "language_info": {
      "name": "python"
    }
  },
  "cells": [
    {
      "cell_type": "code",
      "execution_count": null,
      "metadata": {
        "id": "Cf8i1yq51Xyb"
      },
      "outputs": [],
      "source": [
        "# Importing the libraries\n",
        "import numpy as np\n",
        "import matplotlib.pyplot as plt\n",
        "import pandas as pd\n",
        "\n",
        "# Fitting Random Forest Regression to the dataset\n",
        "# import the regressor\n",
        "from sklearn.ensemble import RandomForestRegressor\n",
        "from sklearn.model_selection import train_test_split\n",
        "from sklearn.ensemble import RandomForestClassifier\n",
        "\n",
        "from sklearn.metrics import classification_report, confusion_matrix, accuracy_score\n"
      ]
    },
    {
      "cell_type": "code",
      "source": [
        "df = pd.read_csv('10YearHIV-5columns.csv')\n",
        "df.info()"
      ],
      "metadata": {
        "colab": {
          "base_uri": "https://localhost:8080/"
        },
        "id": "gw4jcHPg3agb",
        "outputId": "5313169a-69d5-40b6-ada9-f5c8d4f7b58c"
      },
      "execution_count": null,
      "outputs": [
        {
          "output_type": "stream",
          "name": "stdout",
          "text": [
            "<class 'pandas.core.frame.DataFrame'>\n",
            "RangeIndex: 825 entries, 0 to 824\n",
            "Data columns (total 6 columns):\n",
            " #   Column             Non-Null Count  Dtype \n",
            "---  ------             --------------  ----- \n",
            " 0   Location           825 non-null    object\n",
            " 1   Period             825 non-null    int64 \n",
            " 2   ART coverage       825 non-null    int64 \n",
            " 3   Death by HIV       825 non-null    int64 \n",
            " 4   People with HIV    825 non-null    int64 \n",
            " 5   Total Population   825 non-null    int64 \n",
            "dtypes: int64(5), object(1)\n",
            "memory usage: 38.8+ KB\n"
          ]
        }
      ]
    },
    {
      "cell_type": "code",
      "source": [
        "df['Index'] = 'Major'\n",
        "df.loc[df['Death by HIV ']<= 2300\t,'Index'] =\"Minor\" \n",
        "X = df.iloc[:,[2,4,5]]#features\n",
        "y = df['Index']#target\n",
        "print(y)"
      ],
      "metadata": {
        "id": "u9i7VBO24ATL",
        "colab": {
          "base_uri": "https://localhost:8080/"
        },
        "outputId": "6df166f6-9669-437b-a398-af86ec3456cd"
      },
      "execution_count": null,
      "outputs": [
        {
          "output_type": "stream",
          "name": "stdout",
          "text": [
            "0      Minor\n",
            "1      Minor\n",
            "2      Major\n",
            "3      Major\n",
            "4      Minor\n",
            "       ...  \n",
            "820    Minor\n",
            "821    Minor\n",
            "822    Minor\n",
            "823    Minor\n",
            "824    Minor\n",
            "Name: Index, Length: 825, dtype: object\n"
          ]
        }
      ]
    },
    {
      "cell_type": "code",
      "source": [
        "X_train, X_test, y_train, y_test = train_test_split(X, y, test_size = 0.30, random_state = 42)\n",
        "# indicates 70% traning and 30 testing"
      ],
      "metadata": {
        "id": "OfPZvQN5Ao7k"
      },
      "execution_count": null,
      "outputs": []
    },
    {
      "cell_type": "code",
      "source": [
        "model_train = RandomForestClassifier(n_estimators = 50)\n",
        "model_train.fit(X_train, y_train)"
      ],
      "metadata": {
        "colab": {
          "base_uri": "https://localhost:8080/"
        },
        "id": "Vd1jaxQiA3mN",
        "outputId": "468ca3d0-0c33-4a7a-ebc8-d41cec3b5f5f"
      },
      "execution_count": null,
      "outputs": [
        {
          "output_type": "execute_result",
          "data": {
            "text/plain": [
              "RandomForestClassifier(n_estimators=50)"
            ]
          },
          "metadata": {},
          "execution_count": 66
        }
      ]
    },
    {
      "cell_type": "code",
      "source": [
        "# make prediction\n",
        "predictions = model_train.predict(X_test)"
      ],
      "metadata": {
        "id": "Wd7OgZY3A9eA"
      },
      "execution_count": null,
      "outputs": []
    },
    {
      "cell_type": "code",
      "source": [
        "# Function to calculate accuracy\n",
        "def Report(y_test, y_pred):\n",
        "    print(\"Report : \",\n",
        "    classification_report(y_test, y_pred))"
      ],
      "metadata": {
        "id": "90eE64Va9y0S"
      },
      "execution_count": null,
      "outputs": []
    },
    {
      "cell_type": "code",
      "source": [
        "\n",
        "print(\"Trained acc: \", accuracy_score(y_train, model_train.predict(X_train)))\n",
        "print(\"Test accuracy:\", accuracy_score(y_test, predictions))\n",
        "print(\"Confusion matrix train: \", \"\\n\", confusion_matrix(y_train, model_train.predict(X_train)))\n",
        "print(\"Confusion matrix test: \", \"\\n\",confusion_matrix(y_test, predictions))\n",
        "# overfitting test = 1\n"
      ],
      "metadata": {
        "colab": {
          "base_uri": "https://localhost:8080/"
        },
        "id": "omoVbJ4J9eT2",
        "outputId": "6a2059c1-4f86-4033-ccdf-de02d5398eeb"
      },
      "execution_count": null,
      "outputs": [
        {
          "output_type": "stream",
          "name": "stdout",
          "text": [
            "Trained acc:  1.0\n",
            "Test accuracy: 0.9637096774193549\n",
            "Confusion matrix train:  \n",
            " [[189   0]\n",
            " [  0 388]]\n",
            "Confusion matrix test:  \n",
            " [[ 77   3]\n",
            " [  6 162]]\n"
          ]
        }
      ]
    },
    {
      "cell_type": "code",
      "source": [
        "model = RandomForestClassifier(max_depth=2,\n",
        "                               random_state=22)\n",
        "model.fit(X_train, y_train)\n",
        "print('Training Accuracy : ',\n",
        "      accuracy_score(y_train,\n",
        "                             model.predict(X_train)))\n",
        "print('Test Accuracy : ',\n",
        "      accuracy_score(y_test,\n",
        "                             model.predict(X_test)))\n",
        "print(\"Confusion matrix train: \", \"\\n\", confusion_matrix(y_train, model_train.predict(X_train)))\n",
        "print(\"Confusion matrix test: \", \"\\n\",confusion_matrix(y_test, predictions))"
      ],
      "metadata": {
        "colab": {
          "base_uri": "https://localhost:8080/"
        },
        "id": "wUAQv1jO_B2L",
        "outputId": "44e338cf-e111-4327-98ed-2559b1beab2d"
      },
      "execution_count": null,
      "outputs": [
        {
          "output_type": "stream",
          "name": "stdout",
          "text": [
            "Training Accuracy :  0.9358752166377816\n",
            "Test Accuracy :  0.9153225806451613\n",
            "Confusion matrix train:  \n",
            " [[189   0]\n",
            " [  0 388]]\n",
            "Confusion matrix test:  \n",
            " [[ 77   3]\n",
            " [  6 162]]\n"
          ]
        }
      ]
    },
    {
      "cell_type": "code",
      "source": [
        "print(Report(y_train, model_train.predict(X_train)))\n",
        "print(\"---------------------------------------------------------\")\n",
        "print(Report(y_test, predictions))"
      ],
      "metadata": {
        "id": "ceOMLYZnA_ik",
        "outputId": "d0911567-02bb-45fd-f373-2b3b7394566a",
        "colab": {
          "base_uri": "https://localhost:8080/"
        }
      },
      "execution_count": null,
      "outputs": [
        {
          "output_type": "stream",
          "name": "stdout",
          "text": [
            "Report :                precision    recall  f1-score   support\n",
            "\n",
            "       Major       1.00      1.00      1.00        12\n",
            "       Minor       1.00      1.00      1.00        23\n",
            "\n",
            "    accuracy                           1.00        35\n",
            "   macro avg       1.00      1.00      1.00        35\n",
            "weighted avg       1.00      1.00      1.00        35\n",
            "\n",
            "None\n",
            "---------------------------------------------------------\n",
            "Report :                precision    recall  f1-score   support\n",
            "\n",
            "       Major       1.00      0.83      0.91         6\n",
            "       Minor       0.90      1.00      0.95         9\n",
            "\n",
            "    accuracy                           0.93        15\n",
            "   macro avg       0.95      0.92      0.93        15\n",
            "weighted avg       0.94      0.93      0.93        15\n",
            "\n",
            "None\n"
          ]
        }
      ]
    }
  ]
}