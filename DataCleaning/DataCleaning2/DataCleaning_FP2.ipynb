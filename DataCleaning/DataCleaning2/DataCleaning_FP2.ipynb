{
  "nbformat": 4,
  "nbformat_minor": 0,
  "metadata": {
    "colab": {
      "provenance": []
    },
    "kernelspec": {
      "name": "python3",
      "display_name": "Python 3"
    },
    "language_info": {
      "name": "python"
    }
  },
  "cells": [
    {
      "cell_type": "markdown",
      "source": [
        "**DATA CLEANING FOR FODS (Fundamental of Data Science) Final Project**"
      ],
      "metadata": {
        "id": "z8_5rSgge6kV"
      }
    },
    {
      "cell_type": "code",
      "source": [
        "# DATA CLEANING FOR FINAL PROJECT - william\n",
        "# The data is taken from here: https://www.who.int/data/gho/data/indicators/indicator-details/GHO/estimated-number-of-people--living-with-hiv"
      ],
      "metadata": {
        "id": "8CoFci6JeoEy"
      },
      "execution_count": 70,
      "outputs": []
    },
    {
      "cell_type": "code",
      "source": [
        "# import modules\n",
        "import pandas as pd"
      ],
      "metadata": {
        "id": "nMlHd2kJfFyA"
      },
      "execution_count": 71,
      "outputs": []
    },
    {
      "cell_type": "code",
      "source": [
        "#reading the data from the csv file\n",
        "df = pd.read_csv('HIVamongyear.csv')\n",
        "df.info()"
      ],
      "metadata": {
        "colab": {
          "base_uri": "https://localhost:8080/"
        },
        "id": "YsTxfIDFfKbE",
        "outputId": "2bff2f5e-14b0-42f3-b05d-8b3534168de7"
      },
      "execution_count": 72,
      "outputs": [
        {
          "output_type": "stream",
          "name": "stdout",
          "text": [
            "<class 'pandas.core.frame.DataFrame'>\n",
            "RangeIndex: 1164 entries, 0 to 1163\n",
            "Data columns (total 34 columns):\n",
            " #   Column                      Non-Null Count  Dtype  \n",
            "---  ------                      --------------  -----  \n",
            " 0   IndicatorCode               1164 non-null   object \n",
            " 1   Indicator                   1164 non-null   object \n",
            " 2   ValueType                   1164 non-null   object \n",
            " 3   ParentLocationCode          1164 non-null   object \n",
            " 4   ParentLocation              1164 non-null   object \n",
            " 5   Location type               1164 non-null   object \n",
            " 6   SpatialDimValueCode         1164 non-null   object \n",
            " 7   Location                    1164 non-null   object \n",
            " 8   Period type                 1164 non-null   object \n",
            " 9   Period                      1164 non-null   int64  \n",
            " 10  IsLatestYear                1164 non-null   bool   \n",
            " 11  Dim1 type                   0 non-null      float64\n",
            " 12  Dim1                        0 non-null      float64\n",
            " 13  Dim1ValueCode               0 non-null      float64\n",
            " 14  Dim2 type                   0 non-null      float64\n",
            " 15  Dim2                        0 non-null      float64\n",
            " 16  Dim2ValueCode               0 non-null      float64\n",
            " 17  Dim3 type                   0 non-null      float64\n",
            " 18  Dim3                        0 non-null      float64\n",
            " 19  Dim3ValueCode               0 non-null      float64\n",
            " 20  DataSourceDimValueCode      0 non-null      float64\n",
            " 21  DataSource                  0 non-null      float64\n",
            " 22  FactValueNumericPrefix      59 non-null     object \n",
            " 23  FactValueNumeric            833 non-null    float64\n",
            " 24  FactValueUoM                0 non-null      float64\n",
            " 25  FactValueNumericLowPrefix   70 non-null     object \n",
            " 26  FactValueNumericLow         833 non-null    float64\n",
            " 27  FactValueNumericHighPrefix  48 non-null     object \n",
            " 28  FactValueNumericHigh        833 non-null    float64\n",
            " 29  Value                       1164 non-null   object \n",
            " 30  FactValueTranslationID      331 non-null    float64\n",
            " 31  FactComments                0 non-null      float64\n",
            " 32  Language                    1164 non-null   object \n",
            " 33  DateModified                1164 non-null   object \n",
            "dtypes: bool(1), float64(17), int64(1), object(15)\n",
            "memory usage: 301.4+ KB\n"
          ]
        }
      ]
    },
    {
      "cell_type": "code",
      "source": [
        "# taking certain column and dividing the csv file according the year\n",
        "df2021 = df.iloc[0:195,[3,7,23]]\n",
        "df2021.info()\n",
        "df2020 = df.iloc[195:389,[7,23]]\n",
        "df2020.info()\n",
        "df2019 = df.iloc[388:582,[7,23]]\n",
        "df2019.info()"
      ],
      "metadata": {
        "id": "eqwxPmTrHYHD",
        "colab": {
          "base_uri": "https://localhost:8080/"
        },
        "outputId": "b879f2df-cb01-4594-ca0c-2a38f64b067b"
      },
      "execution_count": 94,
      "outputs": [
        {
          "output_type": "stream",
          "name": "stdout",
          "text": [
            "<class 'pandas.core.frame.DataFrame'>\n",
            "RangeIndex: 195 entries, 0 to 194\n",
            "Data columns (total 3 columns):\n",
            " #   Column              Non-Null Count  Dtype  \n",
            "---  ------              --------------  -----  \n",
            " 0   ParentLocationCode  195 non-null    object \n",
            " 1   Location            195 non-null    object \n",
            " 2   FactValueNumeric    139 non-null    float64\n",
            "dtypes: float64(1), object(2)\n",
            "memory usage: 4.7+ KB\n",
            "<class 'pandas.core.frame.DataFrame'>\n",
            "RangeIndex: 194 entries, 195 to 388\n",
            "Data columns (total 2 columns):\n",
            " #   Column            Non-Null Count  Dtype  \n",
            "---  ------            --------------  -----  \n",
            " 0   Location          194 non-null    object \n",
            " 1   FactValueNumeric  139 non-null    float64\n",
            "dtypes: float64(1), object(1)\n",
            "memory usage: 3.2+ KB\n",
            "<class 'pandas.core.frame.DataFrame'>\n",
            "RangeIndex: 194 entries, 388 to 581\n",
            "Data columns (total 2 columns):\n",
            " #   Column            Non-Null Count  Dtype  \n",
            "---  ------            --------------  -----  \n",
            " 0   Location          194 non-null    object \n",
            " 1   FactValueNumeric  140 non-null    float64\n",
            "dtypes: float64(1), object(1)\n",
            "memory usage: 3.2+ KB\n"
          ]
        }
      ]
    },
    {
      "cell_type": "code",
      "source": [
        "# Merging 3 dataframes by using location as the pivot\n",
        "dff= pd.merge(pd.merge(df2021,df2020,on='Location'),df2019,on='Location')\n",
        "dff.head()"
      ],
      "metadata": {
        "colab": {
          "base_uri": "https://localhost:8080/",
          "height": 206
        },
        "id": "lEo5AVllX_wF",
        "outputId": "56d1d0d0-9104-49e5-b19b-65180cba1d0c"
      },
      "execution_count": 95,
      "outputs": [
        {
          "output_type": "execute_result",
          "data": {
            "text/plain": [
              "  ParentLocationCode Location  FactValueNumeric_x  FactValueNumeric_y  \\\n",
              "0                AFR  Comoros               200.0               200.0   \n",
              "1                AFR  Comoros               200.0               200.0   \n",
              "2                EMR  Bahrain               500.0               500.0   \n",
              "3                EUR  Iceland               500.0               500.0   \n",
              "4                EMR    Qatar               500.0               500.0   \n",
              "\n",
              "   FactValueNumeric  \n",
              "0             200.0  \n",
              "1             200.0  \n",
              "2             500.0  \n",
              "3             500.0  \n",
              "4             200.0  "
            ],
            "text/html": [
              "\n",
              "  <div id=\"df-6efadb13-007e-4195-8bb2-6362d4efc875\">\n",
              "    <div class=\"colab-df-container\">\n",
              "      <div>\n",
              "<style scoped>\n",
              "    .dataframe tbody tr th:only-of-type {\n",
              "        vertical-align: middle;\n",
              "    }\n",
              "\n",
              "    .dataframe tbody tr th {\n",
              "        vertical-align: top;\n",
              "    }\n",
              "\n",
              "    .dataframe thead th {\n",
              "        text-align: right;\n",
              "    }\n",
              "</style>\n",
              "<table border=\"1\" class=\"dataframe\">\n",
              "  <thead>\n",
              "    <tr style=\"text-align: right;\">\n",
              "      <th></th>\n",
              "      <th>ParentLocationCode</th>\n",
              "      <th>Location</th>\n",
              "      <th>FactValueNumeric_x</th>\n",
              "      <th>FactValueNumeric_y</th>\n",
              "      <th>FactValueNumeric</th>\n",
              "    </tr>\n",
              "  </thead>\n",
              "  <tbody>\n",
              "    <tr>\n",
              "      <th>0</th>\n",
              "      <td>AFR</td>\n",
              "      <td>Comoros</td>\n",
              "      <td>200.0</td>\n",
              "      <td>200.0</td>\n",
              "      <td>200.0</td>\n",
              "    </tr>\n",
              "    <tr>\n",
              "      <th>1</th>\n",
              "      <td>AFR</td>\n",
              "      <td>Comoros</td>\n",
              "      <td>200.0</td>\n",
              "      <td>200.0</td>\n",
              "      <td>200.0</td>\n",
              "    </tr>\n",
              "    <tr>\n",
              "      <th>2</th>\n",
              "      <td>EMR</td>\n",
              "      <td>Bahrain</td>\n",
              "      <td>500.0</td>\n",
              "      <td>500.0</td>\n",
              "      <td>500.0</td>\n",
              "    </tr>\n",
              "    <tr>\n",
              "      <th>3</th>\n",
              "      <td>EUR</td>\n",
              "      <td>Iceland</td>\n",
              "      <td>500.0</td>\n",
              "      <td>500.0</td>\n",
              "      <td>500.0</td>\n",
              "    </tr>\n",
              "    <tr>\n",
              "      <th>4</th>\n",
              "      <td>EMR</td>\n",
              "      <td>Qatar</td>\n",
              "      <td>500.0</td>\n",
              "      <td>500.0</td>\n",
              "      <td>200.0</td>\n",
              "    </tr>\n",
              "  </tbody>\n",
              "</table>\n",
              "</div>\n",
              "      <button class=\"colab-df-convert\" onclick=\"convertToInteractive('df-6efadb13-007e-4195-8bb2-6362d4efc875')\"\n",
              "              title=\"Convert this dataframe to an interactive table.\"\n",
              "              style=\"display:none;\">\n",
              "        \n",
              "  <svg xmlns=\"http://www.w3.org/2000/svg\" height=\"24px\"viewBox=\"0 0 24 24\"\n",
              "       width=\"24px\">\n",
              "    <path d=\"M0 0h24v24H0V0z\" fill=\"none\"/>\n",
              "    <path d=\"M18.56 5.44l.94 2.06.94-2.06 2.06-.94-2.06-.94-.94-2.06-.94 2.06-2.06.94zm-11 1L8.5 8.5l.94-2.06 2.06-.94-2.06-.94L8.5 2.5l-.94 2.06-2.06.94zm10 10l.94 2.06.94-2.06 2.06-.94-2.06-.94-.94-2.06-.94 2.06-2.06.94z\"/><path d=\"M17.41 7.96l-1.37-1.37c-.4-.4-.92-.59-1.43-.59-.52 0-1.04.2-1.43.59L10.3 9.45l-7.72 7.72c-.78.78-.78 2.05 0 2.83L4 21.41c.39.39.9.59 1.41.59.51 0 1.02-.2 1.41-.59l7.78-7.78 2.81-2.81c.8-.78.8-2.07 0-2.86zM5.41 20L4 18.59l7.72-7.72 1.47 1.35L5.41 20z\"/>\n",
              "  </svg>\n",
              "      </button>\n",
              "      \n",
              "  <style>\n",
              "    .colab-df-container {\n",
              "      display:flex;\n",
              "      flex-wrap:wrap;\n",
              "      gap: 12px;\n",
              "    }\n",
              "\n",
              "    .colab-df-convert {\n",
              "      background-color: #E8F0FE;\n",
              "      border: none;\n",
              "      border-radius: 50%;\n",
              "      cursor: pointer;\n",
              "      display: none;\n",
              "      fill: #1967D2;\n",
              "      height: 32px;\n",
              "      padding: 0 0 0 0;\n",
              "      width: 32px;\n",
              "    }\n",
              "\n",
              "    .colab-df-convert:hover {\n",
              "      background-color: #E2EBFA;\n",
              "      box-shadow: 0px 1px 2px rgba(60, 64, 67, 0.3), 0px 1px 3px 1px rgba(60, 64, 67, 0.15);\n",
              "      fill: #174EA6;\n",
              "    }\n",
              "\n",
              "    [theme=dark] .colab-df-convert {\n",
              "      background-color: #3B4455;\n",
              "      fill: #D2E3FC;\n",
              "    }\n",
              "\n",
              "    [theme=dark] .colab-df-convert:hover {\n",
              "      background-color: #434B5C;\n",
              "      box-shadow: 0px 1px 3px 1px rgba(0, 0, 0, 0.15);\n",
              "      filter: drop-shadow(0px 1px 2px rgba(0, 0, 0, 0.3));\n",
              "      fill: #FFFFFF;\n",
              "    }\n",
              "  </style>\n",
              "\n",
              "      <script>\n",
              "        const buttonEl =\n",
              "          document.querySelector('#df-6efadb13-007e-4195-8bb2-6362d4efc875 button.colab-df-convert');\n",
              "        buttonEl.style.display =\n",
              "          google.colab.kernel.accessAllowed ? 'block' : 'none';\n",
              "\n",
              "        async function convertToInteractive(key) {\n",
              "          const element = document.querySelector('#df-6efadb13-007e-4195-8bb2-6362d4efc875');\n",
              "          const dataTable =\n",
              "            await google.colab.kernel.invokeFunction('convertToInteractive',\n",
              "                                                     [key], {});\n",
              "          if (!dataTable) return;\n",
              "\n",
              "          const docLinkHtml = 'Like what you see? Visit the ' +\n",
              "            '<a target=\"_blank\" href=https://colab.research.google.com/notebooks/data_table.ipynb>data table notebook</a>'\n",
              "            + ' to learn more about interactive tables.';\n",
              "          element.innerHTML = '';\n",
              "          dataTable['output_type'] = 'display_data';\n",
              "          await google.colab.output.renderOutput(dataTable, element);\n",
              "          const docLink = document.createElement('div');\n",
              "          docLink.innerHTML = docLinkHtml;\n",
              "          element.appendChild(docLink);\n",
              "        }\n",
              "      </script>\n",
              "    </div>\n",
              "  </div>\n",
              "  "
            ]
          },
          "metadata": {},
          "execution_count": 95
        }
      ]
    },
    {
      "cell_type": "code",
      "source": [
        "# Renaming the columns in dff\n",
        "\n",
        "dff.rename(columns = {\n",
        "  'FactValueNumeric_x':'FValue2021'\n",
        "  ,'FactValueNumeric_y':'FValue2020'\n",
        "  ,'FactValueNumeric' : 'FValue2019'\n",
        "  ,'ParentLocationCode': 'LocCode'\n",
        "  }, inplace = True)\n",
        "\n",
        "dff.info()"
      ],
      "metadata": {
        "colab": {
          "base_uri": "https://localhost:8080/"
        },
        "id": "S-SYPe32d8mU",
        "outputId": "b3adb5bc-e99b-4129-8691-34a611b9554c"
      },
      "execution_count": 99,
      "outputs": [
        {
          "output_type": "stream",
          "name": "stdout",
          "text": [
            "<class 'pandas.core.frame.DataFrame'>\n",
            "Int64Index: 139 entries, 0 to 138\n",
            "Data columns (total 5 columns):\n",
            " #   Column      Non-Null Count  Dtype  \n",
            "---  ------      --------------  -----  \n",
            " 0   LocCode     139 non-null    object \n",
            " 1   Location    139 non-null    object \n",
            " 2   FValue2021  139 non-null    float64\n",
            " 3   Fvalue2020  139 non-null    float64\n",
            " 4   Fvalue2019  139 non-null    float64\n",
            "dtypes: float64(3), object(2)\n",
            "memory usage: 6.5+ KB\n"
          ]
        }
      ]
    },
    {
      "cell_type": "code",
      "source": [
        "# dropping function in case there is a null data\n",
        "\n",
        "dff.dropna(\n",
        "    axis=0,\n",
        "    how='any',\n",
        "    thresh=None,\n",
        "    subset=None,\n",
        "    inplace=True\n",
        ")\n",
        "\n",
        "dff.head()\n",
        "dff.info()"
      ],
      "metadata": {
        "colab": {
          "base_uri": "https://localhost:8080/"
        },
        "id": "eZylRZPvaeZz",
        "outputId": "d1fc841d-a692-49a5-a925-b78e3003b0d6"
      },
      "execution_count": 100,
      "outputs": [
        {
          "output_type": "stream",
          "name": "stdout",
          "text": [
            "<class 'pandas.core.frame.DataFrame'>\n",
            "Int64Index: 139 entries, 0 to 138\n",
            "Data columns (total 5 columns):\n",
            " #   Column      Non-Null Count  Dtype  \n",
            "---  ------      --------------  -----  \n",
            " 0   LocCode     139 non-null    object \n",
            " 1   Location    139 non-null    object \n",
            " 2   FValue2021  139 non-null    float64\n",
            " 3   Fvalue2020  139 non-null    float64\n",
            " 4   Fvalue2019  139 non-null    float64\n",
            "dtypes: float64(3), object(2)\n",
            "memory usage: 6.5+ KB\n"
          ]
        }
      ]
    },
    {
      "cell_type": "code",
      "source": [
        "# Saving the file and rename it\n",
        "New_filename = 'cleaned-HIVdataperyear.csv'\n",
        "dff.to_csv(New_filename, index=False)\n",
        "dff.info()"
      ],
      "metadata": {
        "colab": {
          "base_uri": "https://localhost:8080/"
        },
        "id": "UodrVX3iesiq",
        "outputId": "b971c6ac-12a3-48b9-ff90-c9067d6cf096"
      },
      "execution_count": 101,
      "outputs": [
        {
          "output_type": "stream",
          "name": "stdout",
          "text": [
            "<class 'pandas.core.frame.DataFrame'>\n",
            "Int64Index: 139 entries, 0 to 138\n",
            "Data columns (total 5 columns):\n",
            " #   Column      Non-Null Count  Dtype  \n",
            "---  ------      --------------  -----  \n",
            " 0   LocCode     139 non-null    object \n",
            " 1   Location    139 non-null    object \n",
            " 2   FValue2021  139 non-null    float64\n",
            " 3   Fvalue2020  139 non-null    float64\n",
            " 4   Fvalue2019  139 non-null    float64\n",
            "dtypes: float64(3), object(2)\n",
            "memory usage: 6.5+ KB\n"
          ]
        }
      ]
    }
  ]
}