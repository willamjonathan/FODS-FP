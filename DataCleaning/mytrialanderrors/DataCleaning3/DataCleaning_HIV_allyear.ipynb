{
  "nbformat": 4,
  "nbformat_minor": 0,
  "metadata": {
    "colab": {
      "provenance": []
    },
    "kernelspec": {
      "name": "python3",
      "display_name": "Python 3"
    },
    "language_info": {
      "name": "python"
    }
  },
  "cells": [
    {
      "cell_type": "code",
      "execution_count": null,
      "metadata": {
        "id": "XA-KWG9b8fyw"
      },
      "outputs": [],
      "source": [
        "# DATA CLEANING FOR FINAL PROJECT - william\n",
        "# The data is taken from here: https://www.who.int/data/gho/data/indicators/indicator-details/GHO/estimated-number-of-people--living-with-hiv"
      ]
    },
    {
      "cell_type": "code",
      "source": [
        "# import modules\n",
        "import pandas as pd"
      ],
      "metadata": {
        "id": "I0PGkhUx83Bx"
      },
      "execution_count": null,
      "outputs": []
    },
    {
      "cell_type": "code",
      "source": [
        "#reading the data from the csv file\n",
        "df = pd.read_csv('data.csv')\n",
        "df.info()"
      ],
      "metadata": {
        "colab": {
          "base_uri": "https://localhost:8080/"
        },
        "id": "QSHXf_Y284J4",
        "outputId": "bcb3145c-7b2b-45da-980f-046490175561"
      },
      "execution_count": null,
      "outputs": [
        {
          "output_type": "stream",
          "name": "stdout",
          "text": [
            "<class 'pandas.core.frame.DataFrame'>\n",
            "RangeIndex: 4268 entries, 0 to 4267\n",
            "Data columns (total 34 columns):\n",
            " #   Column                      Non-Null Count  Dtype  \n",
            "---  ------                      --------------  -----  \n",
            " 0   IndicatorCode               4268 non-null   object \n",
            " 1   Indicator                   4268 non-null   object \n",
            " 2   ValueType                   4268 non-null   object \n",
            " 3   ParentLocationCode          4268 non-null   object \n",
            " 4   ParentLocation              4268 non-null   object \n",
            " 5   Location type               4268 non-null   object \n",
            " 6   SpatialDimValueCode         4268 non-null   object \n",
            " 7   Location                    4268 non-null   object \n",
            " 8   Period type                 4268 non-null   object \n",
            " 9   Period                      4268 non-null   int64  \n",
            " 10  IsLatestYear                4268 non-null   bool   \n",
            " 11  Dim1 type                   0 non-null      float64\n",
            " 12  Dim1                        0 non-null      float64\n",
            " 13  Dim1ValueCode               0 non-null      float64\n",
            " 14  Dim2 type                   0 non-null      float64\n",
            " 15  Dim2                        0 non-null      float64\n",
            " 16  Dim2ValueCode               0 non-null      float64\n",
            " 17  Dim3 type                   0 non-null      float64\n",
            " 18  Dim3                        0 non-null      float64\n",
            " 19  Dim3ValueCode               0 non-null      float64\n",
            " 20  DataSourceDimValueCode      0 non-null      float64\n",
            " 21  DataSource                  0 non-null      float64\n",
            " 22  FactValueNumericPrefix      216 non-null    object \n",
            " 23  FactValueNumeric            3057 non-null   float64\n",
            " 24  FactValueUoM                0 non-null      float64\n",
            " 25  FactValueNumericLowPrefix   271 non-null    object \n",
            " 26  FactValueNumericLow         3057 non-null   float64\n",
            " 27  FactValueNumericHighPrefix  168 non-null    object \n",
            " 28  FactValueNumericHigh        3057 non-null   float64\n",
            " 29  Value                       4268 non-null   object \n",
            " 30  FactValueTranslationID      1211 non-null   float64\n",
            " 31  FactComments                0 non-null      float64\n",
            " 32  Language                    4268 non-null   object \n",
            " 33  DateModified                4268 non-null   object \n",
            "dtypes: bool(1), float64(17), int64(1), object(15)\n",
            "memory usage: 1.1+ MB\n"
          ]
        }
      ]
    },
    {
      "cell_type": "code",
      "source": [
        "# cuttin the data into three column\n",
        "df2 = df.iloc[:,[3,7,9,23]]\n",
        "df2.info()"
      ],
      "metadata": {
        "colab": {
          "base_uri": "https://localhost:8080/"
        },
        "id": "x6hjShGO89C9",
        "outputId": "9ed83d20-0e36-46cb-968a-772a7d439971"
      },
      "execution_count": null,
      "outputs": [
        {
          "output_type": "stream",
          "name": "stdout",
          "text": [
            "<class 'pandas.core.frame.DataFrame'>\n",
            "RangeIndex: 4268 entries, 0 to 4267\n",
            "Data columns (total 4 columns):\n",
            " #   Column              Non-Null Count  Dtype  \n",
            "---  ------              --------------  -----  \n",
            " 0   ParentLocationCode  4268 non-null   object \n",
            " 1   Location            4268 non-null   object \n",
            " 2   Period              4268 non-null   int64  \n",
            " 3   FactValueNumeric    3057 non-null   float64\n",
            "dtypes: float64(1), int64(1), object(2)\n",
            "memory usage: 133.5+ KB\n"
          ]
        }
      ]
    },
    {
      "cell_type": "code",
      "source": [
        "df2.dropna(\n",
        "    axis=0,\n",
        "    how='any',\n",
        "    thresh=None,\n",
        "    subset=None,\n",
        "    inplace=True\n",
        ")\n",
        "df2.info()"
      ],
      "metadata": {
        "colab": {
          "base_uri": "https://localhost:8080/"
        },
        "id": "P3DC74JC9Bwm",
        "outputId": "6ec82bfe-b7ba-46ff-f209-fd683cc53a08"
      },
      "execution_count": null,
      "outputs": [
        {
          "output_type": "stream",
          "name": "stdout",
          "text": [
            "<class 'pandas.core.frame.DataFrame'>\n",
            "Int64Index: 3057 entries, 0 to 4211\n",
            "Data columns (total 4 columns):\n",
            " #   Column              Non-Null Count  Dtype  \n",
            "---  ------              --------------  -----  \n",
            " 0   ParentLocationCode  3057 non-null   object \n",
            " 1   Location            3057 non-null   object \n",
            " 2   Period              3057 non-null   int64  \n",
            " 3   FactValueNumeric    3057 non-null   float64\n",
            "dtypes: float64(1), int64(1), object(2)\n",
            "memory usage: 119.4+ KB\n"
          ]
        },
        {
          "output_type": "stream",
          "name": "stderr",
          "text": [
            "/usr/local/lib/python3.8/dist-packages/pandas/util/_decorators.py:311: SettingWithCopyWarning: \n",
            "A value is trying to be set on a copy of a slice from a DataFrame\n",
            "\n",
            "See the caveats in the documentation: https://pandas.pydata.org/pandas-docs/stable/user_guide/indexing.html#returning-a-view-versus-a-copy\n",
            "  return func(*args, **kwargs)\n"
          ]
        }
      ]
    },
    {
      "cell_type": "code",
      "source": [
        "# Saving the file and rename it\n",
        "New_filename = 'HIV-overyear-cleaned.csv'\n",
        "df2.to_csv(New_filename, index=False)\n",
        "df2.info()"
      ],
      "metadata": {
        "colab": {
          "base_uri": "https://localhost:8080/"
        },
        "id": "UodrVX3iesiq",
        "outputId": "629fabc6-092a-42f9-e671-c4afc8b70268"
      },
      "execution_count": null,
      "outputs": [
        {
          "output_type": "stream",
          "name": "stdout",
          "text": [
            "<class 'pandas.core.frame.DataFrame'>\n",
            "Int64Index: 3057 entries, 0 to 4211\n",
            "Data columns (total 4 columns):\n",
            " #   Column              Non-Null Count  Dtype  \n",
            "---  ------              --------------  -----  \n",
            " 0   ParentLocationCode  3057 non-null   object \n",
            " 1   Location            3057 non-null   object \n",
            " 2   Period              3057 non-null   int64  \n",
            " 3   FactValueNumeric    3057 non-null   float64\n",
            "dtypes: float64(1), int64(1), object(2)\n",
            "memory usage: 119.4+ KB\n"
          ]
        }
      ]
    }
  ]
}
