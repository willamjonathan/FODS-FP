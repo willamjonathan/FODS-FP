{
  "nbformat": 4,
  "nbformat_minor": 0,
  "metadata": {
    "colab": {
      "provenance": []
    },
    "kernelspec": {
      "name": "python3",
      "display_name": "Python 3"
    },
    "language_info": {
      "name": "python"
    }
  },
  "cells": [
    {
      "cell_type": "markdown",
      "source": [
        "**DATA CLEANING FOR FODS (Fundamental of Data Science) Final Project**"
      ],
      "metadata": {
        "id": "RA1L0MeEwkxU"
      }
    },
    {
      "cell_type": "code",
      "source": [
        "# DATA CLEANING FOR FINAL PROJECT - william\n",
        "# The data is taken from kaggle, ref: https://www.kaggle.com/datasets/imdevskp/hiv-aids-dataset?resource=download"
      ],
      "metadata": {
        "id": "mn1-51P5wkUw"
      },
      "execution_count": 112,
      "outputs": []
    },
    {
      "cell_type": "code",
      "source": [
        "# import modules\n",
        "import pandas as pd"
      ],
      "metadata": {
        "id": "TLrJwZL5sdKn"
      },
      "execution_count": 113,
      "outputs": []
    },
    {
      "cell_type": "code",
      "source": [
        "#reading the data from the csv file\n",
        "df = pd.read_csv('art_coverage_by_country_clean.csv')\n",
        "df.info()"
      ],
      "metadata": {
        "colab": {
          "base_uri": "https://localhost:8080/"
        },
        "id": "xzfJxTQ8trn6",
        "outputId": "c7a474b4-dc2a-4e0c-f25a-72b7634c3535"
      },
      "execution_count": 114,
      "outputs": [
        {
          "output_type": "stream",
          "name": "stdout",
          "text": [
            "<class 'pandas.core.frame.DataFrame'>\n",
            "RangeIndex: 170 entries, 0 to 169\n",
            "Data columns (total 11 columns):\n",
            " #   Column                                                          Non-Null Count  Dtype  \n",
            "---  ------                                                          --------------  -----  \n",
            " 0   Country                                                         170 non-null    object \n",
            " 1   Reported number of people receiving ART                         170 non-null    object \n",
            " 2   Estimated number of people living with HIV                      170 non-null    object \n",
            " 3   Estimated ART coverage among people living with HIV (%)         170 non-null    object \n",
            " 4   Estimated number of people living with HIV_median               138 non-null    float64\n",
            " 5   Estimated number of people living with HIV_min                  138 non-null    float64\n",
            " 6   Estimated number of people living with HIV_max                  138 non-null    float64\n",
            " 7   Estimated ART coverage among people living with HIV (%)_median  136 non-null    float64\n",
            " 8   Estimated ART coverage among people living with HIV (%)_min     136 non-null    float64\n",
            " 9   Estimated ART coverage among people living with HIV (%)_max     136 non-null    float64\n",
            " 10  WHO Region                                                      170 non-null    object \n",
            "dtypes: float64(6), object(5)\n",
            "memory usage: 14.7+ KB\n"
          ]
        }
      ]
    },
    {
      "cell_type": "code",
      "source": [
        "# RENAMING COLUMNS \n",
        "\n",
        "df.rename(columns = {'Reported number of people receiving ART':'People receive ART'\n",
        ",'Estimated number of people living with HIV':'People with HIV'\n",
        ",'Estimated ART coverage among people living with HIV (%)':'ART coverage (%)'\n",
        ",'Estimated number of people living with HIV_median':'People with HIV-median'\n",
        ",'Estimated number of people living with HIV_min':'People with HIV-min'\n",
        ",'Estimated number of people living with HIV_max':'People with HIV-max'\n",
        ",'Estimated ART coverage among people living with HIV (%)_median':'ART coverage(%)-median'\n",
        ",'Estimated ART coverage among people living with HIV (%)_min':'ART coverage(%)-min'\n",
        ",'Estimated ART coverage among people living with HIV (%)_max':'ART coverage(%)-max'\n",
        "}, inplace = True)\n",
        "\n",
        "df.info() "
      ],
      "metadata": {
        "colab": {
          "base_uri": "https://localhost:8080/"
        },
        "id": "1g6IF8hv7ikw",
        "outputId": "9795b309-528e-4ee5-9402-2a37fbc36fbf"
      },
      "execution_count": 115,
      "outputs": [
        {
          "output_type": "stream",
          "name": "stdout",
          "text": [
            "<class 'pandas.core.frame.DataFrame'>\n",
            "RangeIndex: 170 entries, 0 to 169\n",
            "Data columns (total 11 columns):\n",
            " #   Column                  Non-Null Count  Dtype  \n",
            "---  ------                  --------------  -----  \n",
            " 0   Country                 170 non-null    object \n",
            " 1   People receive ART      170 non-null    object \n",
            " 2   People with HIV         170 non-null    object \n",
            " 3   ART coverage (%)        170 non-null    object \n",
            " 4   People with HIV-median  138 non-null    float64\n",
            " 5   People with HIV-min     138 non-null    float64\n",
            " 6   People with HIV-max     138 non-null    float64\n",
            " 7   ART coverage(%)-median  136 non-null    float64\n",
            " 8   ART coverage(%)-min     136 non-null    float64\n",
            " 9   ART coverage(%)-max     136 non-null    float64\n",
            " 10  WHO Region              170 non-null    object \n",
            "dtypes: float64(6), object(5)\n",
            "memory usage: 14.7+ KB\n"
          ]
        }
      ]
    },
    {
      "cell_type": "code",
      "source": [
        "#dropping the null files and changing the datatype\n",
        "df.dropna(axis=0, how='any', thresh=None, subset=None, inplace=True)\n",
        "df.info()"
      ],
      "metadata": {
        "colab": {
          "base_uri": "https://localhost:8080/"
        },
        "id": "9wZ3juGuzfm7",
        "outputId": "51126c9d-fddc-4fac-920a-ff52f07434fa"
      },
      "execution_count": 116,
      "outputs": [
        {
          "output_type": "stream",
          "name": "stdout",
          "text": [
            "<class 'pandas.core.frame.DataFrame'>\n",
            "Int64Index: 136 entries, 0 to 169\n",
            "Data columns (total 11 columns):\n",
            " #   Column                  Non-Null Count  Dtype  \n",
            "---  ------                  --------------  -----  \n",
            " 0   Country                 136 non-null    object \n",
            " 1   People receive ART      136 non-null    object \n",
            " 2   People with HIV         136 non-null    object \n",
            " 3   ART coverage (%)        136 non-null    object \n",
            " 4   People with HIV-median  136 non-null    float64\n",
            " 5   People with HIV-min     136 non-null    float64\n",
            " 6   People with HIV-max     136 non-null    float64\n",
            " 7   ART coverage(%)-median  136 non-null    float64\n",
            " 8   ART coverage(%)-min     136 non-null    float64\n",
            " 9   ART coverage(%)-max     136 non-null    float64\n",
            " 10  WHO Region              136 non-null    object \n",
            "dtypes: float64(6), object(5)\n",
            "memory usage: 12.8+ KB\n"
          ]
        }
      ]
    },
    {
      "cell_type": "code",
      "source": [
        "# Removing [] from the csv file\n",
        "for col in ['ART coverage (%)']:\n",
        "  df[col] = df[col].str.extract('[0-9.]+\\[[0-9.]+\\–([0-9.]+)')\n",
        "df.info()"
      ],
      "metadata": {
        "colab": {
          "base_uri": "https://localhost:8080/"
        },
        "id": "1BTM_TrWt6Ja",
        "outputId": "8b2a8dd9-38a0-4613-eab9-f39036a81964"
      },
      "execution_count": 117,
      "outputs": [
        {
          "output_type": "stream",
          "name": "stdout",
          "text": [
            "<class 'pandas.core.frame.DataFrame'>\n",
            "Int64Index: 136 entries, 0 to 169\n",
            "Data columns (total 11 columns):\n",
            " #   Column                  Non-Null Count  Dtype  \n",
            "---  ------                  --------------  -----  \n",
            " 0   Country                 136 non-null    object \n",
            " 1   People receive ART      136 non-null    object \n",
            " 2   People with HIV         136 non-null    object \n",
            " 3   ART coverage (%)        136 non-null    object \n",
            " 4   People with HIV-median  136 non-null    float64\n",
            " 5   People with HIV-min     136 non-null    float64\n",
            " 6   People with HIV-max     136 non-null    float64\n",
            " 7   ART coverage(%)-median  136 non-null    float64\n",
            " 8   ART coverage(%)-min     136 non-null    float64\n",
            " 9   ART coverage(%)-max     136 non-null    float64\n",
            " 10  WHO Region              136 non-null    object \n",
            "dtypes: float64(6), object(5)\n",
            "memory usage: 12.8+ KB\n"
          ]
        }
      ]
    },
    {
      "cell_type": "code",
      "source": [
        "for col in ['People with HIV']:\n",
        "  df[col] = df[col].str.extract('[0-9.]+\\[[0-9.]+\\–([0-9.]+)')\n",
        "df.info()"
      ],
      "metadata": {
        "colab": {
          "base_uri": "https://localhost:8080/"
        },
        "id": "tnzmK3OSDMNc",
        "outputId": "45cb7f88-00ca-4118-f702-c8bc48302c20"
      },
      "execution_count": 118,
      "outputs": [
        {
          "output_type": "stream",
          "name": "stdout",
          "text": [
            "<class 'pandas.core.frame.DataFrame'>\n",
            "Int64Index: 136 entries, 0 to 169\n",
            "Data columns (total 11 columns):\n",
            " #   Column                  Non-Null Count  Dtype  \n",
            "---  ------                  --------------  -----  \n",
            " 0   Country                 136 non-null    object \n",
            " 1   People receive ART      136 non-null    object \n",
            " 2   People with HIV         136 non-null    object \n",
            " 3   ART coverage (%)        136 non-null    object \n",
            " 4   People with HIV-median  136 non-null    float64\n",
            " 5   People with HIV-min     136 non-null    float64\n",
            " 6   People with HIV-max     136 non-null    float64\n",
            " 7   ART coverage(%)-median  136 non-null    float64\n",
            " 8   ART coverage(%)-min     136 non-null    float64\n",
            " 9   ART coverage(%)-max     136 non-null    float64\n",
            " 10  WHO Region              136 non-null    object \n",
            "dtypes: float64(6), object(5)\n",
            "memory usage: 12.8+ KB\n"
          ]
        }
      ]
    },
    {
      "cell_type": "code",
      "source": [
        "# Checking the content of df\n",
        "df.head()"
      ],
      "metadata": {
        "colab": {
          "base_uri": "https://localhost:8080/",
          "height": 285
        },
        "id": "V8cjWpWtDoRy",
        "outputId": "90f0ef05-ae81-4970-c379-9de8f7491807"
      },
      "execution_count": 119,
      "outputs": [
        {
          "output_type": "execute_result",
          "data": {
            "text/plain": [
              "       Country People receive ART People with HIV ART coverage (%)  \\\n",
              "0  Afghanistan                920           11000               20   \n",
              "2      Algeria              12800           17000               86   \n",
              "3       Angola              88700          390000               31   \n",
              "4    Argentina              85500          150000               67   \n",
              "5      Armenia               1900            4400               65   \n",
              "\n",
              "   People with HIV-median  People with HIV-min  People with HIV-max  \\\n",
              "0                  7200.0               4100.0              11000.0   \n",
              "2                 16000.0              15000.0              17000.0   \n",
              "3                330000.0             290000.0             390000.0   \n",
              "4                140000.0             130000.0             150000.0   \n",
              "5                  3500.0               3000.0               4400.0   \n",
              "\n",
              "   ART coverage(%)-median  ART coverage(%)-min  ART coverage(%)-max  \\\n",
              "0                    13.0                  7.0                 20.0   \n",
              "2                    81.0                 75.0                 86.0   \n",
              "3                    27.0                 23.0                 31.0   \n",
              "4                    61.0                 55.0                 67.0   \n",
              "5                    53.0                 44.0                 65.0   \n",
              "\n",
              "              WHO Region  \n",
              "0  Eastern Mediterranean  \n",
              "2                 Africa  \n",
              "3                 Africa  \n",
              "4               Americas  \n",
              "5                 Europe  "
            ],
            "text/html": [
              "\n",
              "  <div id=\"df-afdb345b-79c2-47aa-9af9-cf6e18dfb621\">\n",
              "    <div class=\"colab-df-container\">\n",
              "      <div>\n",
              "<style scoped>\n",
              "    .dataframe tbody tr th:only-of-type {\n",
              "        vertical-align: middle;\n",
              "    }\n",
              "\n",
              "    .dataframe tbody tr th {\n",
              "        vertical-align: top;\n",
              "    }\n",
              "\n",
              "    .dataframe thead th {\n",
              "        text-align: right;\n",
              "    }\n",
              "</style>\n",
              "<table border=\"1\" class=\"dataframe\">\n",
              "  <thead>\n",
              "    <tr style=\"text-align: right;\">\n",
              "      <th></th>\n",
              "      <th>Country</th>\n",
              "      <th>People receive ART</th>\n",
              "      <th>People with HIV</th>\n",
              "      <th>ART coverage (%)</th>\n",
              "      <th>People with HIV-median</th>\n",
              "      <th>People with HIV-min</th>\n",
              "      <th>People with HIV-max</th>\n",
              "      <th>ART coverage(%)-median</th>\n",
              "      <th>ART coverage(%)-min</th>\n",
              "      <th>ART coverage(%)-max</th>\n",
              "      <th>WHO Region</th>\n",
              "    </tr>\n",
              "  </thead>\n",
              "  <tbody>\n",
              "    <tr>\n",
              "      <th>0</th>\n",
              "      <td>Afghanistan</td>\n",
              "      <td>920</td>\n",
              "      <td>11000</td>\n",
              "      <td>20</td>\n",
              "      <td>7200.0</td>\n",
              "      <td>4100.0</td>\n",
              "      <td>11000.0</td>\n",
              "      <td>13.0</td>\n",
              "      <td>7.0</td>\n",
              "      <td>20.0</td>\n",
              "      <td>Eastern Mediterranean</td>\n",
              "    </tr>\n",
              "    <tr>\n",
              "      <th>2</th>\n",
              "      <td>Algeria</td>\n",
              "      <td>12800</td>\n",
              "      <td>17000</td>\n",
              "      <td>86</td>\n",
              "      <td>16000.0</td>\n",
              "      <td>15000.0</td>\n",
              "      <td>17000.0</td>\n",
              "      <td>81.0</td>\n",
              "      <td>75.0</td>\n",
              "      <td>86.0</td>\n",
              "      <td>Africa</td>\n",
              "    </tr>\n",
              "    <tr>\n",
              "      <th>3</th>\n",
              "      <td>Angola</td>\n",
              "      <td>88700</td>\n",
              "      <td>390000</td>\n",
              "      <td>31</td>\n",
              "      <td>330000.0</td>\n",
              "      <td>290000.0</td>\n",
              "      <td>390000.0</td>\n",
              "      <td>27.0</td>\n",
              "      <td>23.0</td>\n",
              "      <td>31.0</td>\n",
              "      <td>Africa</td>\n",
              "    </tr>\n",
              "    <tr>\n",
              "      <th>4</th>\n",
              "      <td>Argentina</td>\n",
              "      <td>85500</td>\n",
              "      <td>150000</td>\n",
              "      <td>67</td>\n",
              "      <td>140000.0</td>\n",
              "      <td>130000.0</td>\n",
              "      <td>150000.0</td>\n",
              "      <td>61.0</td>\n",
              "      <td>55.0</td>\n",
              "      <td>67.0</td>\n",
              "      <td>Americas</td>\n",
              "    </tr>\n",
              "    <tr>\n",
              "      <th>5</th>\n",
              "      <td>Armenia</td>\n",
              "      <td>1900</td>\n",
              "      <td>4400</td>\n",
              "      <td>65</td>\n",
              "      <td>3500.0</td>\n",
              "      <td>3000.0</td>\n",
              "      <td>4400.0</td>\n",
              "      <td>53.0</td>\n",
              "      <td>44.0</td>\n",
              "      <td>65.0</td>\n",
              "      <td>Europe</td>\n",
              "    </tr>\n",
              "  </tbody>\n",
              "</table>\n",
              "</div>\n",
              "      <button class=\"colab-df-convert\" onclick=\"convertToInteractive('df-afdb345b-79c2-47aa-9af9-cf6e18dfb621')\"\n",
              "              title=\"Convert this dataframe to an interactive table.\"\n",
              "              style=\"display:none;\">\n",
              "        \n",
              "  <svg xmlns=\"http://www.w3.org/2000/svg\" height=\"24px\"viewBox=\"0 0 24 24\"\n",
              "       width=\"24px\">\n",
              "    <path d=\"M0 0h24v24H0V0z\" fill=\"none\"/>\n",
              "    <path d=\"M18.56 5.44l.94 2.06.94-2.06 2.06-.94-2.06-.94-.94-2.06-.94 2.06-2.06.94zm-11 1L8.5 8.5l.94-2.06 2.06-.94-2.06-.94L8.5 2.5l-.94 2.06-2.06.94zm10 10l.94 2.06.94-2.06 2.06-.94-2.06-.94-.94-2.06-.94 2.06-2.06.94z\"/><path d=\"M17.41 7.96l-1.37-1.37c-.4-.4-.92-.59-1.43-.59-.52 0-1.04.2-1.43.59L10.3 9.45l-7.72 7.72c-.78.78-.78 2.05 0 2.83L4 21.41c.39.39.9.59 1.41.59.51 0 1.02-.2 1.41-.59l7.78-7.78 2.81-2.81c.8-.78.8-2.07 0-2.86zM5.41 20L4 18.59l7.72-7.72 1.47 1.35L5.41 20z\"/>\n",
              "  </svg>\n",
              "      </button>\n",
              "      \n",
              "  <style>\n",
              "    .colab-df-container {\n",
              "      display:flex;\n",
              "      flex-wrap:wrap;\n",
              "      gap: 12px;\n",
              "    }\n",
              "\n",
              "    .colab-df-convert {\n",
              "      background-color: #E8F0FE;\n",
              "      border: none;\n",
              "      border-radius: 50%;\n",
              "      cursor: pointer;\n",
              "      display: none;\n",
              "      fill: #1967D2;\n",
              "      height: 32px;\n",
              "      padding: 0 0 0 0;\n",
              "      width: 32px;\n",
              "    }\n",
              "\n",
              "    .colab-df-convert:hover {\n",
              "      background-color: #E2EBFA;\n",
              "      box-shadow: 0px 1px 2px rgba(60, 64, 67, 0.3), 0px 1px 3px 1px rgba(60, 64, 67, 0.15);\n",
              "      fill: #174EA6;\n",
              "    }\n",
              "\n",
              "    [theme=dark] .colab-df-convert {\n",
              "      background-color: #3B4455;\n",
              "      fill: #D2E3FC;\n",
              "    }\n",
              "\n",
              "    [theme=dark] .colab-df-convert:hover {\n",
              "      background-color: #434B5C;\n",
              "      box-shadow: 0px 1px 3px 1px rgba(0, 0, 0, 0.15);\n",
              "      filter: drop-shadow(0px 1px 2px rgba(0, 0, 0, 0.3));\n",
              "      fill: #FFFFFF;\n",
              "    }\n",
              "  </style>\n",
              "\n",
              "      <script>\n",
              "        const buttonEl =\n",
              "          document.querySelector('#df-afdb345b-79c2-47aa-9af9-cf6e18dfb621 button.colab-df-convert');\n",
              "        buttonEl.style.display =\n",
              "          google.colab.kernel.accessAllowed ? 'block' : 'none';\n",
              "\n",
              "        async function convertToInteractive(key) {\n",
              "          const element = document.querySelector('#df-afdb345b-79c2-47aa-9af9-cf6e18dfb621');\n",
              "          const dataTable =\n",
              "            await google.colab.kernel.invokeFunction('convertToInteractive',\n",
              "                                                     [key], {});\n",
              "          if (!dataTable) return;\n",
              "\n",
              "          const docLinkHtml = 'Like what you see? Visit the ' +\n",
              "            '<a target=\"_blank\" href=https://colab.research.google.com/notebooks/data_table.ipynb>data table notebook</a>'\n",
              "            + ' to learn more about interactive tables.';\n",
              "          element.innerHTML = '';\n",
              "          dataTable['output_type'] = 'display_data';\n",
              "          await google.colab.output.renderOutput(dataTable, element);\n",
              "          const docLink = document.createElement('div');\n",
              "          docLink.innerHTML = docLinkHtml;\n",
              "          element.appendChild(docLink);\n",
              "        }\n",
              "      </script>\n",
              "    </div>\n",
              "  </div>\n",
              "  "
            ]
          },
          "metadata": {},
          "execution_count": 119
        }
      ]
    },
    {
      "cell_type": "code",
      "source": [
        "#  Changing\n",
        "df['People receive ART'] = df['People receive ART'].astype(float)\n",
        "df['ART coverage (%)'] = df['ART coverage (%)'].astype(float)\n",
        "df['People with HIV'] = df['People with HIV'].astype(float)\n",
        "df.info()"
      ],
      "metadata": {
        "colab": {
          "base_uri": "https://localhost:8080/"
        },
        "id": "DKuEVagl_Ovu",
        "outputId": "689ee254-7dbf-43f4-95d2-5e2f5e324912"
      },
      "execution_count": 120,
      "outputs": [
        {
          "output_type": "stream",
          "name": "stdout",
          "text": [
            "<class 'pandas.core.frame.DataFrame'>\n",
            "Int64Index: 136 entries, 0 to 169\n",
            "Data columns (total 11 columns):\n",
            " #   Column                  Non-Null Count  Dtype  \n",
            "---  ------                  --------------  -----  \n",
            " 0   Country                 136 non-null    object \n",
            " 1   People receive ART      136 non-null    float64\n",
            " 2   People with HIV         136 non-null    float64\n",
            " 3   ART coverage (%)        136 non-null    float64\n",
            " 4   People with HIV-median  136 non-null    float64\n",
            " 5   People with HIV-min     136 non-null    float64\n",
            " 6   People with HIV-max     136 non-null    float64\n",
            " 7   ART coverage(%)-median  136 non-null    float64\n",
            " 8   ART coverage(%)-min     136 non-null    float64\n",
            " 9   ART coverage(%)-max     136 non-null    float64\n",
            " 10  WHO Region              136 non-null    object \n",
            "dtypes: float64(9), object(2)\n",
            "memory usage: 12.8+ KB\n"
          ]
        }
      ]
    },
    {
      "cell_type": "code",
      "source": [
        "# Saving the file and rename it\n",
        "New_filename = 'cleaned-HIVdata.csv'\n",
        "df.to_csv(New_filename, index=False)\n",
        "df.info()"
      ],
      "metadata": {
        "colab": {
          "base_uri": "https://localhost:8080/"
        },
        "id": "YUK54576wePk",
        "outputId": "6c1d7c3b-de58-44da-9bb1-41ef855cbf04"
      },
      "execution_count": 121,
      "outputs": [
        {
          "output_type": "stream",
          "name": "stdout",
          "text": [
            "<class 'pandas.core.frame.DataFrame'>\n",
            "Int64Index: 136 entries, 0 to 169\n",
            "Data columns (total 11 columns):\n",
            " #   Column                  Non-Null Count  Dtype  \n",
            "---  ------                  --------------  -----  \n",
            " 0   Country                 136 non-null    object \n",
            " 1   People receive ART      136 non-null    float64\n",
            " 2   People with HIV         136 non-null    float64\n",
            " 3   ART coverage (%)        136 non-null    float64\n",
            " 4   People with HIV-median  136 non-null    float64\n",
            " 5   People with HIV-min     136 non-null    float64\n",
            " 6   People with HIV-max     136 non-null    float64\n",
            " 7   ART coverage(%)-median  136 non-null    float64\n",
            " 8   ART coverage(%)-min     136 non-null    float64\n",
            " 9   ART coverage(%)-max     136 non-null    float64\n",
            " 10  WHO Region              136 non-null    object \n",
            "dtypes: float64(9), object(2)\n",
            "memory usage: 12.8+ KB\n"
          ]
        }
      ]
    }
  ]
}
