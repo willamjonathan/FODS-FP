{
  "nbformat": 4,
  "nbformat_minor": 0,
  "metadata": {
    "colab": {
      "provenance": []
    },
    "kernelspec": {
      "name": "python3",
      "display_name": "Python 3"
    },
    "language_info": {
      "name": "python"
    }
  },
  "cells": [
    {
      "cell_type": "code",
      "execution_count": null,
      "metadata": {
        "id": "FB-s4TpvBgUT"
      },
      "outputs": [],
      "source": [
        "import numpy as np\n",
        "import pandas as pd\n",
        "import matplotlib.pyplot as plt\n",
        "from datetime import datetime\n",
        "from sklearn.metrics import r2_score\n",
        "from sklearn.model_selection import train_test_split\n"
      ]
    },
    {
      "cell_type": "code",
      "source": [
        "#reading the data from the csv file\n",
        "df = pd.read_csv('10YearPeriodHIV-describe.csv')\n",
        "df.info()\n",
        "def estimate_coef(x, y):\n",
        "\t# number of observations/points\n",
        "\tn = np.size(x)\n",
        "\n",
        "\t# mean of x and y vector\n",
        "\tm_x = np.mean(x)\n",
        "\tm_y = np.mean(y)\n",
        "\n",
        "\t# calculating cross-deviation and deviation about x\n",
        "\tSS_xy = np.sum(y*x) - n*m_y*m_x\n",
        "\tSS_xx = np.sum(x*x) - n*m_x*m_x\n",
        "\n",
        "\t# calculating regression coefficients\n",
        "\tb_1 = SS_xy / SS_xx\n",
        "\tb_0 = m_y - b_1*m_x\n",
        "\n",
        "\treturn (b_0, b_1)"
      ],
      "metadata": {
        "colab": {
          "base_uri": "https://localhost:8080/"
        },
        "id": "Eq-38FaYuKVR",
        "outputId": "0de4bc40-a39b-48b2-bff7-68431a6dc51e"
      },
      "execution_count": null,
      "outputs": [
        {
          "output_type": "stream",
          "name": "stdout",
          "text": [
            "<class 'pandas.core.frame.DataFrame'>\n",
            "RangeIndex: 11 entries, 0 to 10\n",
            "Data columns (total 5 columns):\n",
            " #   Column              Non-Null Count  Dtype  \n",
            "---  ------              --------------  -----  \n",
            " 0   Period              11 non-null     int64  \n",
            " 1   ART_mean            11 non-null     float64\n",
            " 2   Death_mean          11 non-null     float64\n",
            " 3   HIVpopulation_mean  11 non-null     float64\n",
            " 4   Population_mean     11 non-null     float64\n",
            "dtypes: float64(4), int64(1)\n",
            "memory usage: 568.0 bytes\n"
          ]
        }
      ]
    },
    {
      "cell_type": "code",
      "source": [
        "X = df['Period']\n",
        "y = df['HIVpopulation_mean']\n",
        "\n",
        "X_train, X_test, y_train, y_test = train_test_split(X, y, test_size=0.33,random_state=42) # Split data into training and testing sets.\n",
        "\n",
        "#Linear\n",
        "n = X_train.shape[0]\n",
        "A = np.ones((n,2))\n",
        "A[:,1] = X_train\n",
        "c = np.linalg.lstsq(A,y_train,rcond=-1)[0]\n",
        "print(f\"Gradient: {c[1]}, y-intercept: {c[0]}\")\n",
        "y_linear = c[1] * X + c[0]"
      ],
      "metadata": {
        "colab": {
          "base_uri": "https://localhost:8080/"
        },
        "id": "cYUjDE9WuRfJ",
        "outputId": "e4d9bf50-6d12-41d0-d2f5-efcce7d5ed35"
      },
      "execution_count": null,
      "outputs": [
        {
          "output_type": "stream",
          "name": "stdout",
          "text": [
            "Gradient: 2108.838907534267, y-intercept: -4096091.5773562067\n"
          ]
        }
      ]
    },
    {
      "cell_type": "code",
      "source": [
        "#Plotting Fits\n",
        "fig = plt.figure()\n",
        "ax = fig.add_subplot(1,1,1)\n",
        "ax.plot(X,y_linear,'-',label=\"Linear\")\n",
        "plt.xlabel(\"Period\")\n",
        "plt.ylabel(\"People with HIV\")\n",
        "plt.title(\"HIV increase among the year in 75 countries\")\n",
        "ax.legend()"
      ],
      "metadata": {
        "colab": {
          "base_uri": "https://localhost:8080/",
          "height": 312
        },
        "id": "pyMg7CtguSmN",
        "outputId": "c1348ea0-692f-4323-c355-38d43341667a"
      },
      "execution_count": null,
      "outputs": [
        {
          "output_type": "execute_result",
          "data": {
            "text/plain": [
              "<matplotlib.legend.Legend at 0x7fd57791bbe0>"
            ]
          },
          "metadata": {},
          "execution_count": 9
        },
        {
          "output_type": "display_data",
          "data": {
            "text/plain": [
              "<Figure size 432x288 with 1 Axes>"
            ],
            "image/png": "[encoded data removed]"
          },
          "metadata": {
            "needs_background": "light"
          }
        }
      ]
    },
    {
      "cell_type": "code",
      "source": [
        "# Testing\n",
        "\n",
        "y_linear = c[1] * X_test + c[0]\n",
        "print(r2_score(y_test,y_linear)) # model has a positive r2 score. The model has succeeded."
      ],
      "metadata": {
        "colab": {
          "base_uri": "https://localhost:8080/"
        },
        "id": "9zk9_yLjuXHQ",
        "outputId": "8f0911a6-985c-47ca-c262-d3997d685ba0"
      },
      "execution_count": null,
      "outputs": [
        {
          "output_type": "stream",
          "name": "stdout",
          "text": [
            "0.9688983802174161\n"
          ]
        }
      ]
    },
    {
      "cell_type": "code",
      "source": [
        "# Predictions\n",
        "X_max = 2021\n",
        "\n",
        "X_predict = np.arange(X_max, X_max+5,1) \n",
        "# Predicting HIV increase in the next 5 years\n",
        "\n",
        "y_predict = c[1] * X_predict + c[0]\n",
        "df_predict = pd.DataFrame(data={'Period': X_predict, 'HIV case':y_predict})\n",
        "\n",
        "\n",
        "\n",
        "print(df_predict)\n",
        "\n",
        "# Plotting results of regression\n",
        "plt.plot(X_predict,y_predict,'-')\n",
        "plt.xlabel(\"Period\")\n",
        "plt.ylabel(\"People with HIV\")\n",
        "plt.title(\"HIV increase in 5 years among 75 countries\")"
      ],
      "metadata": {
        "colab": {
          "base_uri": "https://localhost:8080/",
          "height": 332
        },
        "id": "Aibxw1HXubxT",
        "outputId": "65bb4f24-197f-40ac-d7ce-6d6ae4e5bfbd"
      },
      "execution_count": null,
      "outputs": [
        {
          "output_type": "stream",
          "name": "stdout",
          "text": [
            "   Period       HIV case\n",
            "0    2021  165871.854771\n",
            "1    2022  167980.693678\n",
            "2    2023  170089.532586\n",
            "3    2024  172198.371493\n",
            "4    2025  174307.210401\n"
          ]
        },
        {
          "output_type": "execute_result",
          "data": {
            "text/plain": [
              "Text(0.5, 1.0, 'HIV increase in 5 years among 75 countries')"
            ]
          },
          "metadata": {},
          "execution_count": 15
        },
        {
          "output_type": "display_data",
          "data": {
            "text/plain": [
              "<Figure size 432x288 with 1 Axes>"
            ],
            "image/png": "[encoded data removed]"
          },
          "metadata": {
            "needs_background": "light"
          }
        }
      ]
    },
    {
      "cell_type": "code",
      "source": [],
      "metadata": {
        "id": "dEOJbWIswtbe"
      },
      "execution_count": null,
      "outputs": []
    }
  ]
}