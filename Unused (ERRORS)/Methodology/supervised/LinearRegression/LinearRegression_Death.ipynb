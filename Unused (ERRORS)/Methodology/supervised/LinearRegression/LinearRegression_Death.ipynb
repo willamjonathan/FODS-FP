{
  "nbformat": 4,
  "nbformat_minor": 0,
  "metadata": {
    "colab": {
      "provenance": []
    },
    "kernelspec": {
      "name": "python3",
      "display_name": "Python 3"
    },
    "language_info": {
      "name": "python"
    }
  },
  "cells": [
    {
      "cell_type": "code",
      "execution_count": null,
      "metadata": {
        "id": "mXAgfDpHvt24"
      },
      "outputs": [],
      "source": [
        "import numpy as np\n",
        "import pandas as pd\n",
        "import matplotlib.pyplot as plt\n",
        "from datetime import datetime\n",
        "from sklearn.metrics import r2_score\n",
        "from sklearn.model_selection import train_test_split\n"
      ]
    },
    {
      "cell_type": "code",
      "source": [
        "#reading the data from the csv file\n",
        "df = pd.read_csv('10YearPeriodHIV-describe.csv')\n",
        "df.info()\n",
        "def estimate_coef(x, y):\n",
        "\t# number of observations/points\n",
        "\tn = np.size(x)\n",
        "\n",
        "\t# mean of x and y vector\n",
        "\tm_x = np.mean(x)\n",
        "\tm_y = np.mean(y)\n",
        "\n",
        "\t# calculating cross-deviation and deviation about x\n",
        "\tSS_xy = np.sum(y*x) - n*m_y*m_x\n",
        "\tSS_xx = np.sum(x*x) - n*m_x*m_x\n",
        "\n",
        "\t# calculating regression coefficients\n",
        "\tb_1 = SS_xy / SS_xx\n",
        "\tb_0 = m_y - b_1*m_x\n",
        "\n",
        "\treturn (b_0, b_1)"
      ],
      "metadata": {
        "colab": {
          "base_uri": "https://localhost:8080/"
        },
        "id": "8JYVgZ1EwIga",
        "outputId": "efaaa5ee-1f9c-4808-968e-926d9539984e"
      },
      "execution_count": null,
      "outputs": [
        {
          "output_type": "stream",
          "name": "stdout",
          "text": [
            "<class 'pandas.core.frame.DataFrame'>\n",
            "RangeIndex: 11 entries, 0 to 10\n",
            "Data columns (total 5 columns):\n",
            " #   Column              Non-Null Count  Dtype  \n",
            "---  ------              --------------  -----  \n",
            " 0   Period              11 non-null     int64  \n",
            " 1   ART_mean            11 non-null     float64\n",
            " 2   Death_mean          11 non-null     float64\n",
            " 3   HIVpopulation_mean  11 non-null     float64\n",
            " 4   Population_mean     11 non-null     float64\n",
            "dtypes: float64(4), int64(1)\n",
            "memory usage: 568.0 bytes\n"
          ]
        }
      ]
    },
    {
      "cell_type": "code",
      "source": [
        "X = df['Period']\n",
        "y = df['Death_mean']\n",
        "\n",
        "X_train, X_test, y_train, y_test = train_test_split(X, y, test_size=0.33,random_state=42) # Split data into training and testing sets.\n",
        "\n",
        "#Linear\n",
        "n = X_train.shape[0]\n",
        "A = np.ones((n,2))\n",
        "A[:,1] = X_train\n",
        "c = np.linalg.lstsq(A,y_train,rcond=-1)[0]\n",
        "print(f\"Gradient: {c[1]}, y-intercept: {c[0]}\")\n",
        "y_linear = c[1] * X + c[0]"
      ],
      "metadata": {
        "colab": {
          "base_uri": "https://localhost:8080/"
        },
        "id": "cYUjDE9WuRfJ",
        "outputId": "886cbd0c-171d-4955-f235-d36c8a9e0751"
      },
      "execution_count": null,
      "outputs": [
        {
          "output_type": "stream",
          "name": "stdout",
          "text": [
            "Gradient: -232.1116666541116, y-intercept: 471789.27497474366\n"
          ]
        }
      ]
    },
    {
      "cell_type": "code",
      "source": [
        "#Plotting Fits\n",
        "fig = plt.figure()\n",
        "ax = fig.add_subplot(1,1,1)\n",
        "ax.plot(X,y_linear,'-',label=\"Linear\")\n",
        "plt.xlabel(\"Period\")\n",
        "plt.ylabel(\"Death due to HIV\")\n",
        "plt.title(\"HIV cases that lead to death among the year in 75 countries\")\n",
        "ax.legend()"
      ],
      "metadata": {
        "colab": {
          "base_uri": "https://localhost:8080/",
          "height": 312
        },
        "id": "IIUDOy4gwJIi",
        "outputId": "7babd569-8514-4868-bc2e-938944a6b580"
      },
      "execution_count": null,
      "outputs": [
        {
          "output_type": "execute_result",
          "data": {
            "text/plain": [
              "<matplotlib.legend.Legend at 0x7f6dae9413d0>"
            ]
          },
          "metadata": {},
          "execution_count": 4
        },
        {
          "output_type": "display_data",
          "data": {
            "text/plain": [
              "<Figure size 432x288 with 1 Axes>"
            ],
            "image/png": "[encoded data removed]"
          },
          "metadata": {
            "needs_background": "light"
          }
        }
      ]
    },
    {
      "cell_type": "code",
      "source": [
        "# Testing\n",
        "\n",
        "y_linear = c[1] * X_test + c[0]\n",
        "print(r2_score(y_test,y_linear)) # model has a positive r2 score. The model has succeeded."
      ],
      "metadata": {
        "colab": {
          "base_uri": "https://localhost:8080/"
        },
        "id": "OKFMzdHwwZh3",
        "outputId": "ae5217c5-63b9-420b-d47b-3c1a14b6603f"
      },
      "execution_count": null,
      "outputs": [
        {
          "output_type": "stream",
          "name": "stdout",
          "text": [
            "0.9705169242581679\n"
          ]
        }
      ]
    },
    {
      "cell_type": "code",
      "source": [
        "# Predictions\n",
        "X_max = 2021\n",
        "\n",
        "X_predict = np.arange(X_max, X_max+5,1) \n",
        "# Predicting HIV increase in the next 5 years\n",
        "\n",
        "y_predict = c[1] * X_predict + c[0]\n",
        "df_predict = pd.DataFrame(data={'Period': X_predict, 'Death':y_predict})\n",
        "\n",
        "\n",
        "\n",
        "print(df_predict)\n",
        "\n",
        "# Plotting results of regression\n",
        "plt.plot(X_predict,y_predict,'-')\n",
        "plt.xlabel(\"Period\")\n",
        "plt.ylabel(\"Death due to HIV\")\n",
        "plt.title(\"HIV cases that lead to death in 5 years among 75 countries\")\n"
      ],
      "metadata": {
        "colab": {
          "base_uri": "https://localhost:8080/",
          "height": 416
        },
        "id": "be_AmIMRwdkB",
        "outputId": "2f6833f2-e771-4fb7-8879-75fe34f50853"
      },
      "execution_count": null,
      "outputs": [
        {
          "output_type": "stream",
          "name": "stdout",
          "text": [
            "   Period        Death\n",
            "0    2021  2691.596667\n",
            "1    2022  2459.485000\n",
            "2    2023  2227.373333\n",
            "3    2024  1995.261667\n",
            "4    2025  1763.150000\n"
          ]
        },
        {
          "output_type": "execute_result",
          "data": {
            "text/plain": [
              "Text(0.5, 1.0, 'HIV cases that lead to death in 5 years among 75 countries')"
            ]
          },
          "metadata": {},
          "execution_count": 10
        },
        {
          "output_type": "display_data",
          "data": {
            "text/plain": [
              "<Figure size 432x288 with 1 Axes>"
            ],
            "image/png": "[encoded data removed]"
          },
          "metadata": {
            "needs_background": "light"
          }
        }
      ]
    },
    {
      "cell_type": "code",
      "source": [],
      "metadata": {
        "id": "I-qoe4NiwkJA"
      },
      "execution_count": null,
      "outputs": []
    }
  ]
}