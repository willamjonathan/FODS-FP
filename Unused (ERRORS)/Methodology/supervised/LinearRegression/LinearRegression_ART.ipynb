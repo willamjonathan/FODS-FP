{
  "nbformat": 4,
  "nbformat_minor": 0,
  "metadata": {
    "colab": {
      "provenance": []
    },
    "kernelspec": {
      "name": "python3",
      "display_name": "Python 3"
    },
    "language_info": {
      "name": "python"
    }
  },
  "cells": [
    {
      "cell_type": "code",
      "execution_count": null,
      "metadata": {
        "id": "HwLbaYLtw-H7"
      },
      "outputs": [],
      "source": [
        "import numpy as np\n",
        "import pandas as pd\n",
        "import matplotlib.pyplot as plt\n",
        "from datetime import datetime\n",
        "from sklearn.metrics import r2_score\n",
        "from sklearn.model_selection import train_test_split\n"
      ]
    },
    {
      "cell_type": "code",
      "source": [
        "#reading the data from the csv file\n",
        "df = pd.read_csv('10YearPeriodHIV-describe.csv')\n",
        "df.info()\n",
        "def estimate_coef(x, y):\n",
        "\t# number of observations/points\n",
        "\tn = np.size(x)\n",
        "\n",
        "\t# mean of x and y vector\n",
        "\tm_x = np.mean(x)\n",
        "\tm_y = np.mean(y)\n",
        "\n",
        "\t# calculating cross-deviation and deviation about x\n",
        "\tSS_xy = np.sum(y*x) - n*m_y*m_x\n",
        "\tSS_xx = np.sum(x*x) - n*m_x*m_x\n",
        "\n",
        "\t# calculating regression coefficients\n",
        "\tb_1 = SS_xy / SS_xx\n",
        "\tb_0 = m_y - b_1*m_x\n",
        "\n",
        "\treturn (b_0, b_1)"
      ],
      "metadata": {
        "colab": {
          "base_uri": "https://localhost:8080/"
        },
        "id": "Ub0MGS9ExEBk",
        "outputId": "3611cd83-e666-4ab0-95ed-de14ee672852"
      },
      "execution_count": null,
      "outputs": [
        {
          "output_type": "stream",
          "name": "stdout",
          "text": [
            "<class 'pandas.core.frame.DataFrame'>\n",
            "RangeIndex: 11 entries, 0 to 10\n",
            "Data columns (total 5 columns):\n",
            " #   Column              Non-Null Count  Dtype  \n",
            "---  ------              --------------  -----  \n",
            " 0   Period              11 non-null     int64  \n",
            " 1   ART_mean            11 non-null     float64\n",
            " 2   Death_mean          11 non-null     float64\n",
            " 3   HIVpopulation_mean  11 non-null     float64\n",
            " 4   Population_mean     11 non-null     float64\n",
            "dtypes: float64(4), int64(1)\n",
            "memory usage: 568.0 bytes\n"
          ]
        }
      ]
    },
    {
      "cell_type": "code",
      "source": [
        "df.head()\n"
      ],
      "metadata": {
        "colab": {
          "base_uri": "https://localhost:8080/",
          "height": 206
        },
        "id": "oFvhafrHxh4c",
        "outputId": "0ca3ef9f-7ec6-4d22-b0f0-01638ee99a02"
      },
      "execution_count": null,
      "outputs": [
        {
          "output_type": "execute_result",
          "data": {
            "text/plain": [
              "   Period  ART_mean  Death_mean  HIVpopulation_mean  Population_mean\n",
              "0    2011    30.573    5313.600          144875.200       15454060.0\n",
              "1    2012    33.760    4877.866          146104.266       15714790.0\n",
              "2    2013    37.080    4498.600          149145.466       15980280.0\n",
              "3    2014    40.480    4259.600          152060.667       16251110.0\n",
              "4    2015    44.253    4071.600          152944.667       16526480.0"
            ],
            "text/html": [
              "\n",
              "  <div id=\"df-2b4178c8-368f-458d-bdb4-2cbc5528dd10\">\n",
              "    <div class=\"colab-df-container\">\n",
              "      <div>\n",
              "<style scoped>\n",
              "    .dataframe tbody tr th:only-of-type {\n",
              "        vertical-align: middle;\n",
              "    }\n",
              "\n",
              "    .dataframe tbody tr th {\n",
              "        vertical-align: top;\n",
              "    }\n",
              "\n",
              "    .dataframe thead th {\n",
              "        text-align: right;\n",
              "    }\n",
              "</style>\n",
              "<table border=\"1\" class=\"dataframe\">\n",
              "  <thead>\n",
              "    <tr style=\"text-align: right;\">\n",
              "      <th></th>\n",
              "      <th>Period</th>\n",
              "      <th>ART_mean</th>\n",
              "      <th>Death_mean</th>\n",
              "      <th>HIVpopulation_mean</th>\n",
              "      <th>Population_mean</th>\n",
              "    </tr>\n",
              "  </thead>\n",
              "  <tbody>\n",
              "    <tr>\n",
              "      <th>0</th>\n",
              "      <td>2011</td>\n",
              "      <td>30.573</td>\n",
              "      <td>5313.600</td>\n",
              "      <td>144875.200</td>\n",
              "      <td>15454060.0</td>\n",
              "    </tr>\n",
              "    <tr>\n",
              "      <th>1</th>\n",
              "      <td>2012</td>\n",
              "      <td>33.760</td>\n",
              "      <td>4877.866</td>\n",
              "      <td>146104.266</td>\n",
              "      <td>15714790.0</td>\n",
              "    </tr>\n",
              "    <tr>\n",
              "      <th>2</th>\n",
              "      <td>2013</td>\n",
              "      <td>37.080</td>\n",
              "      <td>4498.600</td>\n",
              "      <td>149145.466</td>\n",
              "      <td>15980280.0</td>\n",
              "    </tr>\n",
              "    <tr>\n",
              "      <th>3</th>\n",
              "      <td>2014</td>\n",
              "      <td>40.480</td>\n",
              "      <td>4259.600</td>\n",
              "      <td>152060.667</td>\n",
              "      <td>16251110.0</td>\n",
              "    </tr>\n",
              "    <tr>\n",
              "      <th>4</th>\n",
              "      <td>2015</td>\n",
              "      <td>44.253</td>\n",
              "      <td>4071.600</td>\n",
              "      <td>152944.667</td>\n",
              "      <td>16526480.0</td>\n",
              "    </tr>\n",
              "  </tbody>\n",
              "</table>\n",
              "</div>\n",
              "      <button class=\"colab-df-convert\" onclick=\"convertToInteractive('df-2b4178c8-368f-458d-bdb4-2cbc5528dd10')\"\n",
              "              title=\"Convert this dataframe to an interactive table.\"\n",
              "              style=\"display:none;\">\n",
              "        \n",
              "  <svg xmlns=\"http://www.w3.org/2000/svg\" height=\"24px\"viewBox=\"0 0 24 24\"\n",
              "       width=\"24px\">\n",
              "    <path d=\"M0 0h24v24H0V0z\" fill=\"none\"/>\n",
              "    <path d=\"M18.56 5.44l.94 2.06.94-2.06 2.06-.94-2.06-.94-.94-2.06-.94 2.06-2.06.94zm-11 1L8.5 8.5l.94-2.06 2.06-.94-2.06-.94L8.5 2.5l-.94 2.06-2.06.94zm10 10l.94 2.06.94-2.06 2.06-.94-2.06-.94-.94-2.06-.94 2.06-2.06.94z\"/><path d=\"M17.41 7.96l-1.37-1.37c-.4-.4-.92-.59-1.43-.59-.52 0-1.04.2-1.43.59L10.3 9.45l-7.72 7.72c-.78.78-.78 2.05 0 2.83L4 21.41c.39.39.9.59 1.41.59.51 0 1.02-.2 1.41-.59l7.78-7.78 2.81-2.81c.8-.78.8-2.07 0-2.86zM5.41 20L4 18.59l7.72-7.72 1.47 1.35L5.41 20z\"/>\n",
              "  </svg>\n",
              "      </button>\n",
              "      \n",
              "  <style>\n",
              "    .colab-df-container {\n",
              "      display:flex;\n",
              "      flex-wrap:wrap;\n",
              "      gap: 12px;\n",
              "    }\n",
              "\n",
              "    .colab-df-convert {\n",
              "      background-color: #E8F0FE;\n",
              "      border: none;\n",
              "      border-radius: 50%;\n",
              "      cursor: pointer;\n",
              "      display: none;\n",
              "      fill: #1967D2;\n",
              "      height: 32px;\n",
              "      padding: 0 0 0 0;\n",
              "      width: 32px;\n",
              "    }\n",
              "\n",
              "    .colab-df-convert:hover {\n",
              "      background-color: #E2EBFA;\n",
              "      box-shadow: 0px 1px 2px rgba(60, 64, 67, 0.3), 0px 1px 3px 1px rgba(60, 64, 67, 0.15);\n",
              "      fill: #174EA6;\n",
              "    }\n",
              "\n",
              "    [theme=dark] .colab-df-convert {\n",
              "      background-color: #3B4455;\n",
              "      fill: #D2E3FC;\n",
              "    }\n",
              "\n",
              "    [theme=dark] .colab-df-convert:hover {\n",
              "      background-color: #434B5C;\n",
              "      box-shadow: 0px 1px 3px 1px rgba(0, 0, 0, 0.15);\n",
              "      filter: drop-shadow(0px 1px 2px rgba(0, 0, 0, 0.3));\n",
              "      fill: #FFFFFF;\n",
              "    }\n",
              "  </style>\n",
              "\n",
              "      <script>\n",
              "        const buttonEl =\n",
              "          document.querySelector('#df-2b4178c8-368f-458d-bdb4-2cbc5528dd10 button.colab-df-convert');\n",
              "        buttonEl.style.display =\n",
              "          google.colab.kernel.accessAllowed ? 'block' : 'none';\n",
              "\n",
              "        async function convertToInteractive(key) {\n",
              "          const element = document.querySelector('#df-2b4178c8-368f-458d-bdb4-2cbc5528dd10');\n",
              "          const dataTable =\n",
              "            await google.colab.kernel.invokeFunction('convertToInteractive',\n",
              "                                                     [key], {});\n",
              "          if (!dataTable) return;\n",
              "\n",
              "          const docLinkHtml = 'Like what you see? Visit the ' +\n",
              "            '<a target=\"_blank\" href=https://colab.research.google.com/notebooks/data_table.ipynb>data table notebook</a>'\n",
              "            + ' to learn more about interactive tables.';\n",
              "          element.innerHTML = '';\n",
              "          dataTable['output_type'] = 'display_data';\n",
              "          await google.colab.output.renderOutput(dataTable, element);\n",
              "          const docLink = document.createElement('div');\n",
              "          docLink.innerHTML = docLinkHtml;\n",
              "          element.appendChild(docLink);\n",
              "        }\n",
              "      </script>\n",
              "    </div>\n",
              "  </div>\n",
              "  "
            ]
          },
          "metadata": {},
          "execution_count": 8
        }
      ]
    },
    {
      "cell_type": "code",
      "source": [
        "X = df['Period']\n",
        "y = df['ART_mean']\n",
        "\n",
        "X_train, X_test, y_train, y_test = train_test_split(X, y, test_size=0.3,random_state=42) # Split data into training and testing sets.\n",
        "\n",
        "#Linear\n",
        "n = X_train.shape[0]\n",
        "A = np.ones((n,2))\n",
        "A[:,1] = X_train\n",
        "c = np.linalg.lstsq(A,y_train,rcond=-1)[0]\n",
        "print(f\"Gradient: {c[1]}, y-intercept: {c[0]}\")\n",
        "y_linear = c[1] * X + c[0]"
      ],
      "metadata": {
        "colab": {
          "base_uri": "https://localhost:8080/"
        },
        "id": "E4WyJvxuxI6c",
        "outputId": "aea4f1f9-fc39-4c75-e5c3-df4906f62f91"
      },
      "execution_count": null,
      "outputs": [
        {
          "output_type": "stream",
          "name": "stdout",
          "text": [
            "Gradient: 3.939071917808252, y-intercept: -7892.319945205546\n"
          ]
        }
      ]
    },
    {
      "cell_type": "code",
      "source": [
        "#Plotting Fits\n",
        "fig = plt.figure()\n",
        "ax = fig.add_subplot(1,1,1)\n",
        "ax.plot(X,y_linear,'-',label=\"Linear\")\n",
        "plt.xlabel(\"Period\")\n",
        "plt.ylabel(\"ART\")\n",
        "plt.scatter(X,y)\n",
        "plt.title(\"ART coverage among the year in 75 countries\")\n",
        "ax.legend()"
      ],
      "metadata": {
        "colab": {
          "base_uri": "https://localhost:8080/",
          "height": 313
        },
        "id": "cod7huFzxK1D",
        "outputId": "a86cbdaa-7478-4eed-f8d0-ffbec3e0ef12"
      },
      "execution_count": null,
      "outputs": [
        {
          "output_type": "execute_result",
          "data": {
            "text/plain": [
              "<matplotlib.legend.Legend at 0x7f13ebe7fd30>"
            ]
          },
          "metadata": {},
          "execution_count": 10
        },
        {
          "output_type": "display_data",
          "data": {
            "text/plain": [
              "<Figure size 432x288 with 1 Axes>"
            ],
            "image/png": "[encoded data removed]"
          },
          "metadata": {
            "needs_background": "light"
          }
        }
      ]
    },
    {
      "cell_type": "code",
      "source": [
        "# Testing\n",
        "\n",
        "y_linear = c[1] * X_test + c[0]\n",
        "print(r2_score(y_test,y_linear)) # model has a positive r2 score. The model has succeded."
      ],
      "metadata": {
        "colab": {
          "base_uri": "https://localhost:8080/"
        },
        "id": "UZWvydUExsf1",
        "outputId": "df751d35-ae7d-413a-f4bf-434c1d08906a"
      },
      "execution_count": null,
      "outputs": [
        {
          "output_type": "stream",
          "name": "stdout",
          "text": [
            "0.9853839213247292\n"
          ]
        }
      ]
    },
    {
      "cell_type": "code",
      "source": [
        "# Predictions\n",
        "X_max = 2021\n",
        "\n",
        "X_predict = np.arange(X_max, X_max+5,1) \n",
        "# Predicting HIV increase in the next 5 years\n",
        "\n",
        "y_predict = c[1] * X_predict + c[0]\n",
        "df_predict = pd.DataFrame(data={'Period': X_predict, 'ART coverage':y_predict})\n",
        "\n",
        "\n",
        "\n",
        "print(df_predict)\n",
        "\n",
        "# Plotting results of regression\n",
        "plt.plot(X_predict,y_predict,'-')\n",
        "plt.xlabel(\"Period\")\n",
        "plt.ylabel(\"ART coverage\")\n",
        "plt.title(\"ART coverage in 5 years among 75 countries \")"
      ],
      "metadata": {
        "colab": {
          "base_uri": "https://localhost:8080/",
          "height": 424
        },
        "id": "36pAWSZzxO3o",
        "outputId": "2b7c7bfb-b059-4f06-a41b-ed8c264faba0"
      },
      "execution_count": null,
      "outputs": [
        {
          "output_type": "stream",
          "name": "stdout",
          "text": [
            "   Period  ART coverage\n",
            "0    2021     68.544401\n",
            "1    2022     72.483473\n",
            "2    2023     76.422545\n",
            "3    2024     80.361616\n",
            "4    2025     84.300688\n"
          ]
        },
        {
          "output_type": "execute_result",
          "data": {
            "text/plain": [
              "Text(0.5, 1.0, 'ART coverage in 5 years among 75 countries ')"
            ]
          },
          "metadata": {},
          "execution_count": 12
        },
        {
          "output_type": "display_data",
          "data": {
            "text/plain": [
              "<Figure size 432x288 with 1 Axes>"
            ],
            "image/png": "[encoded data removed]"
          },
          "metadata": {
            "needs_background": "light"
          }
        }
      ]
    },
    {
      "cell_type": "code",
      "source": [],
      "metadata": {
        "id": "MiBhjGTzyBML"
      },
      "execution_count": null,
      "outputs": []
    }
  ]
}