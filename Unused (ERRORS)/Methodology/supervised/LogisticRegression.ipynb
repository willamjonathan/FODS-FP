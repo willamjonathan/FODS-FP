{
  "nbformat": 4,
  "nbformat_minor": 0,
  "metadata": {
    "colab": {
      "provenance": []
    },
    "kernelspec": {
      "name": "python3",
      "display_name": "Python 3"
    },
    "language_info": {
      "name": "python"
    }
  },
  "cells": [
    {
      "cell_type": "code",
      "execution_count": null,
      "metadata": {
        "id": "5pyx2Vk3j6B4"
      },
      "outputs": [],
      "source": [
        "import numpy as np\n",
        "import matplotlib.pyplot as plt\n",
        "import pandas as pd\n",
        "from sklearn.linear_model import LogisticRegression\n",
        "from sklearn.metrics import classification_report, confusion_matrix\n",
        "from scipy.special import expit\n",
        "from sklearn.model_selection import train_test_split"
      ]
    },
    {
      "cell_type": "code",
      "source": [
        "#reading the data from the csv file\n",
        "df = pd.read_csv('10YearHIV-5columns.csv')\n",
        "df.info()"
      ],
      "metadata": {
        "colab": {
          "base_uri": "https://localhost:8080/"
        },
        "id": "HEfZIT9-kAA4",
        "outputId": "02b0f2e6-87d5-42bf-d1fc-6acac2f9d223"
      },
      "execution_count": null,
      "outputs": [
        {
          "output_type": "stream",
          "name": "stdout",
          "text": [
            "<class 'pandas.core.frame.DataFrame'>\n",
            "RangeIndex: 825 entries, 0 to 824\n",
            "Data columns (total 6 columns):\n",
            " #   Column             Non-Null Count  Dtype \n",
            "---  ------             --------------  ----- \n",
            " 0   Location           825 non-null    object\n",
            " 1   Period             825 non-null    int64 \n",
            " 2   ART coverage       825 non-null    int64 \n",
            " 3   Death by HIV       825 non-null    int64 \n",
            " 4   People with HIV    825 non-null    int64 \n",
            " 5   Total Population   825 non-null    int64 \n",
            "dtypes: int64(5), object(1)\n",
            "memory usage: 38.8+ KB\n"
          ]
        }
      ]
    },
    {
      "cell_type": "code",
      "source": [
        "df.describe()"
      ],
      "metadata": {
        "colab": {
          "base_uri": "https://localhost:8080/",
          "height": 300
        },
        "id": "K1vDxKhOks2P",
        "outputId": "72ce3945-8c8d-45de-9063-4aa579635d29"
      },
      "execution_count": null,
      "outputs": [
        {
          "output_type": "execute_result",
          "data": {
            "text/plain": [
              "            Period  ART coverage   Death by HIV   People with HIV   \\\n",
              "count   825.000000     825.000000     825.000000      8.250000e+02   \n",
              "mean   2016.000000      48.585455    3893.042424      1.550341e+05   \n",
              "std       3.164196      21.410692    7755.091505      3.230039e+05   \n",
              "min    2011.000000       2.000000     100.000000      2.000000e+02   \n",
              "25%    2013.000000      33.000000     100.000000      3.400000e+03   \n",
              "50%    2016.000000      48.000000     500.000000      1.700000e+04   \n",
              "75%    2019.000000      64.000000    3400.000000      1.100000e+05   \n",
              "max    2021.000000      98.000000   51000.000000      1.400000e+06   \n",
              "\n",
              "       Total Population   \n",
              "count       8.250000e+02  \n",
              "mean        1.682543e+07  \n",
              "std         2.993608e+07  \n",
              "min         2.829870e+05  \n",
              "25%         2.781682e+06  \n",
              "50%         8.252828e+06  \n",
              "75%         1.719631e+07  \n",
              "max         2.139934e+08  "
            ],
            "text/html": [
              "\n",
              "  <div id=\"df-dc30f8cd-ab26-466b-9283-644192958915\">\n",
              "    <div class=\"colab-df-container\">\n",
              "      <div>\n",
              "<style scoped>\n",
              "    .dataframe tbody tr th:only-of-type {\n",
              "        vertical-align: middle;\n",
              "    }\n",
              "\n",
              "    .dataframe tbody tr th {\n",
              "        vertical-align: top;\n",
              "    }\n",
              "\n",
              "    .dataframe thead th {\n",
              "        text-align: right;\n",
              "    }\n",
              "</style>\n",
              "<table border=\"1\" class=\"dataframe\">\n",
              "  <thead>\n",
              "    <tr style=\"text-align: right;\">\n",
              "      <th></th>\n",
              "      <th>Period</th>\n",
              "      <th>ART coverage</th>\n",
              "      <th>Death by HIV</th>\n",
              "      <th>People with HIV</th>\n",
              "      <th>Total Population</th>\n",
              "    </tr>\n",
              "  </thead>\n",
              "  <tbody>\n",
              "    <tr>\n",
              "      <th>count</th>\n",
              "      <td>825.000000</td>\n",
              "      <td>825.000000</td>\n",
              "      <td>825.000000</td>\n",
              "      <td>8.250000e+02</td>\n",
              "      <td>8.250000e+02</td>\n",
              "    </tr>\n",
              "    <tr>\n",
              "      <th>mean</th>\n",
              "      <td>2016.000000</td>\n",
              "      <td>48.585455</td>\n",
              "      <td>3893.042424</td>\n",
              "      <td>1.550341e+05</td>\n",
              "      <td>1.682543e+07</td>\n",
              "    </tr>\n",
              "    <tr>\n",
              "      <th>std</th>\n",
              "      <td>3.164196</td>\n",
              "      <td>21.410692</td>\n",
              "      <td>7755.091505</td>\n",
              "      <td>3.230039e+05</td>\n",
              "      <td>2.993608e+07</td>\n",
              "    </tr>\n",
              "    <tr>\n",
              "      <th>min</th>\n",
              "      <td>2011.000000</td>\n",
              "      <td>2.000000</td>\n",
              "      <td>100.000000</td>\n",
              "      <td>2.000000e+02</td>\n",
              "      <td>2.829870e+05</td>\n",
              "    </tr>\n",
              "    <tr>\n",
              "      <th>25%</th>\n",
              "      <td>2013.000000</td>\n",
              "      <td>33.000000</td>\n",
              "      <td>100.000000</td>\n",
              "      <td>3.400000e+03</td>\n",
              "      <td>2.781682e+06</td>\n",
              "    </tr>\n",
              "    <tr>\n",
              "      <th>50%</th>\n",
              "      <td>2016.000000</td>\n",
              "      <td>48.000000</td>\n",
              "      <td>500.000000</td>\n",
              "      <td>1.700000e+04</td>\n",
              "      <td>8.252828e+06</td>\n",
              "    </tr>\n",
              "    <tr>\n",
              "      <th>75%</th>\n",
              "      <td>2019.000000</td>\n",
              "      <td>64.000000</td>\n",
              "      <td>3400.000000</td>\n",
              "      <td>1.100000e+05</td>\n",
              "      <td>1.719631e+07</td>\n",
              "    </tr>\n",
              "    <tr>\n",
              "      <th>max</th>\n",
              "      <td>2021.000000</td>\n",
              "      <td>98.000000</td>\n",
              "      <td>51000.000000</td>\n",
              "      <td>1.400000e+06</td>\n",
              "      <td>2.139934e+08</td>\n",
              "    </tr>\n",
              "  </tbody>\n",
              "</table>\n",
              "</div>\n",
              "      <button class=\"colab-df-convert\" onclick=\"convertToInteractive('df-dc30f8cd-ab26-466b-9283-644192958915')\"\n",
              "              title=\"Convert this dataframe to an interactive table.\"\n",
              "              style=\"display:none;\">\n",
              "        \n",
              "  <svg xmlns=\"http://www.w3.org/2000/svg\" height=\"24px\"viewBox=\"0 0 24 24\"\n",
              "       width=\"24px\">\n",
              "    <path d=\"M0 0h24v24H0V0z\" fill=\"none\"/>\n",
              "    <path d=\"M18.56 5.44l.94 2.06.94-2.06 2.06-.94-2.06-.94-.94-2.06-.94 2.06-2.06.94zm-11 1L8.5 8.5l.94-2.06 2.06-.94-2.06-.94L8.5 2.5l-.94 2.06-2.06.94zm10 10l.94 2.06.94-2.06 2.06-.94-2.06-.94-.94-2.06-.94 2.06-2.06.94z\"/><path d=\"M17.41 7.96l-1.37-1.37c-.4-.4-.92-.59-1.43-.59-.52 0-1.04.2-1.43.59L10.3 9.45l-7.72 7.72c-.78.78-.78 2.05 0 2.83L4 21.41c.39.39.9.59 1.41.59.51 0 1.02-.2 1.41-.59l7.78-7.78 2.81-2.81c.8-.78.8-2.07 0-2.86zM5.41 20L4 18.59l7.72-7.72 1.47 1.35L5.41 20z\"/>\n",
              "  </svg>\n",
              "      </button>\n",
              "      \n",
              "  <style>\n",
              "    .colab-df-container {\n",
              "      display:flex;\n",
              "      flex-wrap:wrap;\n",
              "      gap: 12px;\n",
              "    }\n",
              "\n",
              "    .colab-df-convert {\n",
              "      background-color: #E8F0FE;\n",
              "      border: none;\n",
              "      border-radius: 50%;\n",
              "      cursor: pointer;\n",
              "      display: none;\n",
              "      fill: #1967D2;\n",
              "      height: 32px;\n",
              "      padding: 0 0 0 0;\n",
              "      width: 32px;\n",
              "    }\n",
              "\n",
              "    .colab-df-convert:hover {\n",
              "      background-color: #E2EBFA;\n",
              "      box-shadow: 0px 1px 2px rgba(60, 64, 67, 0.3), 0px 1px 3px 1px rgba(60, 64, 67, 0.15);\n",
              "      fill: #174EA6;\n",
              "    }\n",
              "\n",
              "    [theme=dark] .colab-df-convert {\n",
              "      background-color: #3B4455;\n",
              "      fill: #D2E3FC;\n",
              "    }\n",
              "\n",
              "    [theme=dark] .colab-df-convert:hover {\n",
              "      background-color: #434B5C;\n",
              "      box-shadow: 0px 1px 3px 1px rgba(0, 0, 0, 0.15);\n",
              "      filter: drop-shadow(0px 1px 2px rgba(0, 0, 0, 0.3));\n",
              "      fill: #FFFFFF;\n",
              "    }\n",
              "  </style>\n",
              "\n",
              "      <script>\n",
              "        const buttonEl =\n",
              "          document.querySelector('#df-dc30f8cd-ab26-466b-9283-644192958915 button.colab-df-convert');\n",
              "        buttonEl.style.display =\n",
              "          google.colab.kernel.accessAllowed ? 'block' : 'none';\n",
              "\n",
              "        async function convertToInteractive(key) {\n",
              "          const element = document.querySelector('#df-dc30f8cd-ab26-466b-9283-644192958915');\n",
              "          const dataTable =\n",
              "            await google.colab.kernel.invokeFunction('convertToInteractive',\n",
              "                                                     [key], {});\n",
              "          if (!dataTable) return;\n",
              "\n",
              "          const docLinkHtml = 'Like what you see? Visit the ' +\n",
              "            '<a target=\"_blank\" href=https://colab.research.google.com/notebooks/data_table.ipynb>data table notebook</a>'\n",
              "            + ' to learn more about interactive tables.';\n",
              "          element.innerHTML = '';\n",
              "          dataTable['output_type'] = 'display_data';\n",
              "          await google.colab.output.renderOutput(dataTable, element);\n",
              "          const docLink = document.createElement('div');\n",
              "          docLink.innerHTML = docLinkHtml;\n",
              "          element.appendChild(docLink);\n",
              "        }\n",
              "      </script>\n",
              "    </div>\n",
              "  </div>\n",
              "  "
            ]
          },
          "metadata": {},
          "execution_count": 3
        }
      ]
    },
    {
      "cell_type": "code",
      "source": [
        "df['Index'] = 'Major'\n",
        "df.loc[df['Death by HIV ']<= 2300\t,'Index'] =\"Minor\" \n",
        "X = df.iloc[:,[2,4,5]]#features\n",
        "y = df['Index']#target\n",
        "print(y)"
      ],
      "metadata": {
        "id": "sLz-lBlDk2bu",
        "colab": {
          "base_uri": "https://localhost:8080/"
        },
        "outputId": "a3dad92b-beca-44c6-8c5e-7d7f92926c43"
      },
      "execution_count": null,
      "outputs": [
        {
          "output_type": "stream",
          "name": "stdout",
          "text": [
            "0      Minor\n",
            "1      Minor\n",
            "2      Major\n",
            "3      Major\n",
            "4      Minor\n",
            "       ...  \n",
            "820    Minor\n",
            "821    Minor\n",
            "822    Minor\n",
            "823    Minor\n",
            "824    Minor\n",
            "Name: Index, Length: 825, dtype: object\n"
          ]
        }
      ]
    },
    {
      "cell_type": "code",
      "source": [
        "X_train, X_test, y_train, y_test = train_test_split(X, y, test_size = 0.3, random_state = 42)"
      ],
      "metadata": {
        "id": "NcNAmShQ1TzT"
      },
      "execution_count": null,
      "outputs": []
    },
    {
      "cell_type": "code",
      "source": [
        "from sklearn.preprocessing import StandardScaler\n",
        "sc_x = StandardScaler()\n",
        "X_train = sc_x.fit_transform(X_train)\n",
        "X_test = sc_x.transform(X_test)"
      ],
      "metadata": {
        "id": "RRY5NH8u1akb"
      },
      "execution_count": null,
      "outputs": []
    },
    {
      "cell_type": "code",
      "source": [
        "from sklearn import linear_model\n",
        "from sklearn.model_selection import GridSearchCV\n",
        "\n",
        "\n",
        "model_train =linear_model.LogisticRegression(random_state = 42)\n",
        "model_train.fit(X_train,y_train)\n",
        "\n"
      ],
      "metadata": {
        "colab": {
          "base_uri": "https://localhost:8080/"
        },
        "id": "43iPc8Ws1daC",
        "outputId": "4c129b36-9d74-4da9-9637-56b6f97f3959"
      },
      "execution_count": null,
      "outputs": [
        {
          "output_type": "execute_result",
          "data": {
            "text/plain": [
              "LogisticRegression(random_state=42)"
            ]
          },
          "metadata": {},
          "execution_count": 19
        }
      ]
    },
    {
      "cell_type": "code",
      "source": [
        "\n",
        "predictions = model_train.predict(X_test)\n",
        "predictions"
      ],
      "metadata": {
        "colab": {
          "base_uri": "https://localhost:8080/"
        },
        "id": "brwM6ItX1-UZ",
        "outputId": "819e7be0-3297-45c4-af3f-8a173a15e816"
      },
      "execution_count": null,
      "outputs": [
        {
          "output_type": "execute_result",
          "data": {
            "text/plain": [
              "array(['Minor', 'Minor', 'Minor', 'Minor', 'Minor', 'Major', 'Major',\n",
              "       'Minor', 'Major', 'Minor', 'Major', 'Minor', 'Major', 'Major',\n",
              "       'Minor', 'Minor', 'Minor', 'Minor', 'Major', 'Minor', 'Minor',\n",
              "       'Major', 'Minor', 'Major', 'Minor', 'Minor', 'Minor', 'Minor',\n",
              "       'Minor', 'Minor', 'Minor', 'Major', 'Minor', 'Minor', 'Minor',\n",
              "       'Minor', 'Major', 'Minor', 'Minor', 'Minor', 'Major', 'Minor',\n",
              "       'Minor', 'Minor', 'Minor', 'Major', 'Minor', 'Minor', 'Major',\n",
              "       'Minor', 'Minor', 'Minor', 'Minor', 'Minor', 'Major', 'Major',\n",
              "       'Minor', 'Major', 'Minor', 'Minor', 'Minor', 'Major', 'Minor',\n",
              "       'Minor', 'Minor', 'Minor', 'Minor', 'Major', 'Minor', 'Minor',\n",
              "       'Minor', 'Minor', 'Minor', 'Minor', 'Minor', 'Minor', 'Major',\n",
              "       'Minor', 'Minor', 'Minor', 'Minor', 'Minor', 'Major', 'Minor',\n",
              "       'Major', 'Minor', 'Major', 'Minor', 'Minor', 'Minor', 'Minor',\n",
              "       'Minor', 'Major', 'Minor', 'Major', 'Minor', 'Minor', 'Major',\n",
              "       'Minor', 'Minor', 'Minor', 'Minor', 'Minor', 'Minor', 'Minor',\n",
              "       'Minor', 'Minor', 'Minor', 'Minor', 'Major', 'Minor', 'Minor',\n",
              "       'Major', 'Minor', 'Minor', 'Minor', 'Minor', 'Major', 'Minor',\n",
              "       'Minor', 'Minor', 'Minor', 'Minor', 'Minor', 'Major', 'Major',\n",
              "       'Major', 'Minor', 'Minor', 'Major', 'Minor', 'Minor', 'Minor',\n",
              "       'Minor', 'Major', 'Major', 'Minor', 'Minor', 'Minor', 'Major',\n",
              "       'Minor', 'Minor', 'Major', 'Major', 'Major', 'Minor', 'Major',\n",
              "       'Minor', 'Minor', 'Minor', 'Major', 'Major', 'Minor', 'Minor',\n",
              "       'Major', 'Minor', 'Major', 'Major', 'Minor', 'Minor', 'Major',\n",
              "       'Major', 'Minor', 'Minor', 'Major', 'Minor', 'Minor', 'Major',\n",
              "       'Major', 'Minor', 'Minor', 'Minor', 'Minor', 'Minor', 'Major',\n",
              "       'Minor', 'Minor', 'Major', 'Minor', 'Minor', 'Major', 'Minor',\n",
              "       'Minor', 'Minor', 'Major', 'Minor', 'Major', 'Minor', 'Minor',\n",
              "       'Major', 'Minor', 'Minor', 'Major', 'Major', 'Minor', 'Minor',\n",
              "       'Major', 'Minor', 'Minor', 'Minor', 'Minor', 'Minor', 'Major',\n",
              "       'Major', 'Minor', 'Minor', 'Minor', 'Minor', 'Major', 'Major',\n",
              "       'Minor', 'Minor', 'Minor', 'Minor', 'Minor', 'Major', 'Minor',\n",
              "       'Minor', 'Minor', 'Major', 'Minor', 'Major', 'Minor', 'Minor',\n",
              "       'Minor', 'Major', 'Minor', 'Minor', 'Minor', 'Minor', 'Minor',\n",
              "       'Major', 'Minor', 'Major', 'Major', 'Major', 'Minor', 'Minor',\n",
              "       'Major', 'Minor', 'Minor', 'Minor', 'Minor', 'Minor', 'Minor',\n",
              "       'Minor', 'Minor', 'Minor'], dtype=object)"
            ]
          },
          "metadata": {},
          "execution_count": 20
        }
      ]
    },
    {
      "cell_type": "code",
      "source": [
        "# Function to calculate accuracy\n",
        "def Report(y_test, y_pred):\n",
        "    print(\"Report : \",\n",
        "    classification_report(y_test, y_pred))"
      ],
      "metadata": {
        "id": "yFIKxQia23Eq"
      },
      "execution_count": null,
      "outputs": []
    },
    {
      "cell_type": "code",
      "source": [
        "from sklearn.metrics import accuracy_score, confusion_matrix\n",
        "\n",
        "print(\"Trained acc: \", accuracy_score(y_train, model_train.predict(X_train)))\n",
        "print(\"Test accuracy:\", accuracy_score(y_test, predictions))\n",
        "print(\"Confusion matrix train: \", \"\\n\", confusion_matrix(y_train, model_train.predict(X_train)))\n",
        "print(\"Confusion matrix test: \", \"\\n\",confusion_matrix(y_test, predictions))\n",
        "# underfitting test> trained\n"
      ],
      "metadata": {
        "colab": {
          "base_uri": "https://localhost:8080/"
        },
        "id": "YntzT1es2T5K",
        "outputId": "98c4bb6e-91d0-42ba-8c8e-8e70a7d42feb"
      },
      "execution_count": null,
      "outputs": [
        {
          "output_type": "stream",
          "name": "stdout",
          "text": [
            "Trained acc:  0.9046793760831889\n",
            "Test accuracy: 0.9112903225806451\n",
            "Confusion matrix train:  \n",
            " [[143  46]\n",
            " [  9 379]]\n",
            "Confusion matrix test:  \n",
            " [[ 65  15]\n",
            " [  7 161]]\n"
          ]
        }
      ]
    },
    {
      "cell_type": "code",
      "source": [
        "from sklearn.metrics import classification_report\n",
        "print(Report(y_train, model_train.predict(X_train)))\n",
        "print(\"---------------------------------------------------------\")\n",
        "print(Report(y_test, predictions))"
      ],
      "metadata": {
        "colab": {
          "base_uri": "https://localhost:8080/"
        },
        "id": "BVCEmbd62dQr",
        "outputId": "2d3382b2-754b-4a15-f69b-aa570662d184"
      },
      "execution_count": null,
      "outputs": [
        {
          "output_type": "stream",
          "name": "stdout",
          "text": [
            "Report :                precision    recall  f1-score   support\n",
            "\n",
            "       Major       0.94      0.76      0.84       189\n",
            "       Minor       0.89      0.98      0.93       388\n",
            "\n",
            "    accuracy                           0.90       577\n",
            "   macro avg       0.92      0.87      0.89       577\n",
            "weighted avg       0.91      0.90      0.90       577\n",
            "\n",
            "None\n",
            "---------------------------------------------------------\n",
            "Report :                precision    recall  f1-score   support\n",
            "\n",
            "       Major       0.90      0.81      0.86        80\n",
            "       Minor       0.91      0.96      0.94       168\n",
            "\n",
            "    accuracy                           0.91       248\n",
            "   macro avg       0.91      0.89      0.90       248\n",
            "weighted avg       0.91      0.91      0.91       248\n",
            "\n",
            "None\n"
          ]
        }
      ]
    }
  ]
}