{
  "nbformat": 4,
  "nbformat_minor": 0,
  "metadata": {
    "colab": {
      "provenance": []
    },
    "kernelspec": {
      "name": "python3",
      "display_name": "Python 3"
    },
    "language_info": {
      "name": "python"
    }
  },
  "cells": [
    {
      "cell_type": "code",
      "execution_count": null,
      "metadata": {
        "id": "aF5f_elpwE7T"
      },
      "outputs": [],
      "source": [
        "import numpy as np\n",
        "import matplotlib.pyplot as plt\n",
        "import pandas as pd\n",
        "from sklearn.metrics import accuracy_score\n",
        "from sklearn.metrics import classification_report, confusion_matrix\n",
        "from scipy.special import expit\n",
        "from sklearn.model_selection import train_test_split\n",
        "from sklearn.tree import DecisionTreeClassifier"
      ]
    },
    {
      "cell_type": "code",
      "source": [
        "#reading the data from the csv file\n",
        "df = pd.read_csv('10YearHIV-5columns.csv')\n",
        "df.info()"
      ],
      "metadata": {
        "colab": {
          "base_uri": "https://localhost:8080/"
        },
        "id": "WxwGYa4mwjea",
        "outputId": "ec64a217-6f54-4c7e-a973-50aa197e70b4"
      },
      "execution_count": null,
      "outputs": [
        {
          "output_type": "stream",
          "name": "stdout",
          "text": [
            "<class 'pandas.core.frame.DataFrame'>\n",
            "RangeIndex: 825 entries, 0 to 824\n",
            "Data columns (total 6 columns):\n",
            " #   Column             Non-Null Count  Dtype \n",
            "---  ------             --------------  ----- \n",
            " 0   Location           825 non-null    object\n",
            " 1   Period             825 non-null    int64 \n",
            " 2   ART coverage       825 non-null    int64 \n",
            " 3   Death by HIV       825 non-null    int64 \n",
            " 4   People with HIV    825 non-null    int64 \n",
            " 5   Total Population   825 non-null    int64 \n",
            "dtypes: int64(5), object(1)\n",
            "memory usage: 38.8+ KB\n"
          ]
        }
      ]
    },
    {
      "cell_type": "code",
      "source": [
        "df['Index'] = 'Major'\n",
        "df.loc[df['Death by HIV ']<= 2300\t,'Index'] =\"Minor\" \n",
        "X = df.iloc[:,[2,4,5]]#features\n",
        "y = df['Index']#target\n",
        "print(y)"
      ],
      "metadata": {
        "id": "eL-61QlcwuMG",
        "colab": {
          "base_uri": "https://localhost:8080/"
        },
        "outputId": "1575858f-0f84-4b7f-fa1f-6824f10fae2f"
      },
      "execution_count": null,
      "outputs": [
        {
          "output_type": "stream",
          "name": "stdout",
          "text": [
            "0      Minor\n",
            "1      Minor\n",
            "2      Major\n",
            "3      Major\n",
            "4      Minor\n",
            "       ...  \n",
            "820    Minor\n",
            "821    Minor\n",
            "822    Minor\n",
            "823    Minor\n",
            "824    Minor\n",
            "Name: Index, Length: 825, dtype: object\n"
          ]
        }
      ]
    },
    {
      "cell_type": "code",
      "source": [
        "# Splitting the data to trained data and tested data\n",
        "X_train, X_test, y_train, y_test = train_test_split(X,y, test_size=0.3, random_state=42)"
      ],
      "metadata": {
        "id": "FtZArCmnxC_c"
      },
      "execution_count": null,
      "outputs": []
    },
    {
      "cell_type": "code",
      "source": [
        "# Creating the classifier object\n",
        "clf_gini = DecisionTreeClassifier(criterion = \"gini\",\n",
        "  random_state = 100,max_depth=3, min_samples_leaf=5)\n",
        "# Performing training\n",
        "clf_gini.fit(X_train, y_train)\n",
        "\n",
        "predictions_gini = clf_gini.predict(X_test)\n",
        "# Decision tree with entropy\n",
        "clf_entropy = DecisionTreeClassifier(\n",
        "            criterion = \"entropy\", random_state = 100,\n",
        "            max_depth = 3, min_samples_leaf = 5)\n",
        "# Performing training\n",
        "clf_entropy.fit(X_train, y_train)\n",
        "predictions_entropy = clf_entropy.predict(X_test)\n",
        "\n",
        "\n",
        "  "
      ],
      "metadata": {
        "id": "gj4hOyj0xQZx"
      },
      "execution_count": null,
      "outputs": []
    },
    {
      "cell_type": "code",
      "source": [
        "def Report(y_test, y_pred):\n",
        "    print(\"Report : \",\n",
        "    classification_report(y_test, y_pred))"
      ],
      "metadata": {
        "id": "M7MuGfzl7dNb"
      },
      "execution_count": null,
      "outputs": []
    },
    {
      "cell_type": "code",
      "source": [
        "print(\"Trained acc clf gini: \", accuracy_score(y_train, clf_gini.predict(X_train)))\n",
        "print(\"Test accuracy clf gini:\", accuracy_score(y_test, predictions_gini))\n",
        "print(\"Confusion matrix train gini: \", \"\\n\", confusion_matrix(y_train, clf_gini.predict(X_train)))\n",
        "print(\"Confusion matrix test gini: \", \"\\n\",confusion_matrix(y_test, predictions_gini))\n",
        "\n",
        "print(\"Trained acc clf entropy: \", accuracy_score(y_train, clf_entropy.predict(X_train)))\n",
        "print(\"Test accuracy clf entropy:\", accuracy_score(y_test, predictions_entropy))\n",
        "print(\"Confusion matrix train entropy: \", \"\\n\", confusion_matrix(y_train, clf_entropy.predict(X_train)))\n",
        "print(\"Confusion matrix test entropy: \", \"\\n\",confusion_matrix(y_test, predictions_entropy))\n",
        "      \n"
      ],
      "metadata": {
        "colab": {
          "base_uri": "https://localhost:8080/"
        },
        "id": "C5efMl6Gxb1k",
        "outputId": "97615cab-1159-4f7c-e5fe-e131f656a898"
      },
      "execution_count": null,
      "outputs": [
        {
          "output_type": "stream",
          "name": "stdout",
          "text": [
            "Trained acc clf gini:  0.9584055459272097\n",
            "Test accuracy clf gini: 0.9314516129032258\n",
            "Confusion matrix train gini:  \n",
            " [[186   3]\n",
            " [ 21 367]]\n",
            "Confusion matrix test gini:  \n",
            " [[ 79   1]\n",
            " [ 16 152]]\n",
            "Trained acc clf entropy:  0.9428076256499134\n",
            "Test accuracy clf entropy: 0.9395161290322581\n",
            "Confusion matrix train entropy:  \n",
            " [[160  29]\n",
            " [  4 384]]\n",
            "Confusion matrix test entropy:  \n",
            " [[ 69  11]\n",
            " [  4 164]]\n"
          ]
        }
      ]
    },
    {
      "cell_type": "code",
      "source": [
        "from sklearn.metrics import classification_report\n",
        "print(\"------------------------GINI-----------------------------\")\n",
        "\n",
        "print(Report(y_train, clf_gini.predict(X_train)))\n",
        "print(\"---------------------------------------------------------\")\n",
        "print(Report(y_test, predictions_gini))\n",
        "print(\"---------------------------------------------------------\")\n",
        "print(\"-----------------------ENTROPY---------------------------\")\n",
        "print(Report(y_train, clf_entropy.predict(X_train)))\n",
        "print(\"---------------------------------------------------------\")\n",
        "print(Report(y_test, predictions_entropy))"
      ],
      "metadata": {
        "id": "4Ft1-TvtxXd8",
        "colab": {
          "base_uri": "https://localhost:8080/"
        },
        "outputId": "9d8a9591-47ed-4940-9185-3ef16fe09047"
      },
      "execution_count": null,
      "outputs": [
        {
          "output_type": "stream",
          "name": "stdout",
          "text": [
            "------------------------GINI-----------------------------\n",
            "Report :                precision    recall  f1-score   support\n",
            "\n",
            "       Major       0.90      0.98      0.94       189\n",
            "       Minor       0.99      0.95      0.97       388\n",
            "\n",
            "    accuracy                           0.96       577\n",
            "   macro avg       0.95      0.97      0.95       577\n",
            "weighted avg       0.96      0.96      0.96       577\n",
            "\n",
            "None\n",
            "---------------------------------------------------------\n",
            "Report :                precision    recall  f1-score   support\n",
            "\n",
            "       Major       0.83      0.99      0.90        80\n",
            "       Minor       0.99      0.90      0.95       168\n",
            "\n",
            "    accuracy                           0.93       248\n",
            "   macro avg       0.91      0.95      0.92       248\n",
            "weighted avg       0.94      0.93      0.93       248\n",
            "\n",
            "None\n",
            "---------------------------------------------------------\n",
            "-----------------------ENTROPY---------------------------\n",
            "Report :                precision    recall  f1-score   support\n",
            "\n",
            "       Major       0.98      0.85      0.91       189\n",
            "       Minor       0.93      0.99      0.96       388\n",
            "\n",
            "    accuracy                           0.94       577\n",
            "   macro avg       0.95      0.92      0.93       577\n",
            "weighted avg       0.94      0.94      0.94       577\n",
            "\n",
            "None\n",
            "---------------------------------------------------------\n",
            "Report :                precision    recall  f1-score   support\n",
            "\n",
            "       Major       0.95      0.86      0.90        80\n",
            "       Minor       0.94      0.98      0.96       168\n",
            "\n",
            "    accuracy                           0.94       248\n",
            "   macro avg       0.94      0.92      0.93       248\n",
            "weighted avg       0.94      0.94      0.94       248\n",
            "\n",
            "None\n"
          ]
        }
      ]
    }
  ]
}